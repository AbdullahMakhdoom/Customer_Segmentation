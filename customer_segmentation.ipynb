{
  "nbformat": 4,
  "nbformat_minor": 0,
  "metadata": {
    "colab": {
      "name": "customer_segmentation.ipynb",
      "provenance": [],
      "collapsed_sections": [],
      "include_colab_link": true
    },
    "kernelspec": {
      "display_name": "Python 3",
      "language": "python",
      "name": "python3"
    },
    "language_info": {
      "codemirror_mode": {
        "name": "ipython",
        "version": 3
      },
      "file_extension": ".py",
      "mimetype": "text/x-python",
      "name": "python",
      "nbconvert_exporter": "python",
      "pygments_lexer": "ipython3",
      "version": "3.7.3"
    }
  },
  "cells": [
    {
      "cell_type": "markdown",
      "metadata": {
        "id": "view-in-github",
        "colab_type": "text"
      },
      "source": [
        "<a href=\"https://colab.research.google.com/github/AbdullahMakhdoom/Customer_Segmentation/blob/main/customer_segmentation.ipynb\" target=\"_parent\"><img src=\"https://colab.research.google.com/assets/colab-badge.svg\" alt=\"Open In Colab\"/></a>"
      ]
    },
    {
      "cell_type": "markdown",
      "metadata": {
        "id": "1H7ZRHfgWTrg"
      },
      "source": [
        "### Import Modules"
      ]
    },
    {
      "cell_type": "code",
      "metadata": {
        "id": "qbFMsf_HWTri",
        "colab": {
          "base_uri": "https://localhost:8080/"
        },
        "outputId": "df1c5e31-22d3-46cd-a22d-a1acd1767bd3"
      },
      "source": [
        "!pip install xlrd\n",
        "!pip install --upgrade plotly\n",
        "import numpy as np\n",
        "import pandas as pd # for dataframes\n",
        "import matplotlib.pyplot as plt # for plotting graphs\n",
        "import seaborn as sns # for plotting graphs\n",
        "import datetime as dt\n",
        "from scipy import stats\n"
      ],
      "execution_count": 1,
      "outputs": [
        {
          "output_type": "stream",
          "text": [
            "Requirement already satisfied: xlrd in /usr/local/lib/python3.6/dist-packages (1.1.0)\n",
            "Collecting plotly\n",
            "\u001b[?25l  Downloading https://files.pythonhosted.org/packages/c9/09/315462259ab7b60a3d4b7159233ed700733c87d889755bdc00a9fb46d692/plotly-4.14.1-py2.py3-none-any.whl (13.2MB)\n",
            "\u001b[K     |████████████████████████████████| 13.2MB 4.1MB/s \n",
            "\u001b[?25hRequirement already satisfied, skipping upgrade: six in /usr/local/lib/python3.6/dist-packages (from plotly) (1.15.0)\n",
            "Requirement already satisfied, skipping upgrade: retrying>=1.3.3 in /usr/local/lib/python3.6/dist-packages (from plotly) (1.3.3)\n",
            "Installing collected packages: plotly\n",
            "  Found existing installation: plotly 4.4.1\n",
            "    Uninstalling plotly-4.4.1:\n",
            "      Successfully uninstalled plotly-4.4.1\n",
            "Successfully installed plotly-4.14.1\n"
          ],
          "name": "stdout"
        }
      ]
    },
    {
      "cell_type": "code",
      "metadata": {
        "colab": {
          "base_uri": "https://localhost:8080/"
        },
        "id": "1IqWb6Od16EK",
        "outputId": "1e19fce9-0bc9-4872-b8c6-261aae48893d"
      },
      "source": [
        "!unzip archive.zip\n"
      ],
      "execution_count": 2,
      "outputs": [
        {
          "output_type": "stream",
          "text": [
            "Archive:  archive.zip\n",
            "  inflating: Online Retail.xlsx      \n"
          ],
          "name": "stdout"
        }
      ]
    },
    {
      "cell_type": "markdown",
      "metadata": {
        "id": "yd5kTKEhWTrn"
      },
      "source": [
        "### Loading Dateset"
      ]
    },
    {
      "cell_type": "code",
      "metadata": {
        "id": "-4khudW9WTro"
      },
      "source": [
        "data = pd.read_excel(\"Online Retail.xlsx\")"
      ],
      "execution_count": 3,
      "outputs": []
    },
    {
      "cell_type": "markdown",
      "metadata": {
        "id": "Lb0x_q6zjwkW"
      },
      "source": [
        "### Analysing Data"
      ]
    },
    {
      "cell_type": "code",
      "metadata": {
        "id": "zm87B4hxrVBy",
        "colab": {
          "base_uri": "https://localhost:8080/"
        },
        "outputId": "4e22b048-1d1f-4472-defc-18b9f5855845"
      },
      "source": [
        "print(data.shape)"
      ],
      "execution_count": 4,
      "outputs": [
        {
          "output_type": "stream",
          "text": [
            "(541909, 9)\n"
          ],
          "name": "stdout"
        }
      ]
    },
    {
      "cell_type": "code",
      "metadata": {
        "id": "OO-Ki1iSWTrw",
        "colab": {
          "base_uri": "https://localhost:8080/",
          "height": 204
        },
        "outputId": "c1fb3252-d494-461e-8a27-10fb7f2a214a"
      },
      "source": [
        "data.head()"
      ],
      "execution_count": 5,
      "outputs": [
        {
          "output_type": "execute_result",
          "data": {
            "text/html": [
              "<div>\n",
              "<style scoped>\n",
              "    .dataframe tbody tr th:only-of-type {\n",
              "        vertical-align: middle;\n",
              "    }\n",
              "\n",
              "    .dataframe tbody tr th {\n",
              "        vertical-align: top;\n",
              "    }\n",
              "\n",
              "    .dataframe thead th {\n",
              "        text-align: right;\n",
              "    }\n",
              "</style>\n",
              "<table border=\"1\" class=\"dataframe\">\n",
              "  <thead>\n",
              "    <tr style=\"text-align: right;\">\n",
              "      <th></th>\n",
              "      <th>InvoiceNo</th>\n",
              "      <th>StockCode</th>\n",
              "      <th>lower</th>\n",
              "      <th>Description</th>\n",
              "      <th>Quantity</th>\n",
              "      <th>InvoiceDate</th>\n",
              "      <th>UnitPrice</th>\n",
              "      <th>CustomerID</th>\n",
              "      <th>Country</th>\n",
              "    </tr>\n",
              "  </thead>\n",
              "  <tbody>\n",
              "    <tr>\n",
              "      <th>0</th>\n",
              "      <td>536365</td>\n",
              "      <td>85123A</td>\n",
              "      <td>white hanging heart t-light holder</td>\n",
              "      <td>WHITE HANGING HEART T-LIGHT HOLDER</td>\n",
              "      <td>6</td>\n",
              "      <td>2010-12-01 08:26:00</td>\n",
              "      <td>2.55</td>\n",
              "      <td>17850.0</td>\n",
              "      <td>United Kingdom</td>\n",
              "    </tr>\n",
              "    <tr>\n",
              "      <th>1</th>\n",
              "      <td>536365</td>\n",
              "      <td>71053</td>\n",
              "      <td>white metal lantern</td>\n",
              "      <td>WHITE METAL LANTERN</td>\n",
              "      <td>6</td>\n",
              "      <td>2010-12-01 08:26:00</td>\n",
              "      <td>3.39</td>\n",
              "      <td>17850.0</td>\n",
              "      <td>United Kingdom</td>\n",
              "    </tr>\n",
              "    <tr>\n",
              "      <th>2</th>\n",
              "      <td>536365</td>\n",
              "      <td>84406B</td>\n",
              "      <td>cream cupid hearts coat hanger</td>\n",
              "      <td>CREAM CUPID HEARTS COAT HANGER</td>\n",
              "      <td>8</td>\n",
              "      <td>2010-12-01 08:26:00</td>\n",
              "      <td>2.75</td>\n",
              "      <td>17850.0</td>\n",
              "      <td>United Kingdom</td>\n",
              "    </tr>\n",
              "    <tr>\n",
              "      <th>3</th>\n",
              "      <td>536365</td>\n",
              "      <td>84029G</td>\n",
              "      <td>knitted union flag hot water bottle</td>\n",
              "      <td>KNITTED UNION FLAG HOT WATER BOTTLE</td>\n",
              "      <td>6</td>\n",
              "      <td>2010-12-01 08:26:00</td>\n",
              "      <td>3.39</td>\n",
              "      <td>17850.0</td>\n",
              "      <td>United Kingdom</td>\n",
              "    </tr>\n",
              "    <tr>\n",
              "      <th>4</th>\n",
              "      <td>536365</td>\n",
              "      <td>84029E</td>\n",
              "      <td>red woolly hottie white heart.</td>\n",
              "      <td>RED WOOLLY HOTTIE WHITE HEART.</td>\n",
              "      <td>6</td>\n",
              "      <td>2010-12-01 08:26:00</td>\n",
              "      <td>3.39</td>\n",
              "      <td>17850.0</td>\n",
              "      <td>United Kingdom</td>\n",
              "    </tr>\n",
              "  </tbody>\n",
              "</table>\n",
              "</div>"
            ],
            "text/plain": [
              "  InvoiceNo StockCode  ... CustomerID         Country\n",
              "0    536365    85123A  ...    17850.0  United Kingdom\n",
              "1    536365     71053  ...    17850.0  United Kingdom\n",
              "2    536365    84406B  ...    17850.0  United Kingdom\n",
              "3    536365    84029G  ...    17850.0  United Kingdom\n",
              "4    536365    84029E  ...    17850.0  United Kingdom\n",
              "\n",
              "[5 rows x 9 columns]"
            ]
          },
          "metadata": {
            "tags": []
          },
          "execution_count": 5
        }
      ]
    },
    {
      "cell_type": "code",
      "metadata": {
        "id": "XGf7X0deWTr1",
        "colab": {
          "base_uri": "https://localhost:8080/",
          "height": 204
        },
        "outputId": "23293240-3a0f-4626-8708-95a53c9484a2"
      },
      "source": [
        "data.tail()"
      ],
      "execution_count": 6,
      "outputs": [
        {
          "output_type": "execute_result",
          "data": {
            "text/html": [
              "<div>\n",
              "<style scoped>\n",
              "    .dataframe tbody tr th:only-of-type {\n",
              "        vertical-align: middle;\n",
              "    }\n",
              "\n",
              "    .dataframe tbody tr th {\n",
              "        vertical-align: top;\n",
              "    }\n",
              "\n",
              "    .dataframe thead th {\n",
              "        text-align: right;\n",
              "    }\n",
              "</style>\n",
              "<table border=\"1\" class=\"dataframe\">\n",
              "  <thead>\n",
              "    <tr style=\"text-align: right;\">\n",
              "      <th></th>\n",
              "      <th>InvoiceNo</th>\n",
              "      <th>StockCode</th>\n",
              "      <th>lower</th>\n",
              "      <th>Description</th>\n",
              "      <th>Quantity</th>\n",
              "      <th>InvoiceDate</th>\n",
              "      <th>UnitPrice</th>\n",
              "      <th>CustomerID</th>\n",
              "      <th>Country</th>\n",
              "    </tr>\n",
              "  </thead>\n",
              "  <tbody>\n",
              "    <tr>\n",
              "      <th>541904</th>\n",
              "      <td>581587</td>\n",
              "      <td>22613</td>\n",
              "      <td>NaN</td>\n",
              "      <td>PACK OF 20 SPACEBOY NAPKINS</td>\n",
              "      <td>12</td>\n",
              "      <td>2011-12-09 12:50:00</td>\n",
              "      <td>0.85</td>\n",
              "      <td>12680.0</td>\n",
              "      <td>France</td>\n",
              "    </tr>\n",
              "    <tr>\n",
              "      <th>541905</th>\n",
              "      <td>581587</td>\n",
              "      <td>22899</td>\n",
              "      <td>NaN</td>\n",
              "      <td>CHILDREN'S APRON DOLLY GIRL</td>\n",
              "      <td>6</td>\n",
              "      <td>2011-12-09 12:50:00</td>\n",
              "      <td>2.10</td>\n",
              "      <td>12680.0</td>\n",
              "      <td>France</td>\n",
              "    </tr>\n",
              "    <tr>\n",
              "      <th>541906</th>\n",
              "      <td>581587</td>\n",
              "      <td>23254</td>\n",
              "      <td>NaN</td>\n",
              "      <td>CHILDRENS CUTLERY DOLLY GIRL</td>\n",
              "      <td>4</td>\n",
              "      <td>2011-12-09 12:50:00</td>\n",
              "      <td>4.15</td>\n",
              "      <td>12680.0</td>\n",
              "      <td>France</td>\n",
              "    </tr>\n",
              "    <tr>\n",
              "      <th>541907</th>\n",
              "      <td>581587</td>\n",
              "      <td>23255</td>\n",
              "      <td>NaN</td>\n",
              "      <td>CHILDRENS CUTLERY CIRCUS PARADE</td>\n",
              "      <td>4</td>\n",
              "      <td>2011-12-09 12:50:00</td>\n",
              "      <td>4.15</td>\n",
              "      <td>12680.0</td>\n",
              "      <td>France</td>\n",
              "    </tr>\n",
              "    <tr>\n",
              "      <th>541908</th>\n",
              "      <td>581587</td>\n",
              "      <td>22138</td>\n",
              "      <td>NaN</td>\n",
              "      <td>BAKING SET 9 PIECE RETROSPOT</td>\n",
              "      <td>3</td>\n",
              "      <td>2011-12-09 12:50:00</td>\n",
              "      <td>4.95</td>\n",
              "      <td>12680.0</td>\n",
              "      <td>France</td>\n",
              "    </tr>\n",
              "  </tbody>\n",
              "</table>\n",
              "</div>"
            ],
            "text/plain": [
              "       InvoiceNo StockCode lower  ... UnitPrice  CustomerID Country\n",
              "541904    581587     22613   NaN  ...      0.85     12680.0  France\n",
              "541905    581587     22899   NaN  ...      2.10     12680.0  France\n",
              "541906    581587     23254   NaN  ...      4.15     12680.0  France\n",
              "541907    581587     23255   NaN  ...      4.15     12680.0  France\n",
              "541908    581587     22138   NaN  ...      4.95     12680.0  France\n",
              "\n",
              "[5 rows x 9 columns]"
            ]
          },
          "metadata": {
            "tags": []
          },
          "execution_count": 6
        }
      ]
    },
    {
      "cell_type": "code",
      "metadata": {
        "id": "ea34DVVCWTr6",
        "colab": {
          "base_uri": "https://localhost:8080/"
        },
        "outputId": "0c89244f-2aff-455d-b38a-6a57436c1c96"
      },
      "source": [
        "data.info()"
      ],
      "execution_count": 7,
      "outputs": [
        {
          "output_type": "stream",
          "text": [
            "<class 'pandas.core.frame.DataFrame'>\n",
            "RangeIndex: 541909 entries, 0 to 541908\n",
            "Data columns (total 9 columns):\n",
            " #   Column       Non-Null Count   Dtype         \n",
            "---  ------       --------------   -----         \n",
            " 0   InvoiceNo    541909 non-null  object        \n",
            " 1   StockCode    541909 non-null  object        \n",
            " 2   lower        1816 non-null    object        \n",
            " 3   Description  540455 non-null  object        \n",
            " 4   Quantity     541909 non-null  int64         \n",
            " 5   InvoiceDate  541909 non-null  datetime64[ns]\n",
            " 6   UnitPrice    541909 non-null  float64       \n",
            " 7   CustomerID   406829 non-null  float64       \n",
            " 8   Country      541909 non-null  object        \n",
            "dtypes: datetime64[ns](1), float64(2), int64(1), object(5)\n",
            "memory usage: 37.2+ MB\n"
          ],
          "name": "stdout"
        }
      ]
    },
    {
      "cell_type": "markdown",
      "metadata": {
        "id": "e5vZlXQCkXHE"
      },
      "source": [
        "#### Removing \"lower\" Column"
      ]
    },
    {
      "cell_type": "code",
      "metadata": {
        "id": "ipDGI1tlbBVW"
      },
      "source": [
        "del data[\"lower\"]"
      ],
      "execution_count": 8,
      "outputs": []
    },
    {
      "cell_type": "markdown",
      "metadata": {
        "id": "ShYZj8dJkamt"
      },
      "source": [
        "#### Removing Rows with Missing CustomerID"
      ]
    },
    {
      "cell_type": "code",
      "metadata": {
        "id": "BMHJT3nLWTr_"
      },
      "source": [
        "data = data[pd.notnull(data['CustomerID'])]"
      ],
      "execution_count": 9,
      "outputs": []
    },
    {
      "cell_type": "code",
      "metadata": {
        "id": "8bdY7kq9rVCP",
        "colab": {
          "base_uri": "https://localhost:8080/"
        },
        "outputId": "15e231f3-142c-4fe5-8a2b-0b87ab5224a3"
      },
      "source": [
        "print(data.shape)"
      ],
      "execution_count": 10,
      "outputs": [
        {
          "output_type": "stream",
          "text": [
            "(406829, 8)\n"
          ],
          "name": "stdout"
        }
      ]
    },
    {
      "cell_type": "markdown",
      "metadata": {
        "id": "f6zCunHaaaVh"
      },
      "source": [
        "#### Removing Duplicates"
      ]
    },
    {
      "cell_type": "code",
      "metadata": {
        "id": "-c6fBzhrWTsG"
      },
      "source": [
        "filtered_data  = data.drop_duplicates()"
      ],
      "execution_count": 11,
      "outputs": []
    },
    {
      "cell_type": "code",
      "metadata": {
        "id": "6OahcdTzrVCY",
        "colab": {
          "base_uri": "https://localhost:8080/"
        },
        "outputId": "50043fb8-3943-40fe-8f59-995d652d9768"
      },
      "source": [
        "print(filtered_data.shape)"
      ],
      "execution_count": 12,
      "outputs": [
        {
          "output_type": "stream",
          "text": [
            "(401604, 8)\n"
          ],
          "name": "stdout"
        }
      ]
    },
    {
      "cell_type": "markdown",
      "metadata": {
        "id": "kF_Dfo2ramJb"
      },
      "source": [
        "#### Data Insights"
      ]
    },
    {
      "cell_type": "code",
      "metadata": {
        "id": "b39lURDlalqM",
        "colab": {
          "base_uri": "https://localhost:8080/",
          "height": 353
        },
        "outputId": "3f5f5336-bd3c-434f-e94b-066118ac450c"
      },
      "source": [
        "#Top ten country's customer\n",
        "filtered_data.Country.value_counts()[:10].plot(kind='bar')\n"
      ],
      "execution_count": 13,
      "outputs": [
        {
          "output_type": "execute_result",
          "data": {
            "text/plain": [
              "<matplotlib.axes._subplots.AxesSubplot at 0x7f7857010c18>"
            ]
          },
          "metadata": {
            "tags": []
          },
          "execution_count": 13
        },
        {
          "output_type": "display_data",
          "data": {
            "image/png": "[encoded data removed]",
            "text/plain": [
              "<Figure size 432x288 with 1 Axes>"
            ]
          },
          "metadata": {
            "tags": [],
            "needs_background": "light"
          }
        }
      ]
    },
    {
      "cell_type": "markdown",
      "metadata": {
        "id": "5MmreXEXjR2R"
      },
      "source": [
        "Due to the overwhleming porportion of UK customers present in the dataset, the focus of the rest of the analysis is kept to UK's online retailers."
      ]
    },
    {
      "cell_type": "code",
      "metadata": {
        "id": "pHYCYhJPa1vb"
      },
      "source": [
        "uk_data = data[data.Country == 'United Kingdom']"
      ],
      "execution_count": 14,
      "outputs": []
    },
    {
      "cell_type": "code",
      "metadata": {
        "id": "NPFgmysVbaUg",
        "colab": {
          "base_uri": "https://localhost:8080/"
        },
        "outputId": "b96b79a0-a367-4450-df20-2c9283696635"
      },
      "source": [
        "uk_data.info()"
      ],
      "execution_count": 15,
      "outputs": [
        {
          "output_type": "stream",
          "text": [
            "<class 'pandas.core.frame.DataFrame'>\n",
            "Int64Index: 361878 entries, 0 to 541893\n",
            "Data columns (total 8 columns):\n",
            " #   Column       Non-Null Count   Dtype         \n",
            "---  ------       --------------   -----         \n",
            " 0   InvoiceNo    361878 non-null  object        \n",
            " 1   StockCode    361878 non-null  object        \n",
            " 2   Description  361878 non-null  object        \n",
            " 3   Quantity     361878 non-null  int64         \n",
            " 4   InvoiceDate  361878 non-null  datetime64[ns]\n",
            " 5   UnitPrice    361878 non-null  float64       \n",
            " 6   CustomerID   361878 non-null  float64       \n",
            " 7   Country      361878 non-null  object        \n",
            "dtypes: datetime64[ns](1), float64(2), int64(1), object(4)\n",
            "memory usage: 24.8+ MB\n"
          ],
          "name": "stdout"
        }
      ]
    },
    {
      "cell_type": "code",
      "metadata": {
        "id": "50PqHld0bdOa",
        "colab": {
          "base_uri": "https://localhost:8080/",
          "height": 297
        },
        "outputId": "437c5ea7-ff4c-424a-be1b-5d7dd9f20f84"
      },
      "source": [
        "uk_data.describe()"
      ],
      "execution_count": 16,
      "outputs": [
        {
          "output_type": "execute_result",
          "data": {
            "text/html": [
              "<div>\n",
              "<style scoped>\n",
              "    .dataframe tbody tr th:only-of-type {\n",
              "        vertical-align: middle;\n",
              "    }\n",
              "\n",
              "    .dataframe tbody tr th {\n",
              "        vertical-align: top;\n",
              "    }\n",
              "\n",
              "    .dataframe thead th {\n",
              "        text-align: right;\n",
              "    }\n",
              "</style>\n",
              "<table border=\"1\" class=\"dataframe\">\n",
              "  <thead>\n",
              "    <tr style=\"text-align: right;\">\n",
              "      <th></th>\n",
              "      <th>Quantity</th>\n",
              "      <th>UnitPrice</th>\n",
              "      <th>CustomerID</th>\n",
              "    </tr>\n",
              "  </thead>\n",
              "  <tbody>\n",
              "    <tr>\n",
              "      <th>count</th>\n",
              "      <td>361878.000000</td>\n",
              "      <td>361878.000000</td>\n",
              "      <td>361878.000000</td>\n",
              "    </tr>\n",
              "    <tr>\n",
              "      <th>mean</th>\n",
              "      <td>11.077029</td>\n",
              "      <td>3.256007</td>\n",
              "      <td>15547.871368</td>\n",
              "    </tr>\n",
              "    <tr>\n",
              "      <th>std</th>\n",
              "      <td>263.129266</td>\n",
              "      <td>70.654731</td>\n",
              "      <td>1594.402590</td>\n",
              "    </tr>\n",
              "    <tr>\n",
              "      <th>min</th>\n",
              "      <td>-80995.000000</td>\n",
              "      <td>0.000000</td>\n",
              "      <td>12346.000000</td>\n",
              "    </tr>\n",
              "    <tr>\n",
              "      <th>25%</th>\n",
              "      <td>2.000000</td>\n",
              "      <td>1.250000</td>\n",
              "      <td>14194.000000</td>\n",
              "    </tr>\n",
              "    <tr>\n",
              "      <th>50%</th>\n",
              "      <td>4.000000</td>\n",
              "      <td>1.950000</td>\n",
              "      <td>15514.000000</td>\n",
              "    </tr>\n",
              "    <tr>\n",
              "      <th>75%</th>\n",
              "      <td>12.000000</td>\n",
              "      <td>3.750000</td>\n",
              "      <td>16931.000000</td>\n",
              "    </tr>\n",
              "    <tr>\n",
              "      <th>max</th>\n",
              "      <td>80995.000000</td>\n",
              "      <td>38970.000000</td>\n",
              "      <td>18287.000000</td>\n",
              "    </tr>\n",
              "  </tbody>\n",
              "</table>\n",
              "</div>"
            ],
            "text/plain": [
              "            Quantity      UnitPrice     CustomerID\n",
              "count  361878.000000  361878.000000  361878.000000\n",
              "mean       11.077029       3.256007   15547.871368\n",
              "std       263.129266      70.654731    1594.402590\n",
              "min    -80995.000000       0.000000   12346.000000\n",
              "25%         2.000000       1.250000   14194.000000\n",
              "50%         4.000000       1.950000   15514.000000\n",
              "75%        12.000000       3.750000   16931.000000\n",
              "max     80995.000000   38970.000000   18287.000000"
            ]
          },
          "metadata": {
            "tags": []
          },
          "execution_count": 16
        }
      ]
    },
    {
      "cell_type": "markdown",
      "metadata": {
        "id": "_-qxDZv8rVCw"
      },
      "source": [
        "Filtering out rows with Negative Quantity Value"
      ]
    },
    {
      "cell_type": "code",
      "metadata": {
        "id": "40O5yGWRbjtc"
      },
      "source": [
        "uk_data = uk_data[(uk_data['Quantity']>0)]"
      ],
      "execution_count": 17,
      "outputs": []
    },
    {
      "cell_type": "code",
      "metadata": {
        "id": "jMw4-IEzrVC1",
        "colab": {
          "base_uri": "https://localhost:8080/"
        },
        "outputId": "5e95314b-db79-4837-d4cb-eac4ae7ed3f6"
      },
      "source": [
        "print(uk_data.shape)"
      ],
      "execution_count": 18,
      "outputs": [
        {
          "output_type": "stream",
          "text": [
            "(354345, 8)\n"
          ],
          "name": "stdout"
        }
      ]
    },
    {
      "cell_type": "markdown",
      "metadata": {
        "id": "PROoNXaLbzLv"
      },
      "source": [
        "Filtering only those Columns which are required for RFM Analysis."
      ]
    },
    {
      "cell_type": "code",
      "metadata": {
        "id": "kT_l0pn9buHR"
      },
      "source": [
        "uk_data = uk_data[['CustomerID', 'InvoiceDate', 'InvoiceNo', 'Quantity', 'UnitPrice']]\n"
      ],
      "execution_count": 19,
      "outputs": []
    },
    {
      "cell_type": "code",
      "metadata": {
        "id": "5eACMfa8b_-W"
      },
      "source": [
        "uk_data['TotalPrice'] = uk_data['Quantity'] * uk_data['UnitPrice']\n"
      ],
      "execution_count": 20,
      "outputs": []
    },
    {
      "cell_type": "code",
      "metadata": {
        "id": "vQ8KZJCEcJdo",
        "colab": {
          "base_uri": "https://localhost:8080/"
        },
        "outputId": "df54959f-b107-450a-bfa9-edebe8971559"
      },
      "source": [
        "uk_data['InvoiceDate'].min(), uk_data['InvoiceDate'].max()"
      ],
      "execution_count": 25,
      "outputs": [
        {
          "output_type": "execute_result",
          "data": {
            "text/plain": [
              "(Timestamp('2010-12-01 08:26:00'), Timestamp('2011-12-09 12:49:00'))"
            ]
          },
          "metadata": {
            "tags": []
          },
          "execution_count": 25
        }
      ]
    },
    {
      "cell_type": "code",
      "metadata": {
        "id": "HjoxG5GYcndo"
      },
      "source": [
        "uk_data['InvoiceDate'] = pd.to_datetime(uk_data['InvoiceDate'])"
      ],
      "execution_count": 26,
      "outputs": []
    },
    {
      "cell_type": "code",
      "metadata": {
        "id": "5tfRvctjcwUI",
        "colab": {
          "base_uri": "https://localhost:8080/",
          "height": 204
        },
        "outputId": "df0a14d6-efbd-4ae7-8aee-6cb649f97521"
      },
      "source": [
        "uk_data.head()"
      ],
      "execution_count": 27,
      "outputs": [
        {
          "output_type": "execute_result",
          "data": {
            "text/html": [
              "<div>\n",
              "<style scoped>\n",
              "    .dataframe tbody tr th:only-of-type {\n",
              "        vertical-align: middle;\n",
              "    }\n",
              "\n",
              "    .dataframe tbody tr th {\n",
              "        vertical-align: top;\n",
              "    }\n",
              "\n",
              "    .dataframe thead th {\n",
              "        text-align: right;\n",
              "    }\n",
              "</style>\n",
              "<table border=\"1\" class=\"dataframe\">\n",
              "  <thead>\n",
              "    <tr style=\"text-align: right;\">\n",
              "      <th></th>\n",
              "      <th>CustomerID</th>\n",
              "      <th>InvoiceDate</th>\n",
              "      <th>InvoiceNo</th>\n",
              "      <th>Quantity</th>\n",
              "      <th>UnitPrice</th>\n",
              "      <th>TotalPrice</th>\n",
              "    </tr>\n",
              "  </thead>\n",
              "  <tbody>\n",
              "    <tr>\n",
              "      <th>0</th>\n",
              "      <td>17850.0</td>\n",
              "      <td>2010-12-01 08:26:00</td>\n",
              "      <td>536365</td>\n",
              "      <td>6</td>\n",
              "      <td>2.55</td>\n",
              "      <td>15.30</td>\n",
              "    </tr>\n",
              "    <tr>\n",
              "      <th>1</th>\n",
              "      <td>17850.0</td>\n",
              "      <td>2010-12-01 08:26:00</td>\n",
              "      <td>536365</td>\n",
              "      <td>6</td>\n",
              "      <td>3.39</td>\n",
              "      <td>20.34</td>\n",
              "    </tr>\n",
              "    <tr>\n",
              "      <th>2</th>\n",
              "      <td>17850.0</td>\n",
              "      <td>2010-12-01 08:26:00</td>\n",
              "      <td>536365</td>\n",
              "      <td>8</td>\n",
              "      <td>2.75</td>\n",
              "      <td>22.00</td>\n",
              "    </tr>\n",
              "    <tr>\n",
              "      <th>3</th>\n",
              "      <td>17850.0</td>\n",
              "      <td>2010-12-01 08:26:00</td>\n",
              "      <td>536365</td>\n",
              "      <td>6</td>\n",
              "      <td>3.39</td>\n",
              "      <td>20.34</td>\n",
              "    </tr>\n",
              "    <tr>\n",
              "      <th>4</th>\n",
              "      <td>17850.0</td>\n",
              "      <td>2010-12-01 08:26:00</td>\n",
              "      <td>536365</td>\n",
              "      <td>6</td>\n",
              "      <td>3.39</td>\n",
              "      <td>20.34</td>\n",
              "    </tr>\n",
              "  </tbody>\n",
              "</table>\n",
              "</div>"
            ],
            "text/plain": [
              "   CustomerID         InvoiceDate InvoiceNo  Quantity  UnitPrice  TotalPrice\n",
              "0     17850.0 2010-12-01 08:26:00    536365         6       2.55       15.30\n",
              "1     17850.0 2010-12-01 08:26:00    536365         6       3.39       20.34\n",
              "2     17850.0 2010-12-01 08:26:00    536365         8       2.75       22.00\n",
              "3     17850.0 2010-12-01 08:26:00    536365         6       3.39       20.34\n",
              "4     17850.0 2010-12-01 08:26:00    536365         6       3.39       20.34"
            ]
          },
          "metadata": {
            "tags": []
          },
          "execution_count": 27
        }
      ]
    },
    {
      "cell_type": "markdown",
      "metadata": {
        "id": "RX7N5qQwc1Su"
      },
      "source": [
        "### RFM Analysis\n",
        "\n",
        "RFM analysis is a data-driven customer behavior segmentation technique where RFM stands for :-\n",
        "\n",
        "- Recency : When their last purchase was.\n",
        "\n",
        "- Frequency : How often they've purchased in the past.\n",
        "\n",
        "- Monetary : How much have they spent.\n"
      ]
    },
    {
      "cell_type": "code",
      "metadata": {
        "id": "9aQ0XsHFcUuS",
        "colab": {
          "base_uri": "https://localhost:8080/"
        },
        "outputId": "65d8ff2b-cce5-4996-e105-172620ffd94c"
      },
      "source": [
        "# PRESENT constant for calculating Recency\n",
        "# (PRESENT time - (Latest Purchasal time of Customer))\n",
        "PRESENT = uk_data['InvoiceDate'].max() + dt.timedelta(days = 1)\n",
        "print(PRESENT)"
      ],
      "execution_count": 28,
      "outputs": [
        {
          "output_type": "stream",
          "text": [
            "2011-12-10 12:49:00\n"
          ],
          "name": "stdout"
        }
      ]
    },
    {
      "cell_type": "code",
      "metadata": {
        "id": "GPpE1hSjcx7Y"
      },
      "source": [
        "# Grouping customers by their 'CustomerID'\n",
        "rfm = uk_data.groupby('CustomerID').agg({'InvoiceDate': lambda date: (PRESENT - date.max()).days, # Last purchase of customer (in number of days) (Recency)\n",
        "                                         'InvoiceNo': lambda num: len(num), # for getting frequency of purchasal (Frequency)\n",
        "                                         'TotalPrice': lambda price: price.sum()}) # for total spending of customer (Monetary)"
      ],
      "execution_count": 30,
      "outputs": []
    },
    {
      "cell_type": "code",
      "metadata": {
        "id": "yAfw338tdfkJ",
        "colab": {
          "base_uri": "https://localhost:8080/"
        },
        "outputId": "1d98a82c-b309-4a2e-8b27-95c626186aaa"
      },
      "source": [
        "rfm.columns\n"
      ],
      "execution_count": 31,
      "outputs": [
        {
          "output_type": "execute_result",
          "data": {
            "text/plain": [
              "Index(['InvoiceDate', 'InvoiceNo', 'TotalPrice'], dtype='object')"
            ]
          },
          "metadata": {
            "tags": []
          },
          "execution_count": 31
        }
      ]
    },
    {
      "cell_type": "code",
      "metadata": {
        "id": "VzCIl1jzhVwr"
      },
      "source": [
        "# Change the names of the columns\n",
        "rfm.columns=['recency','frequency','monetary'] "
      ],
      "execution_count": 32,
      "outputs": []
    },
    {
      "cell_type": "code",
      "metadata": {
        "id": "srQiMTUuhfAi"
      },
      "source": [
        "rfm['recency'] = rfm['recency'].astype(int)"
      ],
      "execution_count": 33,
      "outputs": []
    },
    {
      "cell_type": "code",
      "metadata": {
        "id": "JK8Jzx3HhlRI",
        "colab": {
          "base_uri": "https://localhost:8080/",
          "height": 235
        },
        "outputId": "1214bc14-6a4d-4b7f-abd9-595ac46346d4"
      },
      "source": [
        "rfm.head()"
      ],
      "execution_count": 34,
      "outputs": [
        {
          "output_type": "execute_result",
          "data": {
            "text/html": [
              "<div>\n",
              "<style scoped>\n",
              "    .dataframe tbody tr th:only-of-type {\n",
              "        vertical-align: middle;\n",
              "    }\n",
              "\n",
              "    .dataframe tbody tr th {\n",
              "        vertical-align: top;\n",
              "    }\n",
              "\n",
              "    .dataframe thead th {\n",
              "        text-align: right;\n",
              "    }\n",
              "</style>\n",
              "<table border=\"1\" class=\"dataframe\">\n",
              "  <thead>\n",
              "    <tr style=\"text-align: right;\">\n",
              "      <th></th>\n",
              "      <th>recency</th>\n",
              "      <th>frequency</th>\n",
              "      <th>monetary</th>\n",
              "    </tr>\n",
              "    <tr>\n",
              "      <th>CustomerID</th>\n",
              "      <th></th>\n",
              "      <th></th>\n",
              "      <th></th>\n",
              "    </tr>\n",
              "  </thead>\n",
              "  <tbody>\n",
              "    <tr>\n",
              "      <th>12346.0</th>\n",
              "      <td>326</td>\n",
              "      <td>1</td>\n",
              "      <td>77183.60</td>\n",
              "    </tr>\n",
              "    <tr>\n",
              "      <th>12747.0</th>\n",
              "      <td>2</td>\n",
              "      <td>103</td>\n",
              "      <td>4196.01</td>\n",
              "    </tr>\n",
              "    <tr>\n",
              "      <th>12748.0</th>\n",
              "      <td>1</td>\n",
              "      <td>4596</td>\n",
              "      <td>33719.73</td>\n",
              "    </tr>\n",
              "    <tr>\n",
              "      <th>12749.0</th>\n",
              "      <td>4</td>\n",
              "      <td>199</td>\n",
              "      <td>4090.88</td>\n",
              "    </tr>\n",
              "    <tr>\n",
              "      <th>12820.0</th>\n",
              "      <td>3</td>\n",
              "      <td>59</td>\n",
              "      <td>942.34</td>\n",
              "    </tr>\n",
              "  </tbody>\n",
              "</table>\n",
              "</div>"
            ],
            "text/plain": [
              "            recency  frequency  monetary\n",
              "CustomerID                              \n",
              "12346.0         326          1  77183.60\n",
              "12747.0           2        103   4196.01\n",
              "12748.0           1       4596  33719.73\n",
              "12749.0           4        199   4090.88\n",
              "12820.0           3         59    942.34"
            ]
          },
          "metadata": {
            "tags": []
          },
          "execution_count": 34
        }
      ]
    },
    {
      "cell_type": "code",
      "metadata": {
        "id": "U0q_tJEtiwtO"
      },
      "source": [
        "# qcut divides the columns into 4 equally sized bins\n",
        "rfm['r_quartile'] = pd.qcut(rfm['recency'], 4, ['1','2','3','4'])\n",
        "rfm['f_quartile'] = pd.qcut(rfm['frequency'], 4, ['4','3','2','1'])\n",
        "rfm['m_quartile'] = pd.qcut(rfm['monetary'], 4, ['4','3','2','1'])"
      ],
      "execution_count": 35,
      "outputs": []
    },
    {
      "cell_type": "code",
      "metadata": {
        "id": "RCpL2HByjFLz",
        "colab": {
          "base_uri": "https://localhost:8080/",
          "height": 235
        },
        "outputId": "7e977d6e-db9d-47e7-8894-db106c5843cf"
      },
      "source": [
        "rfm.head()"
      ],
      "execution_count": 36,
      "outputs": [
        {
          "output_type": "execute_result",
          "data": {
            "text/html": [
              "<div>\n",
              "<style scoped>\n",
              "    .dataframe tbody tr th:only-of-type {\n",
              "        vertical-align: middle;\n",
              "    }\n",
              "\n",
              "    .dataframe tbody tr th {\n",
              "        vertical-align: top;\n",
              "    }\n",
              "\n",
              "    .dataframe thead th {\n",
              "        text-align: right;\n",
              "    }\n",
              "</style>\n",
              "<table border=\"1\" class=\"dataframe\">\n",
              "  <thead>\n",
              "    <tr style=\"text-align: right;\">\n",
              "      <th></th>\n",
              "      <th>recency</th>\n",
              "      <th>frequency</th>\n",
              "      <th>monetary</th>\n",
              "      <th>r_quartile</th>\n",
              "      <th>f_quartile</th>\n",
              "      <th>m_quartile</th>\n",
              "    </tr>\n",
              "    <tr>\n",
              "      <th>CustomerID</th>\n",
              "      <th></th>\n",
              "      <th></th>\n",
              "      <th></th>\n",
              "      <th></th>\n",
              "      <th></th>\n",
              "      <th></th>\n",
              "    </tr>\n",
              "  </thead>\n",
              "  <tbody>\n",
              "    <tr>\n",
              "      <th>12346.0</th>\n",
              "      <td>326</td>\n",
              "      <td>1</td>\n",
              "      <td>77183.60</td>\n",
              "      <td>4</td>\n",
              "      <td>4</td>\n",
              "      <td>1</td>\n",
              "    </tr>\n",
              "    <tr>\n",
              "      <th>12747.0</th>\n",
              "      <td>2</td>\n",
              "      <td>103</td>\n",
              "      <td>4196.01</td>\n",
              "      <td>1</td>\n",
              "      <td>1</td>\n",
              "      <td>1</td>\n",
              "    </tr>\n",
              "    <tr>\n",
              "      <th>12748.0</th>\n",
              "      <td>1</td>\n",
              "      <td>4596</td>\n",
              "      <td>33719.73</td>\n",
              "      <td>1</td>\n",
              "      <td>1</td>\n",
              "      <td>1</td>\n",
              "    </tr>\n",
              "    <tr>\n",
              "      <th>12749.0</th>\n",
              "      <td>4</td>\n",
              "      <td>199</td>\n",
              "      <td>4090.88</td>\n",
              "      <td>1</td>\n",
              "      <td>1</td>\n",
              "      <td>1</td>\n",
              "    </tr>\n",
              "    <tr>\n",
              "      <th>12820.0</th>\n",
              "      <td>3</td>\n",
              "      <td>59</td>\n",
              "      <td>942.34</td>\n",
              "      <td>1</td>\n",
              "      <td>2</td>\n",
              "      <td>2</td>\n",
              "    </tr>\n",
              "  </tbody>\n",
              "</table>\n",
              "</div>"
            ],
            "text/plain": [
              "            recency  frequency  monetary r_quartile f_quartile m_quartile\n",
              "CustomerID                                                               \n",
              "12346.0         326          1  77183.60          4          4          1\n",
              "12747.0           2        103   4196.01          1          1          1\n",
              "12748.0           1       4596  33719.73          1          1          1\n",
              "12749.0           4        199   4090.88          1          1          1\n",
              "12820.0           3         59    942.34          1          2          2"
            ]
          },
          "metadata": {
            "tags": []
          },
          "execution_count": 36
        }
      ]
    },
    {
      "cell_type": "markdown",
      "metadata": {
        "id": "pTu-D9NajI-U"
      },
      "source": [
        "### RFM Result Interpretation"
      ]
    },
    {
      "cell_type": "code",
      "metadata": {
        "id": "q8O446wOjHdM",
        "colab": {
          "base_uri": "https://localhost:8080/",
          "height": 235
        },
        "outputId": "3990f17d-7d58-454f-ddf2-2586b81e9929"
      },
      "source": [
        "rfm['RFM_Score'] = rfm.r_quartile.astype(str)+ rfm.f_quartile.astype(str) + rfm.m_quartile.astype(str)\n",
        "rfm.head()\n"
      ],
      "execution_count": 37,
      "outputs": [
        {
          "output_type": "execute_result",
          "data": {
            "text/html": [
              "<div>\n",
              "<style scoped>\n",
              "    .dataframe tbody tr th:only-of-type {\n",
              "        vertical-align: middle;\n",
              "    }\n",
              "\n",
              "    .dataframe tbody tr th {\n",
              "        vertical-align: top;\n",
              "    }\n",
              "\n",
              "    .dataframe thead th {\n",
              "        text-align: right;\n",
              "    }\n",
              "</style>\n",
              "<table border=\"1\" class=\"dataframe\">\n",
              "  <thead>\n",
              "    <tr style=\"text-align: right;\">\n",
              "      <th></th>\n",
              "      <th>recency</th>\n",
              "      <th>frequency</th>\n",
              "      <th>monetary</th>\n",
              "      <th>r_quartile</th>\n",
              "      <th>f_quartile</th>\n",
              "      <th>m_quartile</th>\n",
              "      <th>RFM_Score</th>\n",
              "    </tr>\n",
              "    <tr>\n",
              "      <th>CustomerID</th>\n",
              "      <th></th>\n",
              "      <th></th>\n",
              "      <th></th>\n",
              "      <th></th>\n",
              "      <th></th>\n",
              "      <th></th>\n",
              "      <th></th>\n",
              "    </tr>\n",
              "  </thead>\n",
              "  <tbody>\n",
              "    <tr>\n",
              "      <th>12346.0</th>\n",
              "      <td>326</td>\n",
              "      <td>1</td>\n",
              "      <td>77183.60</td>\n",
              "      <td>4</td>\n",
              "      <td>4</td>\n",
              "      <td>1</td>\n",
              "      <td>441</td>\n",
              "    </tr>\n",
              "    <tr>\n",
              "      <th>12747.0</th>\n",
              "      <td>2</td>\n",
              "      <td>103</td>\n",
              "      <td>4196.01</td>\n",
              "      <td>1</td>\n",
              "      <td>1</td>\n",
              "      <td>1</td>\n",
              "      <td>111</td>\n",
              "    </tr>\n",
              "    <tr>\n",
              "      <th>12748.0</th>\n",
              "      <td>1</td>\n",
              "      <td>4596</td>\n",
              "      <td>33719.73</td>\n",
              "      <td>1</td>\n",
              "      <td>1</td>\n",
              "      <td>1</td>\n",
              "      <td>111</td>\n",
              "    </tr>\n",
              "    <tr>\n",
              "      <th>12749.0</th>\n",
              "      <td>4</td>\n",
              "      <td>199</td>\n",
              "      <td>4090.88</td>\n",
              "      <td>1</td>\n",
              "      <td>1</td>\n",
              "      <td>1</td>\n",
              "      <td>111</td>\n",
              "    </tr>\n",
              "    <tr>\n",
              "      <th>12820.0</th>\n",
              "      <td>3</td>\n",
              "      <td>59</td>\n",
              "      <td>942.34</td>\n",
              "      <td>1</td>\n",
              "      <td>2</td>\n",
              "      <td>2</td>\n",
              "      <td>122</td>\n",
              "    </tr>\n",
              "  </tbody>\n",
              "</table>\n",
              "</div>"
            ],
            "text/plain": [
              "            recency  frequency  monetary  ... f_quartile m_quartile RFM_Score\n",
              "CustomerID                                ...                                \n",
              "12346.0         326          1  77183.60  ...          4          1       441\n",
              "12747.0           2        103   4196.01  ...          1          1       111\n",
              "12748.0           1       4596  33719.73  ...          1          1       111\n",
              "12749.0           4        199   4090.88  ...          1          1       111\n",
              "12820.0           3         59    942.34  ...          2          2       122\n",
              "\n",
              "[5 rows x 7 columns]"
            ]
          },
          "metadata": {
            "tags": []
          },
          "execution_count": 37
        }
      ]
    },
    {
      "cell_type": "code",
      "metadata": {
        "id": "48ZLtnQfjaTB",
        "colab": {
          "base_uri": "https://localhost:8080/",
          "height": 235
        },
        "outputId": "5138a286-0309-4ac6-f49b-5ef51713bc2e"
      },
      "source": [
        "# Filter out Top/Best cusotmers\n",
        "rfm[rfm['RFM_Score']=='111'].sort_values('monetary', ascending=False).head()"
      ],
      "execution_count": 38,
      "outputs": [
        {
          "output_type": "execute_result",
          "data": {
            "text/html": [
              "<div>\n",
              "<style scoped>\n",
              "    .dataframe tbody tr th:only-of-type {\n",
              "        vertical-align: middle;\n",
              "    }\n",
              "\n",
              "    .dataframe tbody tr th {\n",
              "        vertical-align: top;\n",
              "    }\n",
              "\n",
              "    .dataframe thead th {\n",
              "        text-align: right;\n",
              "    }\n",
              "</style>\n",
              "<table border=\"1\" class=\"dataframe\">\n",
              "  <thead>\n",
              "    <tr style=\"text-align: right;\">\n",
              "      <th></th>\n",
              "      <th>recency</th>\n",
              "      <th>frequency</th>\n",
              "      <th>monetary</th>\n",
              "      <th>r_quartile</th>\n",
              "      <th>f_quartile</th>\n",
              "      <th>m_quartile</th>\n",
              "      <th>RFM_Score</th>\n",
              "    </tr>\n",
              "    <tr>\n",
              "      <th>CustomerID</th>\n",
              "      <th></th>\n",
              "      <th></th>\n",
              "      <th></th>\n",
              "      <th></th>\n",
              "      <th></th>\n",
              "      <th></th>\n",
              "      <th></th>\n",
              "    </tr>\n",
              "  </thead>\n",
              "  <tbody>\n",
              "    <tr>\n",
              "      <th>18102.0</th>\n",
              "      <td>1</td>\n",
              "      <td>431</td>\n",
              "      <td>259657.30</td>\n",
              "      <td>1</td>\n",
              "      <td>1</td>\n",
              "      <td>1</td>\n",
              "      <td>111</td>\n",
              "    </tr>\n",
              "    <tr>\n",
              "      <th>17450.0</th>\n",
              "      <td>8</td>\n",
              "      <td>337</td>\n",
              "      <td>194550.79</td>\n",
              "      <td>1</td>\n",
              "      <td>1</td>\n",
              "      <td>1</td>\n",
              "      <td>111</td>\n",
              "    </tr>\n",
              "    <tr>\n",
              "      <th>17511.0</th>\n",
              "      <td>3</td>\n",
              "      <td>963</td>\n",
              "      <td>91062.38</td>\n",
              "      <td>1</td>\n",
              "      <td>1</td>\n",
              "      <td>1</td>\n",
              "      <td>111</td>\n",
              "    </tr>\n",
              "    <tr>\n",
              "      <th>16684.0</th>\n",
              "      <td>4</td>\n",
              "      <td>277</td>\n",
              "      <td>66653.56</td>\n",
              "      <td>1</td>\n",
              "      <td>1</td>\n",
              "      <td>1</td>\n",
              "      <td>111</td>\n",
              "    </tr>\n",
              "    <tr>\n",
              "      <th>14096.0</th>\n",
              "      <td>4</td>\n",
              "      <td>5111</td>\n",
              "      <td>65164.79</td>\n",
              "      <td>1</td>\n",
              "      <td>1</td>\n",
              "      <td>1</td>\n",
              "      <td>111</td>\n",
              "    </tr>\n",
              "  </tbody>\n",
              "</table>\n",
              "</div>"
            ],
            "text/plain": [
              "            recency  frequency   monetary  ... f_quartile m_quartile RFM_Score\n",
              "CustomerID                                 ...                                \n",
              "18102.0           1        431  259657.30  ...          1          1       111\n",
              "17450.0           8        337  194550.79  ...          1          1       111\n",
              "17511.0           3        963   91062.38  ...          1          1       111\n",
              "16684.0           4        277   66653.56  ...          1          1       111\n",
              "14096.0           4       5111   65164.79  ...          1          1       111\n",
              "\n",
              "[5 rows x 7 columns]"
            ]
          },
          "metadata": {
            "tags": []
          },
          "execution_count": 38
        }
      ]
    },
    {
      "cell_type": "markdown",
      "metadata": {
        "id": "S467SyVKVykE"
      },
      "source": [
        "### Manage Skewness and Scaling"
      ]
    },
    {
      "cell_type": "code",
      "metadata": {
        "id": "wjaPstYPjfMX",
        "colab": {
          "base_uri": "https://localhost:8080/",
          "height": 282
        },
        "outputId": "2759bbe5-84fc-46cf-fbfa-7cd00eba2dcf"
      },
      "source": [
        "rfm['recency'].hist()"
      ],
      "execution_count": 39,
      "outputs": [
        {
          "output_type": "execute_result",
          "data": {
            "text/plain": [
              "<matplotlib.axes._subplots.AxesSubplot at 0x7f7841a29c50>"
            ]
          },
          "metadata": {
            "tags": []
          },
          "execution_count": 39
        },
        {
          "output_type": "display_data",
          "data": {
            "image/png": "[encoded data removed]",
            "text/plain": [
              "<Figure size 432x288 with 1 Axes>"
            ]
          },
          "metadata": {
            "tags": [],
            "needs_background": "light"
          }
        }
      ]
    },
    {
      "cell_type": "code",
      "metadata": {
        "id": "xnsAP_fsV-XI",
        "colab": {
          "base_uri": "https://localhost:8080/",
          "height": 282
        },
        "outputId": "21fc9828-8417-4dac-f7bc-c067f4e33bad"
      },
      "source": [
        "rfm['frequency'].hist()"
      ],
      "execution_count": 40,
      "outputs": [
        {
          "output_type": "execute_result",
          "data": {
            "text/plain": [
              "<matplotlib.axes._subplots.AxesSubplot at 0x7f7847fd7780>"
            ]
          },
          "metadata": {
            "tags": []
          },
          "execution_count": 40
        },
        {
          "output_type": "display_data",
          "data": {
            "image/png": "[encoded data removed]",
            "text/plain": [
              "<Figure size 432x288 with 1 Axes>"
            ]
          },
          "metadata": {
            "tags": [],
            "needs_background": "light"
          }
        }
      ]
    },
    {
      "cell_type": "code",
      "metadata": {
        "id": "DvzTy-GklDqA",
        "colab": {
          "base_uri": "https://localhost:8080/",
          "height": 282
        },
        "outputId": "63f9d3d8-e6ea-48a3-cf93-b0fc71d22a94"
      },
      "source": [
        "rfm['monetary'].hist()"
      ],
      "execution_count": 41,
      "outputs": [
        {
          "output_type": "execute_result",
          "data": {
            "text/plain": [
              "<matplotlib.axes._subplots.AxesSubplot at 0x7f7849247ef0>"
            ]
          },
          "metadata": {
            "tags": []
          },
          "execution_count": 41
        },
        {
          "output_type": "display_data",
          "data": {
            "image/png": "[encoded data removed]",
            "text/plain": [
              "<Figure size 432x288 with 1 Axes>"
            ]
          },
          "metadata": {
            "tags": [],
            "needs_background": "light"
          }
        }
      ]
    },
    {
      "cell_type": "code",
      "metadata": {
        "id": "Tvw_FFjkm-Fl"
      },
      "source": [
        "rfm = rfm[rfm['recency'] > 0]"
      ],
      "execution_count": 42,
      "outputs": []
    },
    {
      "cell_type": "markdown",
      "metadata": {
        "id": "9bmn2UFFrVER"
      },
      "source": [
        "To make the data more normal (i.e: bell-shaped), we can apply box-cox transformation. https://www.statisticshowto.com/box-cox-transformation/"
      ]
    },
    {
      "cell_type": "code",
      "metadata": {
        "id": "CpdR3vh2lhLU"
      },
      "source": [
        "rfm_fix = pd.DataFrame()\n",
        "rfm_fix[\"Recency\"] = stats.boxcox(rfm['recency'])[0]\n",
        "rfm_fix[\"Frequency\"] = stats.boxcox(rfm['frequency'])[0]\n",
        "rfm_fix[\"Monetary\"] = pd.Series(np.cbrt(rfm['monetary'])).values"
      ],
      "execution_count": 43,
      "outputs": []
    },
    {
      "cell_type": "code",
      "metadata": {
        "id": "wVEb6IiNmqmk",
        "colab": {
          "base_uri": "https://localhost:8080/",
          "height": 204
        },
        "outputId": "d6ed9aed-888d-4e9e-87e7-2452fe0afa2b"
      },
      "source": [
        "rfm_fix.tail()"
      ],
      "execution_count": 44,
      "outputs": [
        {
          "output_type": "execute_result",
          "data": {
            "text/html": [
              "<div>\n",
              "<style scoped>\n",
              "    .dataframe tbody tr th:only-of-type {\n",
              "        vertical-align: middle;\n",
              "    }\n",
              "\n",
              "    .dataframe tbody tr th {\n",
              "        vertical-align: top;\n",
              "    }\n",
              "\n",
              "    .dataframe thead th {\n",
              "        text-align: right;\n",
              "    }\n",
              "</style>\n",
              "<table border=\"1\" class=\"dataframe\">\n",
              "  <thead>\n",
              "    <tr style=\"text-align: right;\">\n",
              "      <th></th>\n",
              "      <th>Recency</th>\n",
              "      <th>Frequency</th>\n",
              "      <th>Monetary</th>\n",
              "    </tr>\n",
              "  </thead>\n",
              "  <tbody>\n",
              "    <tr>\n",
              "      <th>3916</th>\n",
              "      <td>9.641797</td>\n",
              "      <td>2.457480</td>\n",
              "      <td>5.652483</td>\n",
              "    </tr>\n",
              "    <tr>\n",
              "      <th>3917</th>\n",
              "      <td>8.524064</td>\n",
              "      <td>2.055787</td>\n",
              "      <td>4.323541</td>\n",
              "    </tr>\n",
              "    <tr>\n",
              "      <th>3918</th>\n",
              "      <td>2.513198</td>\n",
              "      <td>2.665931</td>\n",
              "      <td>5.625753</td>\n",
              "    </tr>\n",
              "    <tr>\n",
              "      <th>3919</th>\n",
              "      <td>1.570965</td>\n",
              "      <td>8.024068</td>\n",
              "      <td>12.795376</td>\n",
              "    </tr>\n",
              "    <tr>\n",
              "      <th>3920</th>\n",
              "      <td>5.342012</td>\n",
              "      <td>4.795920</td>\n",
              "      <td>12.247810</td>\n",
              "    </tr>\n",
              "  </tbody>\n",
              "</table>\n",
              "</div>"
            ],
            "text/plain": [
              "       Recency  Frequency   Monetary\n",
              "3916  9.641797   2.457480   5.652483\n",
              "3917  8.524064   2.055787   4.323541\n",
              "3918  2.513198   2.665931   5.625753\n",
              "3919  1.570965   8.024068  12.795376\n",
              "3920  5.342012   4.795920  12.247810"
            ]
          },
          "metadata": {
            "tags": []
          },
          "execution_count": 44
        }
      ]
    },
    {
      "cell_type": "code",
      "metadata": {
        "id": "ZM2EnovKrVEb",
        "colab": {
          "base_uri": "https://localhost:8080/",
          "height": 283
        },
        "outputId": "08cf2cbf-027e-490d-942c-b227a2381c37"
      },
      "source": [
        "rfm_fix['Recency'].hist()"
      ],
      "execution_count": 45,
      "outputs": [
        {
          "output_type": "execute_result",
          "data": {
            "text/plain": [
              "<matplotlib.axes._subplots.AxesSubplot at 0x7f7848bf5860>"
            ]
          },
          "metadata": {
            "tags": []
          },
          "execution_count": 45
        },
        {
          "output_type": "display_data",
          "data": {
            "image/png": "[encoded data removed]",
            "text/plain": [
              "<Figure size 432x288 with 1 Axes>"
            ]
          },
          "metadata": {
            "tags": [],
            "needs_background": "light"
          }
        }
      ]
    },
    {
      "cell_type": "code",
      "metadata": {
        "id": "NvSccZC6rVEg",
        "colab": {
          "base_uri": "https://localhost:8080/",
          "height": 282
        },
        "outputId": "22c416d2-dac0-4afd-a4e6-9b9990b2d657"
      },
      "source": [
        "rfm_fix['Frequency'].hist()"
      ],
      "execution_count": 46,
      "outputs": [
        {
          "output_type": "execute_result",
          "data": {
            "text/plain": [
              "<matplotlib.axes._subplots.AxesSubplot at 0x7f7848878828>"
            ]
          },
          "metadata": {
            "tags": []
          },
          "execution_count": 46
        },
        {
          "output_type": "display_data",
          "data": {
            "image/png": "[encoded data removed]",
            "text/plain": [
              "<Figure size 432x288 with 1 Axes>"
            ]
          },
          "metadata": {
            "tags": [],
            "needs_background": "light"
          }
        }
      ]
    },
    {
      "cell_type": "code",
      "metadata": {
        "id": "E9Y4YjQ6rVEm",
        "colab": {
          "base_uri": "https://localhost:8080/",
          "height": 282
        },
        "outputId": "8699375f-54e9-4c85-e1c1-6b87b0a09d86"
      },
      "source": [
        "rfm_fix['Monetary'].hist()"
      ],
      "execution_count": 47,
      "outputs": [
        {
          "output_type": "execute_result",
          "data": {
            "text/plain": [
              "<matplotlib.axes._subplots.AxesSubplot at 0x7f7849262080>"
            ]
          },
          "metadata": {
            "tags": []
          },
          "execution_count": 47
        },
        {
          "output_type": "display_data",
          "data": {
            "image/png": "[encoded data removed]",
            "text/plain": [
              "<Figure size 432x288 with 1 Axes>"
            ]
          },
          "metadata": {
            "tags": [],
            "needs_background": "light"
          }
        }
      ]
    },
    {
      "cell_type": "markdown",
      "metadata": {
        "id": "buUyPUKFr7n9"
      },
      "source": [
        "#### Standarize the RFM"
      ]
    },
    {
      "cell_type": "code",
      "metadata": {
        "id": "4asVM31NriP4"
      },
      "source": [
        "from sklearn.preprocessing import StandardScaler\n",
        "\n",
        "scaler = StandardScaler()\n",
        "\n",
        "scaler.fit(rfm_fix)\n",
        "rfm_normalized = scaler.transform(rfm_fix)\n"
      ],
      "execution_count": 48,
      "outputs": []
    },
    {
      "cell_type": "code",
      "metadata": {
        "id": "O4Nx0Jt0rqVy",
        "colab": {
          "base_uri": "https://localhost:8080/"
        },
        "outputId": "1721cdab-e681-4284-e2b2-bb613b5f602e"
      },
      "source": [
        "print(rfm_normalized.mean(axis = 0).round(2))"
      ],
      "execution_count": 49,
      "outputs": [
        {
          "output_type": "stream",
          "text": [
            "[ 0. -0.  0.]\n"
          ],
          "name": "stdout"
        }
      ]
    },
    {
      "cell_type": "code",
      "metadata": {
        "id": "DKgLBkC0sGrL",
        "colab": {
          "base_uri": "https://localhost:8080/"
        },
        "outputId": "29522f33-bc70-47e1-b707-bfab9fc7c1cb"
      },
      "source": [
        "print(rfm_normalized.std(axis = 0).round(2))"
      ],
      "execution_count": 50,
      "outputs": [
        {
          "output_type": "stream",
          "text": [
            "[1. 1. 1.]\n"
          ],
          "name": "stdout"
        }
      ]
    },
    {
      "cell_type": "code",
      "metadata": {
        "id": "8CAxMOUAsI_C",
        "colab": {
          "base_uri": "https://localhost:8080/"
        },
        "outputId": "41c9fe63-910b-4239-e73b-f12afc65bb5f"
      },
      "source": [
        "rfm_normalized"
      ],
      "execution_count": 51,
      "outputs": [
        {
          "output_type": "execute_result",
          "data": {
            "text/plain": [
              "array([[ 1.62945131, -2.52020154,  6.9353007 ],\n",
              "       [-1.83757825,  0.71274559,  1.35574519],\n",
              "       [-2.11126839,  4.06398851,  4.76866416],\n",
              "       ...,\n",
              "       [-1.1784943 , -0.89128115, -0.86010588],\n",
              "       [-1.52820437,  2.38261499,  0.65243124],\n",
              "       [-0.12857977,  0.41017151,  0.53691423]])"
            ]
          },
          "metadata": {
            "tags": []
          },
          "execution_count": 51
        }
      ]
    },
    {
      "cell_type": "markdown",
      "metadata": {
        "id": "mmr5c_dMsM6j"
      },
      "source": [
        "### Modelling"
      ]
    },
    {
      "cell_type": "code",
      "metadata": {
        "id": "Sz2uEQnjsL4v"
      },
      "source": [
        "from sklearn.cluster import KMeans\n",
        "\n",
        "sse = {}\n",
        "for k in range(1, 11):\n",
        "  kmeans = KMeans(n_clusters=k ,random_state=42)\n",
        "  kmeans.fit(rfm_normalized)\n",
        "  sse[k] = kmeans.inertia_\n"
      ],
      "execution_count": 52,
      "outputs": []
    },
    {
      "cell_type": "code",
      "metadata": {
        "id": "xN0D03uEs0Rp",
        "colab": {
          "base_uri": "https://localhost:8080/",
          "height": 295
        },
        "outputId": "a78aea6c-0135-451c-9a0a-c9887a77b507"
      },
      "source": [
        "plt.title('The Elbow Method')\n",
        "plt.xlabel('k')\n",
        "plt.ylabel('SSE')\n",
        "sns.pointplot(x = list(sse.keys()), y = list(sse.values()))\n",
        "plt.show()"
      ],
      "execution_count": 53,
      "outputs": [
        {
          "output_type": "display_data",
          "data": {
            "image/png": "[encoded data removed]",
            "text/plain": [
              "<Figure size 432x288 with 1 Axes>"
            ]
          },
          "metadata": {
            "tags": [],
            "needs_background": "light"
          }
        }
      ]
    },
    {
      "cell_type": "markdown",
      "metadata": {
        "id": "EtdX0CMqupJb"
      },
      "source": [
        "According to Elbow Method, we choose the value of k just right where the slope starts becoming linear. Since from k=3 onwards, slope starts to become almost linear, so we select the number of clusters to be k=3."
      ]
    },
    {
      "cell_type": "code",
      "metadata": {
        "id": "txM9ZdjptKKl",
        "colab": {
          "base_uri": "https://localhost:8080/"
        },
        "outputId": "bd0e873e-e448-42fc-a06f-642f0cd42553"
      },
      "source": [
        "model = KMeans(n_clusters = 3, random_state=42)\n",
        "model.fit(rfm_normalized)\n",
        "model.labels_"
      ],
      "execution_count": 54,
      "outputs": [
        {
          "output_type": "execute_result",
          "data": {
            "text/plain": [
              "array([2, 2, 2, ..., 1, 2, 1], dtype=int32)"
            ]
          },
          "metadata": {
            "tags": []
          },
          "execution_count": 54
        }
      ]
    },
    {
      "cell_type": "markdown",
      "metadata": {
        "id": "O9bK9aLuu75D"
      },
      "source": [
        "### Interpreting the Segmented Customers"
      ]
    },
    {
      "cell_type": "code",
      "metadata": {
        "id": "WDLDdvVHu7D3",
        "colab": {
          "base_uri": "https://localhost:8080/",
          "height": 204
        },
        "outputId": "98bc13f8-bf0d-483b-92f5-8615fcf77138"
      },
      "source": [
        "rfm[\"Cluster\"] = model.labels_\n",
        "rfm.groupby('Cluster').agg({\n",
        "    'recency': 'mean',\n",
        "    'frequency' : 'mean',\n",
        "    'monetary' : ['mean' , 'count']}).round(2)"
      ],
      "execution_count": 55,
      "outputs": [
        {
          "output_type": "execute_result",
          "data": {
            "text/html": [
              "<div>\n",
              "<style scoped>\n",
              "    .dataframe tbody tr th:only-of-type {\n",
              "        vertical-align: middle;\n",
              "    }\n",
              "\n",
              "    .dataframe tbody tr th {\n",
              "        vertical-align: top;\n",
              "    }\n",
              "\n",
              "    .dataframe thead tr th {\n",
              "        text-align: left;\n",
              "    }\n",
              "\n",
              "    .dataframe thead tr:last-of-type th {\n",
              "        text-align: right;\n",
              "    }\n",
              "</style>\n",
              "<table border=\"1\" class=\"dataframe\">\n",
              "  <thead>\n",
              "    <tr>\n",
              "      <th></th>\n",
              "      <th>recency</th>\n",
              "      <th>frequency</th>\n",
              "      <th colspan=\"2\" halign=\"left\">monetary</th>\n",
              "    </tr>\n",
              "    <tr>\n",
              "      <th></th>\n",
              "      <th>mean</th>\n",
              "      <th>mean</th>\n",
              "      <th>mean</th>\n",
              "      <th>count</th>\n",
              "    </tr>\n",
              "    <tr>\n",
              "      <th>Cluster</th>\n",
              "      <th></th>\n",
              "      <th></th>\n",
              "      <th></th>\n",
              "      <th></th>\n",
              "    </tr>\n",
              "  </thead>\n",
              "  <tbody>\n",
              "    <tr>\n",
              "      <th>0</th>\n",
              "      <td>181.57</td>\n",
              "      <td>19.44</td>\n",
              "      <td>371.46</td>\n",
              "      <td>1519</td>\n",
              "    </tr>\n",
              "    <tr>\n",
              "      <th>1</th>\n",
              "      <td>42.00</td>\n",
              "      <td>68.38</td>\n",
              "      <td>1014.58</td>\n",
              "      <td>1732</td>\n",
              "    </tr>\n",
              "    <tr>\n",
              "      <th>2</th>\n",
              "      <td>19.30</td>\n",
              "      <td>308.04</td>\n",
              "      <td>7443.10</td>\n",
              "      <td>670</td>\n",
              "    </tr>\n",
              "  </tbody>\n",
              "</table>\n",
              "</div>"
            ],
            "text/plain": [
              "        recency frequency monetary      \n",
              "           mean      mean     mean count\n",
              "Cluster                                 \n",
              "0        181.57     19.44   371.46  1519\n",
              "1         42.00     68.38  1014.58  1732\n",
              "2         19.30    308.04  7443.10   670"
            ]
          },
          "metadata": {
            "tags": []
          },
          "execution_count": 55
        }
      ]
    },
    {
      "cell_type": "code",
      "metadata": {
        "id": "YUfCW4Vzu2mK",
        "colab": {
          "base_uri": "https://localhost:8080/",
          "height": 350
        },
        "outputId": "63f5ef9b-3de8-445c-8491-82cd1b98547d"
      },
      "source": [
        "# Create the dataframe\n",
        "df_normalized = pd.DataFrame(rfm_normalized, columns=\n",
        "                             ['Recency', 'Frequency', 'Monetary'])\n",
        "df_normalized['ID'] = rfm.index\n",
        "df_normalized['Cluster'] = model.labels_\n",
        "\n",
        "# Melt the data\n",
        "df_nor_melt = pd.melt(df_normalized.reset_index(),\n",
        "                      id_vars=['ID', 'Cluster'],\n",
        "                      value_vars=\n",
        "                      [ 'Frequency', 'Monetary', 'Recency'],\n",
        "                      var_name='Attribute',\n",
        "                      value_name = 'Value')\n",
        "df_nor_melt.head()\n",
        "\n",
        "# Visualize it\n",
        "sns.lineplot('Attribute', 'Value', hue='Cluster', data=df_nor_melt )"
      ],
      "execution_count": 56,
      "outputs": [
        {
          "output_type": "stream",
          "text": [
            "/usr/local/lib/python3.6/dist-packages/seaborn/_decorators.py:43: FutureWarning: Pass the following variables as keyword args: x, y. From version 0.12, the only valid positional argument will be `data`, and passing other arguments without an explicit keyword will result in an error or misinterpretation.\n",
            "  FutureWarning\n"
          ],
          "name": "stderr"
        },
        {
          "output_type": "execute_result",
          "data": {
            "text/plain": [
              "<matplotlib.axes._subplots.AxesSubplot at 0x7f7847a3c668>"
            ]
          },
          "metadata": {
            "tags": []
          },
          "execution_count": 56
        },
        {
          "output_type": "display_data",
          "data": {
            "image/png": "[encoded data removed]",
            "text/plain": [
              "<Figure size 432x288 with 1 Axes>"
            ]
          },
          "metadata": {
            "tags": [],
            "needs_background": "light"
          }
        }
      ]
    },
    {
      "cell_type": "markdown",
      "metadata": {
        "id": "lXaWmagjAqSt"
      },
      "source": [
        "### Interpretation\n",
        "\n",
        "**Cluster-0**  bought products least frequently, spend less money but they bought products just recently. Therefore, this cluster would be ***new customers***.\n",
        "\n",
        "**Cluster-1** bought products more frequently, spend more money, and they bought goods recently .Therefore, this cluster could indicate the ***loyal/regular customers***.\n",
        "\n",
        "**Cluster-2** have high shopping frequency, spent most money but they bought products long time ago. Therefore these could be ***churned customers***.\n",
        " . "
      ]
    },
    {
      "cell_type": "code",
      "metadata": {
        "colab": {
          "base_uri": "https://localhost:8080/",
          "height": 817
        },
        "id": "QSNqWInhqZ7e",
        "outputId": "cc5a4917-0fd3-43ac-f963-8d7f098d104a"
      },
      "source": [
        "import plotly.graph_objects as go\n",
        "\n",
        "PLOT = go.Figure()\n",
        "\n",
        "CUSTOMER = ['New', 'Regular', 'Churned']\n",
        "COLOR = ['orange', 'green', 'red']\n",
        "\n",
        "for C in list(df_normalized.Cluster.unique()):\n",
        "    \n",
        "    PLOT.add_trace(go.Scatter3d(x = df_normalized[df_normalized.Cluster == C]['Frequency'],\n",
        "                                y = df_normalized[df_normalized.Cluster == C]['Monetary'],\n",
        "                                z = df_normalized[df_normalized.Cluster == C]['Recency'],\n",
        "                                mode = 'markers', marker_color = COLOR[C], \n",
        "                                marker_size = 5, marker_line_width = 1,\n",
        "                                name = CUSTOMER[C]) )\n",
        "\n",
        "\n",
        "PLOT.update_layout(width = 800, height = 800, autosize = True, showlegend = True,\n",
        "                   scene = dict(xaxis=dict(title = 'Frequency', titlefont_color = 'black'),\n",
        "                                yaxis=dict(title = 'Moentary', titlefont_color = 'black'),\n",
        "                                zaxis=dict(title = 'Recency', titlefont_color = 'black')),\n",
        "                   font = dict(family = \"Gilroy\", color  = 'black', size = 12))\n",
        "\n",
        "PLOT.show()"
      ],
      "execution_count": 69,
      "outputs": [
        {
          "output_type": "display_data",
          "data": {
            "text/html": [
              "<html>\n",
              "<head><meta charset=\"utf-8\" /></head>\n",
              "<body>\n",
              "    <div>            <script src=\"https://cdnjs.cloudflare.com/ajax/libs/mathjax/2.7.5/MathJax.js?config=TeX-AMS-MML_SVG\"></script><script type=\"text/javascript\">if (window.MathJax) {MathJax.Hub.Config({SVG: {font: \"STIX-Web\"}});}</script>                <script type=\"text/javascript\">window.PlotlyConfig = {MathJaxConfig: 'local'};</script>\n",
              "        <script src=\"https://cdn.plot.ly/plotly-latest.min.js\"></script>                <div id=\"d14f28cd-a8d6-46ee-9872-e6ee192ca379\" class=\"plotly-graph-div\" style=\"height:800px; width:800px;\"></div>            <script type=\"text/javascript\">                                    window.PLOTLYENV=window.PLOTLYENV || {};                                    if (document.getElementById(\"d14f28cd-a8d6-46ee-9872-e6ee192ca379\")) {                    Plotly.newPlot(                        \"d14f28cd-a8d6-46ee-9872-e6ee192ca379\",                        [{\"marker\": {\"color\": \"red\", \"line\": {\"width\": 1}, \"size\": 5}, \"mode\": \"markers\", \"name\": \"Churned\", \"type\": \"scatter3d\", \"x\": [-2.520201539768054, 0.712745593410368, 4.063988507338862, 1.243992957151259, -0.05526080247215775, 1.138778881143999, 1.6235429894192281, 1.8707008870191235, 1.6235429894192281, 2.0842932850226417, 1.0348737895979045, 0.8071843742703436, 2.339479133464176, 0.5333335175282472, 0.892114148229143, 0.10488159944063691, 1.3076685953787222, 1.161776737845809, 1.3917722821983023, 1.5990518688417548, 0.340899235429617, 1.6882497454116692, 1.8374638443828535, 1.3228874865400502, 0.7649094055298687, 1.1434276503508962, 1.945081536051511, 0.9044570310950502, 1.1246805650352978, 1.8353454849945814, 1.8808425445170889, 1.734480604337596, 2.6570512760807716, 3.178820840631546, 1.0401169154889003, 1.0607749643075917, 1.8767994677510456, 2.1376144438819633, 1.5962886452030778, 1.2522114572366914, 0.8342354788044699, 1.381248840934109, 0.957886239620913, 2.3196502356328486, 1.1151521359596122, 1.636864292852391, 1.6235429894192281, 1.481219231581088, 0.6405245516103885, 1.1663038412331503, 1.3488998934793446, 0.82755342147116, 1.6421376924251783, -0.18334658994953248, 2.1952102528669037, 3.1039217845362854, 1.1929805339532569, 1.292180019004885, 1.9106053931615135, 1.628895376244273, 1.1929805339532569, 0.5237433979862353, 0.5796872364082505, 1.9783015002397686, 0.46374172283064463, 0.7503328197988062, 1.490620628419301, 0.9226417812221162, 1.0957735380481732, 1.0556568438743277, 1.1246805650352978, 1.024290405384644, 1.0401169154889003, 1.9819191056584355, 1.5962886452030778, 1.0505080507644426, 0.6972263356250563, 1.1006591824488385, 1.2273193536302165, 1.9164428261677333, 1.7896738968059178, 1.5907363595910122, 1.4653246382975764, 1.874771157105663, 1.075948994621343, 0.8002840573345075, 1.902763424727678, 1.1246805650352978, 1.33784618738509, 1.57386875083239, 1.1572258284568124, 0.757652675168513, 0.9345526278457734, 1.693229806229537, 0.8732568381920581, 1.1341049658017717, 1.42260754073465, 0.2783171950833015, 0.9917325735898648, 1.0957735380481732, 0.7503328197988062, 1.9673619407790341, 1.2273193536302165, -0.03579303319809492, 2.1314990601597987, 1.2356961072305497, 0.9226417812221162, 1.6807274012574143, 1.2315178173251453, 1.6421376924251783, 1.6957095051704125, 0.9693180043991483, 0.8140287606954111, 1.7578900686248924, 0.9286180277989715, 1.2356961072305497, 1.7128781473715098, 0.9404461746280722, 1.272424719922996, 0.7649094055298687, 0.9521124182962254, 1.6045527512687643, 0.8002840573345075, 1.6807274012574143, 1.0908600292898691, 1.1526508538324023, 0.9693180043991483, 0.7649094055298687, 0.8208181422247623, 0.8140287606954111, 0.07196506581079778, 1.0658627859849037, 2.2164423172238568, 1.0081662130546363, 1.6857493044685805, 1.717723772268067, 1.3777128289236416, 0.8408651730798805, 1.0401169154889003, 1.280380593573476, 1.1199295016441542, 0.5521869727207566, 1.4090361908270654, 1.4326505681383008, 0.9749770032974985, 1.381248840934109, 1.9997954959940925, 1.2882645735668075, 2.7230565718001243, 1.5391425240643208, 1.2562917992303542, 0.7721041217606766, 1.6499899197600423, 1.929919670041399, 2.163162369599375, 1.303822116615769, 4.168317570952997, 1.4326505681383008, 1.045328204024291, 1.0658627859849037, 1.0607749643075917, 1.1006591824488385, 1.2481119055988845, 0.9226417812221162, 1.2882645735668075, 2.8000192169900444, 1.0081662130546363, 1.6577738067238383, 1.3987185616217936, 1.481219231581088, 1.462111121943453, 2.148219864490925, 0.6893575882146045, 1.2188610953569794, 1.138778881143999, 0.9636212572445986, 0.7721041217606766, 0.49428735887718056, 0.7721041217606766, 0.9749770032974985, 1.045328204024291, 1.5272587241368034, 0.6972263356250563, 1.3882784517467166, 0.6893575882146045, 3.0815900329775214, 0.9749770032974985, 1.161776737845809, 0.8140287606954111, 1.462111121943453, 1.075948994621343, 2.0614072033716084, 1.1885910519544387, 1.5450252912487934, 1.7153042273396817, 0.5796872364082505, 1.1708073936469499, 0.7429486981268704, 2.164643422499481, 0.8604483578643716, 1.3341304047923919, 1.3415462726944305, 1.7896738968059178, 1.5653135340794304, 2.604830243388171, 0.9805987654365721, 0.8342354788044699, 2.2136393018978997, 1.0859183269273422, 2.4316662175990547, 1.628895376244273, 1.5595639931138274, 2.6066794742088817, 1.311498221424783, 2.053093492040981, 1.6654905669611104, 0.43202009414069564, 1.8268221239167042, 1.7532566227548292, 1.311498221424783, 1.8767994677510456, 1.4968331878984864, 1.6654905669611104, 1.7919018860603417, 3.550694767218392, 0.5706213203380267, 0.6235910692525277, 0.8474433423364669, 1.1246805650352978, 1.243992957151259, 1.3882784517467166, 1.4425804599192376, 2.139136980999506, 1.4588858709442516, 1.8727383038616676, 1.6577738067238383, 0.8983079982008648, 1.2882645735668075, 1.6782058578330434, 1.7080062361996655, 1.860444603436406, 1.2315178173251453, 1.7321058092599175, 1.6882497454116692, 1.3882784517467166, 1.5212565942145326, 2.0225247130827233, 0.9972455916015086, 1.2562917992303542, 1.223100514533825, 0.2912241639539657, 1.381248840934109, 0.9286180277989715, 2.7098833624436742, 2.751256755948086, 1.7963414373356472, 1.381248840934109, 1.4491388191376418, 0.8408651730798805, 0.9462992487060103, 0.9861837918898245, 0.8983079982008648, 1.8029601090171858, 0.9749770032974985, 0.6814142021528561, 0.9805987654365721, 2.017329350355003, 1.7273373200051207, 1.0908600292898691, 1.1151521359596122, 0.9462992487060103, 1.618158321040436, 1.239854421952565, 2.7336279969969155, 1.9710230367151225, 2.1222493226287935, 1.0401169154889003, 2.03793642632043, 1.8160537569779402, 3.002218256729869, 1.9356349696909527, 1.272424719922996, 1.5152135601165635, 1.8353454849945814, 1.0401169154889003, 1.9106053931615135, 0.9861837918898245, 0.7503328197988062, -1.8278752128537683, 0.6893575882146045, 1.2356961072305497, 0.7354991373165964, 0.8795892698353773, 1.3153111461025526, 1.698182368610063, 1.4999231937843922, 0.8668767820337605, 2.3271354597661076, 0.6149935798737551, 1.2960779850722564, 1.6127409675940927, 0.7649094055298687, 1.0957735380481732, 0.8668767820337605, 1.7153042273396817, 0.7721041217606766, 1.5091290436265483, 1.264395589393124, 0.712745593410368, 1.223100514533825, 1.2146008882907995, 1.4090361908270654, 3.430792190598728, 1.3452307966682688, 2.053093492040981, 2.105046685341009, 0.9105619096233312, 1.223100514533825, 1.5907363595910122, 0.8474433423364669, 1.2146008882907995, 1.5624434107507816, 1.601806552806956, 1.6629256985013432, 1.7896738968059178, 1.3228874865400502, 1.5450252912487934, 0.665297578691037, 0.6733947047083444, 1.1973479117523318, 1.5767023064996404, 2.041326363015472, 1.2999586317005634, 0.665297578691037, 1.6072905178785777, 1.1526508538324023, 1.1841792341356352, 1.080948095786389, 2.278682490361936, 1.3561923336133597, 1.4523998096581152, 1.462111121943453, 2.3171417728667523, 2.5367344770649614, 1.647380164910481, 1.3076685953787222, 1.0135747316184527, 1.8500709935034754, 1.8767994677510456, 1.1841792341356352, 1.0401169154889003, 1.1006591824488385, 1.9926868130068758, 1.2562917992303542, 1.0957735380481732, 0.49428735887718056, 1.1199295016441542, 1.3882784517467166, 1.550869349257057, 2.5737866964783382, 1.5907363595910122, 1.129405622607041, -1.018647300423445, 1.5653135340794304, 1.8521552344496302, 0.9636212572445986, 1.161776737845809, 0.8983079982008648, 1.4874979172517473, 0.9166232817689767, 1.4748956504006772, 1.5879471866228425, 0.9166232817689767, 1.5060710453923292, 1.1006591824488385, 0.9462992487060103, 0.957886239620913, 2.2426571869231906, 2.097119868191704, 1.9507028514352303, 0.8342354788044699, 0.453303073932427, 1.429315593684432, 1.4874979172517473, 0.8002840573345075, 0.47404979454866286, 1.175287646000597, 1.1434276503508962, 0.665297578691037, 1.4968331878984864, 2.1066238964782213, 2.0311187362860212, -1.091659864520088, 1.7963414373356472, 1.2960779850722564, 0.9521124182962254, 1.381248840934109, 1.0658627859849037, 1.405610407445947, 2.7480755312390137, 0.8408651730798805, 0.892114148229143, 1.3525536955561859, 1.5391425240643208, 0.8140287606954111, 1.6882497454116692, 0.8140287606954111, 1.3415462726944305, 0.8983079982008648, 1.9746695166508175, 0.6733947047083444, 1.075948994621343, -0.28202528536651716, 1.31910751871172, 1.5710261434708142, 0.9226417812221162, 0.7721041217606766, 0.8539708044675788, 0.9286180277989715, 2.2655018325748406, 1.5681744246684133, 0.8539708044675788, 1.4968331878984864, 0.9286180277989715, 1.4588858709442516, 0.9166232817689767, 1.0957735380481732, 1.075948994621343, 1.0189493172237996, 1.636864292852391, 1.636864292852391, 0.07196506581079778, 0.6405245516103885, 0.757652675168513, 2.2655018325748406, 0.7503328197988062, 1.6654905669611104, 1.1885910519544387, 1.1246805650352978, 1.3705978015870945, 1.760197883862161, 1.7670860723434862, 1.5332205159810892, -1.8278752128537683, 1.2562917992303542, 1.7392114659076374, 0.9345526278457734, 1.5566752189760273, 1.175287646000597, 2.6149568093753515, 0.5521869727207566, 1.2764117277479234, 1.9488329266368136, 0.8732568381920581, 1.311498221424783, 1.1246805650352978, 1.5152135601165635, 1.1572258284568124, 1.024290405384644, 0.8208181422247623, 1.4685265075893286, 0.44273039527928615, 1.4392829046482243, 0.7933268604784086, 1.080948095786389, 1.5182402260379597, 2.157214321756013, 1.6072905178785777, 0.9805987654365721, 1.4968331878984864, 1.8332221573967051, 1.9241682863027858, 2.2136393018978997, 1.243992957151259, 1.2522114572366914, 1.3452307966682688, 2.2628431607554758, 1.2103196823320583, 1.405610407445947, 1.7321058092599175, 1.9280065746041368, 2.3221519797881958, 1.3341304047923919, 1.4491388191376418, 1.0556568438743277, 1.6731413817721472, 1.2060172632170643, 1.6395048819913478, 1.5420887792787692, 1.9280065746041368, 1.6499899197600423, 1.2016934133538095, 1.0908600292898691, 1.4843641452994665, 1.7807065276685097, 0.9404461746280722, 1.5242627365365122, 2.3271354597661076, 1.280380593573476, 2.0987106986348265, 1.6577738067238383, 2.278682490361936, 1.2843314865791848, 2.535739583409261, 1.4021712337863723, 1.5990518688417548, 1.5302446274016508, 1.429315593684432, 0.21051298841486887, 1.0027233173856995, 1.8437893512169252, 0.8342354788044699, 0.892114148229143, 1.1103481663589894, 1.3153111461025526, 1.4392829046482243, 1.3777128289236416, 1.634215877532896, 1.628895376244273, 2.0480688963108378, 0.6814142021528561, 1.57386875083239, 0.9749770032974985, 0.957886239620913, 1.075948994621343, 0.6571212606357135, 1.2273193536302165, 1.8666122778004135, 0.9226417812221162, -0.30877321403281593, 1.9819191056584355, 1.3598159366810516, 0.9805987654365721, 0.5706213203380267, 0.44273039527928615, 0.5521869727207566, 1.3882784517467166, 1.024290405384644, 1.292180019004885, 1.0505080507644426, 1.5091290436265483, 1.9710230367151225, 1.280380593573476, 2.0891242239093604, 2.1284261060827476, 1.8289605011781507, 0.9286180277989715, 0.3646472953433755, 0.9044570310950502, 1.9728480961697563, 2.092330819617106, 2.3790952338323827, 1.8437893512169252, 2.020796196458117, 1.8521552344496302, 1.9636861076868695, 1.8666122778004135, 0.757652675168513, 1.2999586317005634, -0.30877321403281593, 0.2783171950833015, 1.493732358895454, 1.272424719922996, 1.4999231937843922, 1.6603534596713048, 0.9226417812221162, 1.5182402260379597, 1.6832418698841292, 0.6893575882146045, 1.3076685953787222, 0.47404979454866286, 0.757652675168513, 1.7532566227548292, 2.5983294663328302, 0.7279829318107287, 1.4425804599192376, 1.8160537569779402, 0.5886553053354706, 1.0908600292898691, 1.8521552344496302, 1.9106053931615135, 1.4425804599192376, 1.2522114572366914, 1.2999586317005634, 1.4968331878984864, 2.119145350697013, 2.143689587788635, 1.618158321040436, 1.6262231931013886, 0.8539708044675788, 1.5767023064996404, 1.0505080507644426, 1.3705978015870945, 1.462111121943453, 0.6149935798737551, 1.0556568438743277, 0.7649094055298687, 1.3525536955561859, 2.3209019452201582, 1.5962886452030778, 0.8208181422247623, 0.8983079982008648, 1.5450252912487934, 1.4523998096581152, 0.9693180043991483, 0.712745593410368, 1.7896738968059178, 1.4158480131378557, 1.5091290436265483, 1.2146008882907995, 1.0908600292898691, 1.31910751871172, 2.301947796604991, 0.9345526278457734, 1.2188610953569794, 0.6235910692525277, 2.3648825196928853, 1.8542346934579537, 0.7279829318107287, 1.6127409675940927, 1.2060172632170643, 1.8458880748334567, 0.30392962769803333, 2.487758411336433, 1.7647958549005978, 1.326651194899536, 0.8408651730798805, 4.595825434232815, 1.5767023064996404, 0.21051298841486887, 1.243992957151259, 1.3341304047923919, 1.0027233173856995, 1.7624998023062373, 1.5242627365365122, 2.3095756987116265, 0.0376373423832693, 0.410171505791188, 1.9944691688979992, 1.6629256985013432, 1.57386875083239, 1.9710230367151225, 0.8795892698353773, 1.7392114659076374, 0.9404461746280722, 1.9673619407790341, 0.9693180043991483, 1.3525536955561859, 0.8795892698353773, 0.5975276772489565, 0.7503328197988062, 1.892864891797276, 1.9183803461724283, 2.8550223215323163, 1.748599212142526, 1.0607749643075917, 1.3303987871617489, 1.2016934133538095, 0.82755342147116, 1.0607749643075917, 0.9226417812221162, 0.7933268604784086, 1.5030024540594131, 1.4999231937843922, 1.405610407445947, 1.0859183269273422, 0.5706213203380267, 1.138778881143999, 1.0957735380481732, 2.382614994069443], \"y\": [6.935300696239109, 1.3557451917663275, 4.768664157653378, 1.3270866759630615, 1.9527278261281167, 0.8587433935929766, 1.6974721832436186, 1.3081400267944219, 0.6884783210087448, 1.312158401034767, 0.3870471199282392, 3.4462984324663335, 3.333276018506761, 5.289502495716333, 0.6804111582408874, 2.7261723427481406, 1.3479450638260024, 1.5011300937047922, 1.3068021375288266, 2.6717179763337553, 1.9740309787612074, 2.4705381814611633, 1.711812889207067, 1.5144504140766768, 1.1458043008748848, 1.1085272873582748, 2.041343497871615, 0.8600476374069224, 1.0739704141711994, 1.7514775597504322, 1.419449525878659, 2.865762611477533, 4.384815954391291, 6.157816467373719, 2.3267585967278657, 2.142691923426299, 1.7887593080625814, 4.425791909655598, 1.8748122575715718, 2.815720133679021, 0.7356972211562772, 1.2641874866178908, 0.6544742055210908, 1.2013650604532893, 1.5760547852793623, 1.2180997707960834, 0.9325372400839023, 1.7271593333734638, 1.2900902760162145, 0.47152356075471813, 1.1257089191716372, 2.4702774523086193, 1.7633170618046632, 1.8828844391219988, 0.9289863014636525, 2.074105826206512, 1.255007131322102, 1.4415444724269377, 1.0666107874372772, 1.6419198508380657, 0.8939965884549106, 0.6114281895738977, 1.78179268133396, 2.622808531818931, 2.0119684910628375, 1.1946357513957107, 1.1673168495294037, 2.6071017344394964, 1.0260683728785966, 1.0977943084006652, 1.1980692840824356, 1.3437879020786967, 0.8239126691443274, 4.3681023132852355, 1.8134904637544105, 1.198666583225444, 1.247996690167281, 1.1278280508564054, 1.168089142951645, 0.9876115735222398, 2.4439657115377127, 1.7226495679120855, 0.8282957628368665, 2.336144383581815, 0.8083118876442991, 0.5153012014885734, 0.1266067231576302, 1.2920845563330816, 0.7327555912332662, 1.7586700588470692, 1.1402712662069248, 1.227744806491114, 1.3430663626241877, 0.6513312248633237, 1.9336006333248088, 0.8082312662462323, 1.5970888786766655, 2.1355279913409597, 0.8629631302730038, 0.8933487227124876, 0.8684636980855447, 1.862462138724316, 1.2225854232715243, 1.0355508679200052, 6.437092832128799, 0.7236566763253839, 0.7410546526633832, 1.855170675445881, 0.956393526589578, 1.0393604381470933, 0.6806846191810774, 1.6055189049171816, 1.0587976894317348, 3.4008922034708493, 0.9252851639958551, 4.201048387587363, 4.992599867153463, 0.8672185746097507, 1.120844727679407, 2.19151920667788, 0.7007331191692499, 1.0307706676460957, 0.9161985235647135, 1.8705668897406995, 1.0682499832177497, 3.3944688519705215, 0.8814080737342587, 0.5585450972616448, 0.8513888361855964, 0.5376500068622138, 1.587468498639815, 0.788270132527365, 2.35005021270581, 0.9116717725014776, 0.8262878729582132, 2.0001902878341546, 1.3427068396617343, 1.1458288630047506, 0.7430985971757182, 1.274285030012707, 1.4572005485672936, 0.9527388846666738, 0.7618488622820294, 3.407895842660186, 0.9874212318579095, 1.190803871237075, 1.71752174014532, 3.225531355199931, 2.2097561086164763, 1.8324096348372116, 1.8162165446449863, 2.5675173404469462, 0.334712347113289, 1.4226815134334985, 5.750463058403256, 1.3232416252875496, 6.442531906525798, 1.0305129269262696, 1.7178375324376935, 0.9667359478563541, 0.9194778360901658, 0.9052829449355921, 1.1821555706724503, 1.4844318718769354, 1.3543903930307013, 1.4851093592748827, 1.06906571122912, 0.4312292988836506, 1.4989807783027718, 1.475315737722292, 1.4830384419494582, 2.6940473896895494, 0.6132515675460062, 1.1354916964783746, 1.1099976477187843, 0.8497858824785518, 0.5678431497561935, 0.9544700431720894, 2.8712082422056575, 0.8607326375361813, 1.2246101918524546, 1.468914106396936, 0.7437055705803876, 1.2690105588575604, 1.5294369373372467, 5.80340602953167, 1.292292273859776, 0.9942483918228888, 0.7588465523489585, 1.5640695247441925, 0.8360848031694964, 2.3833999502404475, 1.0660134072764131, 1.4749978486124686, 1.1584741670226446, 0.8587804621349587, 1.3162197583718405, 0.8563950275196269, 1.765185184214003, 0.5829532406247057, 1.3739289953923979, 1.4312734269509813, 0.7197329421433851, 0.09017961193884338, 1.016647044174878, 0.6409010184409921, 0.7710027550283342, 0.8050488440713468, 1.1692665547710601, 1.76633918662878, 0.6164276535278767, 1.3921676239453387, 2.259972728119472, 0.9704392848600619, 1.4222940968258104, 0.9490718290120561, 1.1953980640791146, 0.8457968987125634, 1.3040172413246864, 0.7701353945121425, 1.5783970988754399, 0.93810074741888, 0.0990306136430841, 0.42110261353478595, 2.8038701218865145, 3.331373504958944, 0.5137747735837809, 0.9234275864170635, 0.9904434833119601, 0.3227731868428555, 0.5876058916796518, 0.8276709657126321, 2.38015748582866, 4.416191161512539, 0.21726189920495048, 1.7062577303533544, 0.6455715871396425, 0.2260674780469989, 0.8350150332892079, 1.0914170676756785, 0.3929180793667353, 1.541413645742143, 0.9506783583338886, 0.8784414784271645, 0.421611180297273, 0.1686184765938703, 0.6132869482105505, 0.8915955204682456, 2.434532603356951, 1.800480764496536, 1.2744183795400712, 1.5629746941084095, 0.8060873706273352, 2.59816502434629, 2.1763024952532892, 1.3941616723622106, 0.9055486513032011, 0.6494212536477079, 0.707989301738671, 1.092566947351798, 0.935235371100318, 1.0585575611018312, 2.1601055137527765, 0.9394524190433998, 3.0843776588387715, 0.9799245485160382, 2.6645101508320526, 0.9302791740099021, 1.156459451148194, 1.7651787232788632, 2.189771084541297, 1.9972359586224544, 0.3614365988725144, 1.85280958167848, 0.572763940478829, 1.9504022592106465, 0.45164918734592263, 0.8490023994539228, 1.3859139672174292, 3.671343509909141, 2.1189793237634533, 1.6111992341987351, 0.6653025868750236, 5.953229010800953, 1.048242453344989, 2.4588972306927404, 0.7857449138734479, 1.4608619708601547, 5.1629253026101525, 1.1891340942154398, 0.9124938993518003, 0.6965605531170254, 2.7188362935936845, 1.9063735568016245, 1.634600612971379, 1.4982762112095116, 0.5824191664666296, 3.546763756503938, 1.5061003540701654, 3.2938810540379158, 2.1038300531547978, 0.45170433168891233, 1.7340505274155016, 1.1211846472952502, 1.9278878966382575, 2.5704756766994117, 0.818986594400729, 2.1623465105386726, 1.4788993722945905, 1.2080104769554758, 1.5117241364259777, 1.5773442663473467, 6.247131031772214, 0.5932572705828263, 0.914615020889361, 2.2325291370147062, 0.7838207013156961, 1.2169749609584761, 1.777085629784216, 1.1410567172265325, 1.297532796716888, 0.339431579695656, 0.35891950934635125, 0.14557302371857903, 1.0737679660434873, 0.3233136780990275, 0.30654418003637307, 2.0556964479130704, 2.6526722413862585, 1.184638945299498, 0.611844423228855, 2.9534658056988343, 2.555740445319894, 1.1896211660121765, 3.1277893042665745, 1.3403899007702222, 0.9957636360605421, 0.789227603389608, 1.3005826651342445, 0.6143390927939989, 0.4106745210632801, 1.1703100680607637, 1.5496104061628118, 1.5130260597832477, 1.3474833578391585, 0.83632953325333, 1.21010945773248, 1.9452638970491893, 2.557927374967837, 1.2188159558873766, 0.9511798281504816, 1.089245245705525, 2.85115898094028, 1.1364061389673759, 0.9933615443449639, 1.8860352536656897, 0.9038566489100334, 0.39040767461948805, 1.1141625123502414, 1.5714399369820033, 1.6030397952392423, 1.5148155761779925, 5.430872052727126, 0.8030504382643037, 0.8678044308837629, 0.763498193065455, 1.0875451203531172, 6.036400039830927, 1.5441241705861672, 0.8948792532349731, 1.3585487120972846, 1.6833694314419412, 0.7045665065305782, 0.7108070272128211, 4.76349594230071, 1.2194643607360547, 0.9871016760841376, 3.311616724404306, 1.0506026180622359, 1.248789267677332, 1.411555033875503, 1.5907353470326833, 0.039563075927052334, 0.2147561256713173, 0.8147125073349384, 1.8108803977438122, 1.4142689096851144, 1.1383784333471192, 1.127958462119419, 0.9397962856132595, 0.9256606512690574, 1.0258131574352294, 2.8351970253017953, 0.4718442573094301, 1.1136832340454117, 4.991131168063991, 0.3726935737422918, 1.2411647277666304, 7.081903035671878, 2.31125564754732, 0.722840998125149, 0.7112102651049949, 0.9289615634433833, 0.45497354887183133, 1.8468736626264106, 3.1079398552719963, 0.7873431830386519, 1.2449958529106533, 1.0364070315502711, 1.6939285019585526, 1.2415583714577492, 2.536342335361654, 1.9138110752202666, 1.3038500002999853, 1.9715769054510566, 1.60340623936539, 0.5491337667955457, 3.781376299265055, 1.2215252236900493, 0.8568924709621929, 1.1873040238342685, 1.211256701190355, 0.861354412204094, 1.608798082036069, 1.6649526002912713, 0.3294147037289957, 0.40541931736312786, 1.6452288477121781, 0.9749014854687085, 1.0327551467825757, 1.257863742321582, 4.252703645432555, 1.9253605931372857, 0.6231742984799709, 1.1599416989950124, 0.6790219714076319, 1.0112387419858804, 1.3291308623198395, 0.6661277126599326, 0.6237799578993292, 4.833048711189861, 0.5697643227685785, 1.1984734508388912, 9.604672410239493, 1.1508500196699412, 0.5528573949652138, 0.9840523130866887, 2.4082860997993674, 2.9170333862301008, 1.3445254608213033, 1.7259174740508763, 1.0982816047505655, 2.2310401284408266, 1.2272573343810627, 1.3333433050087042, 1.108976709505443, 1.6754762262303846, 1.4134431707837494, 0.9556508124604637, 1.944755225577944, 1.2435598650053772, 2.2796202380096413, 1.328466223921238, 2.195943195548766, 1.0324350295421765, 6.506696545633859, 1.0167904264026992, 1.5788209175880474, 1.6538571566533278, 3.041840019772069, 0.8098006455035133, 1.1998872423532536, 1.9738412678113697, 1.2619164669622662, 0.5147576201271121, 1.4945670165979998, 2.034256852769977, 0.7125919006911999, 0.2583191293541541, 2.0256666712823823, 1.9297095253299352, 0.9262555689337418, 1.6950553426774733, 0.7161711346036553, 0.4687424113835899, 2.591624233150278, 0.7296697042507956, 0.4815938695641103, 0.20894707782879662, 0.46741636202139714, 1.8920353654200828, 1.1095610811235654, 1.0524347322261776, 3.3340608593701666, 2.5277429484622385, 0.9308828363397074, 2.0122857192140478, 1.2318839279799039, 1.029937811232842, 0.3733883212915948, 0.8526475888698994, 2.0357013119242904, 0.943276109241949, 1.462692360048441, 0.9038278932534796, 1.0124663893866357, 0.57539265404439, 1.3956834216420198, 0.6482153746767108, 0.5802353529028351, 1.4311906412106845, 1.6688373782909207, 0.433327152856131, 1.299001117615278, 0.5393870329252793, 2.291036230958606, 0.23922715767990663, 1.7127142743804682, 1.0711723754614542, 1.0274928232289966, 1.6155115153568822, 1.449409238710994, 0.894206450216055, 0.7889357600478765, 0.9786122241400669, 0.6330499679387286, 1.253140208510399, 2.618481618542662, 0.8021600724424918, 1.534399757278453, 2.5972539339012854, 1.1616146296067802, 0.8037708033480763, 1.2354695103749522, 1.1088510099115847, 0.806418001854042, 0.6525386171632531, 1.1754843554904473, 0.7447380245749124, 0.9198619062033142, 0.5935311249245081, 1.0612941216687242, 0.5687766434103829, 1.053522543405688, 1.2290809617888736, 2.288138738771278, 0.5545279344815539, 2.2805412841015054, 0.826909482076205, 1.8478002798506, 0.6233367123833065, 1.9190471273982797, 2.8298851327900363, 0.8821670234759543, 1.431146659683191, 1.5121343326967964, 1.3298446451421786, 3.7057057078591384, 4.6391457763716355, 2.0512624768324708, 0.8665034370666137, 1.9680814101614414, 1.3639859299083084, 1.5694428105753255, 3.404737480905206, 0.7672851155839108, 0.8242316149174254, 10.177266861540373, 0.4814078384523226, 0.5643411881936551, 0.6513312248633245, 1.1739826874568333, 1.8109077355692003, 7.444293978398701, 0.9701229979772739, 1.1948531661636013, 0.7716962591975817, 0.5898135317638109, 1.3919770898522965, 1.1931189933198096, 2.651266111924327, 0.7792279364478545, 0.35679804313129393, 1.2815130120191625, 0.9363751492091255, 1.58509991480219, 1.297504816185119, 1.4512030356874641, 0.6317071732919817, 0.5260112784543792, 0.7625944727499617, 0.9599977588148514, 1.2864945526572098, 1.5284064839626612, 0.8683790044686377, 0.9955134542315516, 1.0547755111791095, 0.4353960687962252, 3.715022244311931, 3.308962437821853, 0.8064564423729694, 1.0591156400816393, 1.7302307969150943, 1.5013264868618723, 0.8294537592862684, 0.5304476071340721, 2.573336396771503, 1.7118306110173989, 1.6533406377949924, 1.1374311727391886, 0.9531875090398421, 1.630904603834348, 2.92749878684206, 0.7468166842325383, 0.518163118526721, 0.5060671782628945, 1.700565740082527, 1.142860249300584, 0.7269390016992118, 1.3013505457243826, 0.5956975097916846, 1.0144880196567811, 1.6569646530535738, 2.1436295815678963, 0.5054043586379721, 0.6090345309965249, 0.9191754887327439, 5.227080451616726, 1.6522362664751356, 4.272533677785718, 1.5975578445645364, 0.6549716026495067, 1.0488532421154961, 2.5765347391885127, 0.5633953325636478, 1.3579306059097527, 1.3839502004088906, 6.143128999354164, 0.7509487571240896, 0.8623383453805636, 1.433119559771348, 1.3523304380132344, 0.6497311625345674, 1.9467616627894382, 0.7747774362260544, 0.6271937207700518, 0.8583318692474987, 0.8661936809384336, 1.2018277149469383, 2.3523671320959068, 0.8898946549225994, 11.411969509836808, 2.181644219288633, 1.7113498476894622, 0.5317143456258017, 2.2480481103086114, 0.9481510445181727, 2.0938421931595435, 0.5399436982919051, 1.6600760539709905, 0.861898247031462, 0.6416026386701994, 1.8870749669478815, 1.6790099887973444, 1.6145359510776145, 2.041193691044326, 0.930127337355999, 0.8416656089482527, 1.0220329954758245, 0.6524312416866234], \"z\": [1.629451306700988, -1.837578251021704, -2.111268390076232, -1.5282043700731744, -0.21682476089674385, 0.10622785776467517, -1.6612232276123453, -1.4202653633507953, -1.178494298150978, -0.47599162107292053, -1.5282043700731744, -1.1146920690903301, -1.1146920690903301, -0.584681057960812, -1.837578251021704, 0.16876118667643017, -0.35802977817907533, -2.111268390076232, -1.0564821952276102, -1.5282043700731744, -1.6612232276123453, -1.5282043700731744, -0.9531550581864712, -2.111268390076232, -1.0028826209268564, 0.025146952812692958, -0.7831889994978756, -1.5282043700731744, -0.33634376486023915, -0.8220748126601545, -2.111268390076232, -1.6612232276123453, -0.9531550581864712, -1.6612232276123453, -1.1146920690903301, 1.4600428832945167, -0.3152086294638053, -2.111268390076232, -2.111268390076232, -2.111268390076232, -0.9531550581864712, 0.44085119610242773, -1.4202653633507953, -1.0028826209268564, -0.7831889994978756, -0.4031889496364762, -0.7831889994978756, -0.47599162107292053, -1.178494298150978, -0.8220748126601545, -1.0564821952276102, -1.5282043700731744, -0.38029951340643287, -1.6612232276123453, -1.5282043700731744, -2.111268390076232, -1.0028826209268564, -1.6612232276123453, -0.7110682307853167, -2.111268390076232, -0.5560724028589439, -1.5282043700731744, -0.23561096215865984, -1.4202653633507953, -0.25481988464053473, -0.19844121269097797, 0.36492159030490035, -0.09563710828395837, -1.1146920690903301, 0.1317460487824049, -0.33634376486023915, -0.35802977817907533, -1.837578251021704, -1.837578251021704, -0.9531550581864712, -2.111268390076232, -1.4202653633507953, -0.8631566647110013, -0.746254997001888, -0.47599162107292053, -1.2492383485050143, -1.837578251021704, -2.111268390076232, -0.746254997001888, -1.6612232276123453, -2.111268390076232, -2.111268390076232, -0.3152086294638053, -0.2945943042087912, -1.837578251021704, -2.111268390076232, 0.19265192269109074, 0.2826275401309898, -0.9067296198900479, -1.0564821952276102, -0.7831889994978756, -2.111268390076232, -0.5560724028589439, -0.7831889994978756, -0.128579765320932, -1.0564821952276102, -1.6612232276123453, -2.111268390076232, -1.6612232276123453, -1.5282043700731744, -0.47599162107292053, -1.4202653633507953, -1.5282043700731744, -0.501798694755158, -0.746254997001888, -1.5282043700731744, -1.837578251021704, -0.9531550581864712, -1.837578251021704, -1.837578251021704, -2.111268390076232, -2.111268390076232, -0.35802977817907533, 0.10622785776467517, -1.1146920690903301, -0.7110682307853167, 0.7049700684256084, -1.837578251021704, -0.5560724028589439, -0.6143810068863226, -1.6612232276123453, -1.0028826209268564, -2.111268390076232, -0.42673762056451203, -1.837578251021704, -0.584681057960812, -1.6612232276123453, -1.2492383485050143, -0.6774555332009263, -0.35802977817907533, -1.5282043700731744, -0.6452689489820141, -0.128579765320932, -1.5282043700731744, -1.0564821952276102, -0.128579765320932, -1.0564821952276102, -0.7110682307853167, -1.2492383485050143, -1.837578251021704, -0.16280885628468264, -0.746254997001888, -2.111268390076232, -2.111268390076232, -0.528470011672296, -1.4202653633507953, -1.0564821952276102, -1.5282043700731744, -1.837578251021704, -1.0564821952276102, -1.178494298150978, -1.5282043700731744, -0.7831889994978756, -1.5282043700731744, -0.5560724028589439, -1.5282043700731744, -1.0028826209268564, -1.837578251021704, -1.837578251021704, -1.1146920690903301, -0.6452689489820141, 0.1190744841715067, -1.1146920690903301, -1.0028826209268564, -1.837578251021704, -1.837578251021704, -1.4202653633507953, -1.837578251021704, -0.14552657287159496, -0.47599162107292053, -1.1146920690903301, -1.2492383485050143, -1.837578251021704, -1.1146920690903301, -1.178494298150978, -1.6612232276123453, -0.528470011672296, -1.0028826209268564, -1.837578251021704, -1.178494298150978, -1.178494298150978, -1.178494298150978, 0.43167150926014436, -1.178494298150978, -0.746254997001888, -0.746254997001888, -1.178494298150978, -1.0564821952276102, -1.0564821952276102, -1.837578251021704, -1.6612232276123453, -1.5282043700731744, -1.0028826209268564, -2.111268390076232, -1.5282043700731744, -2.111268390076232, -0.528470011672296, -1.0564821952276102, -2.111268390076232, -1.4202653633507953, -0.7110682307853167, -1.2492383485050143, -0.6452689489820141, -1.6612232276123453, -0.746254997001888, -0.746254997001888, -0.6452689489820141, -1.6612232276123453, -0.47599162107292053, -1.6612232276123453, 0.1190744841715067, -0.4031889496364762, -1.4202653633507953, -1.5282043700731744, -1.0564821952276102, -1.5282043700731744, -1.6612232276123453, -1.3288561648166746, -0.6774555332009263, -2.111268390076232, -0.7831889994978756, -2.111268390076232, -0.528470011672296, 0.010906031967872163, -1.4202653633507953, -2.111268390076232, -1.1146920690903301, -1.0028826209268564, -0.501798694755158, -0.47599162107292053, -1.178494298150978, -1.5282043700731744, -1.837578251021704, -1.0028826209268564, -2.111268390076232, -1.0028826209268564, -0.8220748126601545, -1.0564821952276102, -1.1146920690903301, -1.837578251021704, -1.0564821952276102, -2.111268390076232, -1.178494298150978, -0.7831889994978756, -1.5282043700731744, -1.5282043700731744, -1.0564821952276102, -1.178494298150978, -1.6612232276123453, -2.111268390076232, -0.048414495332627185, -0.1804416872913862, -0.16280885628468264, -1.5282043700731744, 0.025146952812692958, -0.11195434226511418, 0.16876118667643017, -0.584681057960812, 0.0932007214423289, -1.0028826209268564, -1.6612232276123453, -1.178494298150978, -0.6143810068863226, -1.6612232276123453, -0.38029951340643287, 0.1190744841715067, -1.0028826209268564, -1.0564821952276102, -0.7831889994978756, -1.1146920690903301, -1.6612232276123453, -1.0564821952276102, -1.4202653633507953, -0.7831889994978756, -1.0564821952276102, -0.6774555332009263, -1.1146920690903301, -0.501798694755158, -1.5282043700731744, -0.21682476089674385, -1.2492383485050143, -1.0564821952276102, -0.7110682307853167, 1.0575689432266242, -1.0564821952276102, -0.38029951340643287, -1.2492383485050143, -0.501798694755158, -1.178494298150978, -0.746254997001888, -1.0564821952276102, -1.5282043700731744, -1.837578251021704, -1.837578251021704, -2.111268390076232, -1.6612232276123453, -1.837578251021704, -1.0028826209268564, 0.19265192269109074, -0.33634376486023915, -1.1146920690903301, -1.2492383485050143, -1.4202653633507953, -0.47599162107292053, -0.00356214526519, -1.837578251021704, -0.00356214526519, -2.111268390076232, -0.9531550581864712, -0.35802977817907533, -1.4202653633507953, -1.178494298150978, 0.9889931166323324, -0.8220748126601545, 0.38445713919105917, 0.18078219890073627, -0.6774555332009263, -0.3152086294638053, -0.9531550581864712, -1.837578251021704, -1.1146920690903301, -1.837578251021704, -0.6452689489820141, -0.7831889994978756, -2.111268390076232, -0.3152086294638053, -1.6612232276123453, -0.7831889994978756, 0.025146952812692958, -0.3152086294638053, -0.9531550581864712, -0.1804416872913862, -0.6774555332009263, -0.5560724028589439, -1.178494298150978, -0.501798694755158, -1.1146920690903301, -1.2492383485050143, -0.9531550581864712, -1.2492383485050143, -1.4202653633507953, 0.6907431071642812, -1.0028826209268564, -1.0564821952276102, -0.128579765320932, -1.4202653633507953, -0.7831889994978756, -1.5282043700731744, -0.6774555332009263, -1.1146920690903301, -2.111268390076232, -0.3152086294638053, -1.837578251021704, -0.16280885628468264, -0.3152086294638053, -0.746254997001888, -0.6774555332009263, 1.3010822067283678, -1.6612232276123453, -0.1804416872913862, -1.0564821952276102, 0.42240651986917266, -1.2492383485050143, -0.07961568845698515, -2.111268390076232, -2.111268390076232, -0.5560724028589439, -0.584681057960812, 0.23869845315191887, -1.0028826209268564, -0.7110682307853167, -1.5282043700731744, -1.5282043700731744, -0.9531550581864712, -1.4202653633507953, 0.16876118667643017, -1.0564821952276102, -1.5282043700731744, -2.111268390076232, -1.5282043700731744, 0.44085119610242773, -0.528470011672296, -0.19844121269097797, -0.501798694755158, -1.6612232276123453, -1.1146920690903301, -0.23561096215865984, -1.6612232276123453, -0.048414495332627185, -1.178494298150978, -1.5282043700731744, -1.6612232276123453, -0.06387846075861044, -0.19844121269097797, -1.3288561648166746, -0.7831889994978756, -1.6612232276123453, 0.0665817729432942, -1.0564821952276102, -0.4031889496364762, -1.5282043700731744, -1.6612232276123453, -1.1146920690903301, -1.1146920690903301, -1.837578251021704, -1.0028826209268564, 0.5283102155516698, 0.2609141568224548, -0.5560724028589439, -0.33634376486023915, -1.6612232276123453, -1.6612232276123453, -1.837578251021704, -0.528470011672296, -1.0564821952276102, -1.178494298150978, 0.20437451162076323, -0.746254997001888, -0.09563710828395837, -1.1146920690903301, -1.6612232276123453, -1.3288561648166746, -0.47599162107292053, 0.16876118667643017, -1.3288561648166746, -0.8631566647110013, -1.178494298150978, -1.5282043700731744, -2.111268390076232, -1.4202653633507953, -1.5282043700731744, -1.837578251021704, -2.111268390076232, -0.9067296198900479, -0.25481988464053473, -0.746254997001888, -1.837578251021704, -1.178494298150978, -2.111268390076232, -1.6612232276123453, -1.2492383485050143, -0.01826577001439744, -1.837578251021704, -1.837578251021704, -1.0564821952276102, 0.9558677199599906, 0.20437451162076323, -2.111268390076232, -0.8220748126601545, -1.5282043700731744, -0.7110682307853167, -0.8220748126601545, -2.111268390076232, -0.746254997001888, 0.10622785776467517, -0.7110682307853167, -0.584681057960812, -0.746254997001888, -1.837578251021704, -1.6612232276123453, -1.5282043700731744, -0.06387846075861044, -1.1146920690903301, -1.1146920690903301, -2.111268390076232, -0.6774555332009263, -1.1146920690903301, -0.6774555332009263, -0.528470011672296, -0.8220748126601545, -0.746254997001888, -0.21682476089674385, -0.4031889496364762, -1.0028826209268564, 0.4130544522551369, -1.4202653633507953, -1.5282043700731744, -0.35802977817907533, -0.3152086294638053, -1.0564821952276102, -1.837578251021704, -1.0564821952276102, -0.4031889496364762, -2.111268390076232, -1.178494298150978, -0.8631566647110013, -1.0028826209268564, -0.35802977817907533, -1.1146920690903301, -0.128579765320932, -0.584681057960812, -1.4202653633507953, -1.5282043700731744, -1.4202653633507953, -1.5282043700731744, 0.9159280056455418, -0.9531550581864712, 0.3449897894022499, -1.4202653633507953, -1.1146920690903301, 0.010906031967872163, -0.9067296198900479, -0.584681057960812, -2.111268390076232, -0.9067296198900479, 0.42240651986917266, -0.746254997001888, -1.6612232276123453, -2.111268390076232, -0.4031889496364762, -1.6612232276123453, -1.0028826209268564, -1.6612232276123453, 0.4942306970510273, -0.38029951340643287, 0.2826275401309898, -0.9531550581864712, -0.42673762056451203, -0.42673762056451203, -0.27447318894709594, -1.2492383485050143, -1.6612232276123453, -0.3152086294638053, -1.4202653633507953, -0.7831889994978756, -0.7831889994978756, -0.35802977817907533, -0.3152086294638053, -1.4202653633507953, -1.178494298150978, -1.0028826209268564, -0.42673762056451203, -0.25481988464053473, -0.450989107369495, -0.1804416872913862, -1.5282043700731744, -0.528470011672296, -0.7831889994978756, -0.9531550581864712, -1.6612232276123453, -2.111268390076232, -1.178494298150978, -1.0028826209268564, -0.501798694755158, -1.837578251021704, 0.886486401810526, -0.746254997001888, -0.38029951340643287, -1.5282043700731744, -2.111268390076232, -0.9067296198900479, -0.528470011672296, -1.1146920690903301, -2.111268390076232, -0.19844121269097797, -1.4202653633507953, -0.38029951340643287, -1.0028826209268564, -1.178494298150978, -2.111268390076232, -1.837578251021704, -1.837578251021704, -1.178494298150978, -2.111268390076232, -0.7831889994978756, -2.111268390076232, -2.111268390076232, 0.0932007214423289, -1.6612232276123453, -0.4031889496364762, -2.111268390076232, -2.111268390076232, -2.111268390076232, -1.2492383485050143, -1.178494298150978, -2.111268390076232, 0.1190744841715067, -1.837578251021704, -1.5282043700731744, -0.5560724028589439, -1.837578251021704, -1.2492383485050143, -0.5560724028589439, -0.7110682307853167, -1.3288561648166746, -0.25481988464053473, -2.111268390076232, -0.9531550581864712, -0.501798694755158, -1.0028826209268564, -0.746254997001888, -0.01826577001439744, -2.111268390076232, -2.111268390076232, -1.837578251021704, -1.0564821952276102, -0.746254997001888, -1.2492383485050143, -0.38029951340643287, -0.746254997001888, -1.6612232276123453, -1.5282043700731744, -0.5560724028589439, -0.21682476089674385, -0.7831889994978756, -1.5282043700731744, -1.6612232276123453, -1.837578251021704, -1.5282043700731744, -1.4202653633507953, -2.111268390076232, -2.111268390076232, -0.6774555332009263, -1.178494298150978, -0.9067296198900479, -0.450989107369495, -0.584681057960812, -0.7831889994978756, -1.5282043700731744, -0.8631566647110013, -1.4202653633507953, -0.450989107369495, -1.837578251021704, 1.7673456657933873, -1.5282043700731744, -1.3288561648166746, -1.6612232276123453, 0.10622785776467517, -0.35802977817907533, -1.837578251021704, -1.5282043700731744, -1.1146920690903301, -2.111268390076232, -1.4202653633507953, -0.21682476089674385, -0.8220748126601545, -0.9531550581864712, -1.5282043700731744, -1.2492383485050143, -1.3288561648166746, -0.47599162107292053, -0.5560724028589439, -1.178494298150978, -0.09563710828395837, -1.837578251021704, -1.178494298150978, -2.111268390076232, -1.837578251021704, -1.0028826209268564, -1.178494298150978, -0.7110682307853167, -0.9067296198900479, -0.8220748126601545, -1.4202653633507953, -1.5282043700731744, -1.837578251021704, -1.6612232276123453, -1.4202653633507953, -1.6612232276123453, -0.11195434226511418, -0.9531550581864712, -1.1146920690903301, -1.2492383485050143, -1.6612232276123453, -1.5282043700731744]}, {\"marker\": {\"color\": \"green\", \"line\": {\"width\": 1}, \"size\": 5}, \"mode\": \"markers\", \"name\": \"Regular\", \"type\": \"scatter3d\", \"x\": [0.2783171950833015, 0.08859223169865559, -0.3651979265346616, 0.6149935798737551, -0.3651979265346616, 0.2383185843934481, -0.30877321403281593, 0.8539708044675788, 0.7863118096714362, -0.1383015415826463, 0.712745593410368, 0.1817176372594619, 0.6149935798737551, 0.16692557756926502, 0.49428735887718056, 0.7649094055298687, 0.7429486981268704, -0.834953227874363, 0.01990419918949142, 0.42116842990149045, 0.5333335175282472, 0.5333335175282472, -0.1383015415826463, -0.4583849011817051, 0.43202009414069564, 0.32876123160629245, 0.6149935798737551, 0.46374172283064463, -0.39502849000275375, 0.15185712841885488, 0.7429486981268704, 0.15185712841885488, -0.28202528536651716, -0.23113212453572274, 0.07196506581079778, 0.5521869727207566, 0.7354991373165964, 0.3164399593561805, 0.8342354788044699, 0.6814142021528561, 0.46374172283064463, -0.23113212453572274, 0.665297578691037, 0.8071843742703436, -0.4260563575446027, 0.32876123160629245, 0.5042231186480371, -0.6443195613698678, -0.6876511893420092, 0.6488641388913223, 0.757652675168513, -1.018647300423445, 1.0189493172237996, -0.5274309581274456, -0.5274309581274456, 0.47404979454866286, -0.28202528536651716, -0.834953227874363, -0.20687548579285867, -0.30877321403281593, 0.30392962769803333, 0.2783171950833015, 0.5975276772489565, 0.10488159944063691, -0.016790926057702594, -0.016790926057702594, -0.3364732496378502, 0.07196506581079778, -1.018647300423445, 0.6814142021528561, 0.42116842990149045, -0.07521836078273077, -0.30877321403281593, -0.28202528536651716, 0.0376373423832693, -0.11670929335602306, 0.9345526278457734, 0.47404979454866286, 0.3990252600251342, 0.1208470040105216, 0.7792379053988777, -1.3686573823618193, 0.44273039527928615, -0.6033305869906443, -0.49213163948421346, -0.39502849000275375, -0.5274309581274456, 0.2652020274393997, 0.10488159944063691, 0.9861837918898245, 0.47404979454866286, 0.5042231186480371, 0.2245351109988617, 0.054985351922512304, 0.6733947047083444, 0.8795892698353773, 0.32876123160629245, 0.9286180277989715, -0.4260563575446027, -0.6443195613698678, -1.6394419493532686, 0.5706213203380267, -0.7336190611105932, 0.5614553329801352, 0.5796872364082505, 0.5042231186480371, 0.8408651730798805, 0.5042231186480371, 0.01990419918949142, 0.35285949734531147, 0.9044570310950502, -0.18334658994953248, 0.08859223169865559, 0.0376373423832693, 0.43202009414069564, 0.5042231186480371, -0.25616443284418333, 0.32876123160629245, 0.7649094055298687, 0.08859223169865559, 0.25187162478647873, -1.1727730857051752, 1.0081662130546363, 0.2383185843934481, 0.9693180043991483, 0.6063064315254544, 0.7503328197988062, 1.2764117277479234, 0.0376373423832693, -0.09569178007984175, -0.20687548579285867, 0.3762676736323816, 0.9636212572445986, -0.3651979265346616, -0.834953227874363, -0.05526080247215775, 0.5796872364082505, 0.6149935798737551, 0.6571212606357135, -0.7336190611105932, -0.23113212453572274, -1.1727730857051752, 0.08859223169865559, 0.5614553329801352, -0.07521836078273077, -0.20687548579285867, 0.2783171950833015, -2.0883596954522234, 0.5237433979862353, 0.21051298841486887, 0.7429486981268704, 0.43202009414069564, -0.3364732496378502, 0.49428735887718056, 0.3164399593561805, 0.8604483578643716, -0.5274309581274456, 0.7354991373165964, -0.3651979265346616, -0.49213163948421346, -0.6443195613698678, 0.19624354850794057, -0.49213163948421346, 0.16692557756926502, 0.82755342147116, -0.6876511893420092, -0.016790926057702594, 0.16692557756926502, 0.01990419918949142, 0.2912241639539657, 0.8858748032879138, -0.07521836078273077, 0.19624354850794057, 0.665297578691037, 0.16692557756926502, 0.0376373423832693, -0.05526080247215775, -0.9522276125556988, -0.28202528536651716, -0.5644375200773446, -0.28202528536651716, 0.720398842096175, 0.8795892698353773, 0.49428735887718056, -0.25616443284418333, 0.453303073932427, 0.3762676736323816, 0.13650143995733685, 0.08859223169865559, -0.8912811481075785, 0.2783171950833015, -0.5644375200773446, 0.42116842990149045, 0.08859223169865559, 0.32876123160629245, -0.6443195613698678, -0.30877321403281593, 0.0017678904050647333, 0.6814142021528561, 0.5706213203380267, 0.5042231186480371, 0.757652675168513, 0.3990252600251342, -0.1383015415826463, 0.5706213203380267, 0.1208470040105216, -0.11670929335602306, 0.01990419918949142, 0.35285949734531147, -0.6033305869906443, 0.054985351922512304, 0.2783171950833015, 0.054985351922512304, 0.9636212572445986, -0.05526080247215775, -0.30877321403281593, -1.3686573823618193, 0.3646472953433755, -0.3651979265346616, -0.07521836078273077, 0.5796872364082505, 0.6733947047083444, 0.8604483578643716, 0.16692557756926502, -0.1383015415826463, 1.138778881143999, -0.16050185707541761, 0.5333335175282472, 0.13650143995733685, 0.5428138568187418, -0.05526080247215775, 1.1434276503508962, 0.5614553329801352, -0.3364732496378502, 0.08859223169865559, 0.5428138568187418, -0.4260563575446027, -0.49213163948421346, 0.5796872364082505, 0.2652020274393997, -0.6876511893420092, 0.8858748032879138, -0.3364732496378502, 1.0957735380481732, -0.016790926057702594, 0.6814142021528561, -0.30877321403281593, 0.0376373423832693, 0.6733947047083444, 1.3488998934793446, 0.453303073932427, 1.2522114572366914, 0.054985351922512304, 0.5237433979862353, 0.6235910692525277, 0.42116842990149045, 0.9917325735898648, 1.1973479117523318, 0.3164399593561805, 0.32876123160629245, 0.6972263356250563, -1.1727730857051752, -0.016790926057702594, -0.28202528536651716, 0.5042231186480371, 0.6571212606357135, 0.32876123160629245, 0.2383185843934481, -0.6876511893420092, 0.720398842096175, 0.19624354850794057, 0.35285949734531147, 0.25187162478647873, 0.19624354850794057, 0.6063064315254544, -0.28202528536651716, 0.7050218743852186, 0.2912241639539657, -0.28202528536651716, 0.5614553329801352, 0.720398842096175, 0.01990419918949142, -0.5274309581274456, 0.32876123160629245, -0.16050185707541761, 1.2103196823320583, -0.1383015415826463, 0.0017678904050647333, 0.43202009414069564, -0.39502849000275375, 0.47404979454866286, -0.3651979265346616, 0.25187162478647873, 0.410171505791188, -0.7336190611105932, 1.280380593573476, 0.82755342147116, 1.1480515504397493, 0.25187162478647873, 0.8002840573345075, -0.20687548579285867, 0.07196506581079778, 0.2912241639539657, 0.47404979454866286, 0.6571212606357135, -0.016790926057702594, 0.08859223169865559, 0.632100784632142, -0.7336190611105932, 0.453303073932427, 0.2245351109988617, 1.1341049658017717, -0.5274309581274456, 0.2245351109988617, 0.6972263356250563, 0.632100784632142, 0.5237433979862353, -0.4260563575446027, 0.47404979454866286, -0.23113212453572274, 0.30392962769803333, -0.16050185707541761, 0.720398842096175, -0.09569178007984175, 0.35285949734531147, 0.2783171950833015, -0.30877321403281593, -0.30877321403281593, -0.5644375200773446, 1.0081662130546363, -0.3364732496378502, 0.8474433423364669, 1.0027233173856995, -0.16050185707541761, -0.23113212453572274, 0.0017678904050647333, -0.9522276125556988, -0.30877321403281593, 0.2652020274393997, 0.07196506581079778, 0.13650143995733685, -0.11670929335602306, 0.9404461746280722, -0.5274309581274456, -0.3651979265346616, 1.024290405384644, 0.6235910692525277, -0.8912811481075785, -0.9522276125556988, -0.28202528536651716, -0.7336190611105932, 0.21051298841486887, 0.7721041217606766, 0.7429486981268704, -0.6876511893420092, -0.834953227874363, 0.0017678904050647333, 0.5521869727207566, 0.5706213203380267, -0.03579303319809492, -0.03579303319809492, -0.5274309581274456, 0.3646472953433755, -0.03579303319809492, -0.20687548579285867, 0.5975276772489565, 0.3646472953433755, 0.6235910692525277, 1.2843314865791848, -0.18334658994953248, 0.21051298841486887, 0.2383185843934481, 0.5140408478474535, 0.1817176372594619, 0.0376373423832693, 0.01990419918949142, 0.35285949734531147, 1.1663038412331503, 0.3990252600251342, 0.7279829318107287, -0.49213163948421346, -0.11670929335602306, 0.5042231186480371, 0.8539708044675788, -0.1383015415826463, -1.018647300423445, -0.1383015415826463, 0.43202009414069564, -0.7336190611105932, 0.08859223169865559, 0.1817176372594619, 0.10488159944063691, -0.3364732496378502, 0.3646472953433755, -0.016790926057702594, -0.9522276125556988, -0.3364732496378502, 0.13650143995733685, 0.1208470040105216, 0.0017678904050647333, 0.7503328197988062, 0.1817176372594619, -0.25616443284418333, 0.1817176372594619, 0.2652020274393997, -0.25616443284418333, -0.3364732496378502, 0.01990419918949142, 1.0908600292898691, 0.35285949734531147, 0.01990419918949142, -0.03579303319809492, -0.07521836078273077, 0.054985351922512304, -0.39502849000275375, 0.5796872364082505, 0.7050218743852186, 0.7792379053988777, 0.3762676736323816, 0.7503328197988062, 0.2783171950833015, -1.2640874911498137, 0.2912241639539657, 0.8208181422247623, 0.3762676736323816, -0.016790926057702594, 0.8002840573345075, -0.11670929335602306, 1.0607749643075917, 0.5042231186480371, 0.7792379053988777, 0.01990419918949142, 0.7503328197988062, 0.46374172283064463, 0.7354991373165964, 0.1817176372594619, 0.2245351109988617, -0.16050185707541761, -0.25616443284418333, 0.340899235429617, -0.18334658994953248, -0.30877321403281593, -1.091659864520088, 0.10488159944063691, 0.30392962769803333, 0.3164399593561805, 0.7279829318107287, -0.16050185707541761, 0.5796872364082505, 0.6972263356250563, 0.8539708044675788, -0.3364732496378502, 0.6063064315254544, 0.892114148229143, -0.49213163948421346, 0.42116842990149045, 0.2912241639539657, -0.20687548579285867, -1.091659864520088, -0.16050185707541761, 0.0017678904050647333, 0.2245351109988617, 0.8208181422247623, 0.0017678904050647333, 0.3990252600251342, 0.08859223169865559, 0.2383185843934481, 0.9044570310950502, 0.2783171950833015, -0.7825763514543521, 0.957886239620913, 0.07196506581079778, 0.44273039527928615, 0.712745593410368, 0.44273039527928615, 0.21051298841486887, 1.223100514533825, 0.0376373423832693, 0.665297578691037, -0.7825763514543521, 1.272424719922996, -0.30877321403281593, 0.9805987654365721, -0.8912811481075785, 0.2245351109988617, 0.16692557756926502, 0.632100784632142, 0.410171505791188, -0.5274309581274456, 1.4588858709442516, 0.757652675168513, 0.3164399593561805, 1.161776737845809, 1.3987185616217936, 0.8983079982008648, 0.43202009414069564, 0.6063064315254544, 0.0376373423832693, 1.5302446274016508, -0.25616443284418333, 0.01990419918949142, -1.018647300423445, -0.834953227874363, 0.10488159944063691, 0.9805987654365721, 0.08859223169865559, 1.2188610953569794, 1.223100514533825, 0.7429486981268704, 0.6571212606357135, 0.25187162478647873, 0.38772545630642546, 0.44273039527928615, 0.6972263356250563, -0.6033305869906443, -1.6394419493532686, -0.6443195613698678, 1.2603531160240316, -0.6033305869906443, 1.3598159366810516, 0.3164399593561805, -0.18334658994953248, 0.47404979454866286, 0.7721041217606766, 0.7933268604784086, 0.1208470040105216, -1.018647300423445, 0.7863118096714362, 0.453303073932427, 0.3990252600251342, 0.8795892698353773, -0.16050185707541761, -0.8912811481075785, 1.381248840934109, 0.8539708044675788, -0.39502849000275375, -0.6443195613698678, 0.6893575882146045, -0.25616443284418333, 1.2356961072305497, 1.0859183269273422, 1.024290405384644, 0.19624354850794057, 0.7050218743852186, 0.2245351109988617, 0.15185712841885488, -1.2640874911498137, -0.5274309581274456, -0.6876511893420092, 0.9226417812221162, 1.024290405384644, 0.0017678904050647333, -0.28202528536651716, 0.7354991373165964, -0.3364732496378502, 0.7050218743852186, 0.13650143995733685, 0.8732568381920581, -0.25616443284418333, 1.1055172859504268, 0.6814142021528561, 0.6063064315254544, -0.7825763514543521, 1.1151521359596122, 0.453303073932427, 0.7050218743852186, 0.01990419918949142, 0.15185712841885488, 0.42116842990149045, 0.38772545630642546, 0.8002840573345075, -0.4583849011817051, -0.28202528536651716, 0.9521124182962254, -0.3651979265346616, 0.42116842990149045, 0.2245351109988617, -0.07521836078273077, 0.1817176372594619, 0.07196506581079778, -0.6443195613698678, 0.21051298841486887, 0.5975276772489565, 0.2783171950833015, -0.3364732496378502, 0.3990252600251342, 0.5975276772489565, 0.0017678904050647333, -0.05526080247215775, 0.42116842990149045, 0.7050218743852186, -0.03579303319809492, 0.2912241639539657, 0.8140287606954111, -0.30877321403281593, -0.7336190611105932, -0.23113212453572274, 0.08859223169865559, -0.7825763514543521, 0.5140408478474535, 0.2783171950833015, -0.8912811481075785, 0.10488159944063691, 0.19624354850794057, 0.1208470040105216, -0.25616443284418333, -0.25616443284418333, 0.01990419918949142, -0.016790926057702594, 0.3762676736323816, -1.3686573823618193, 0.7503328197988062, -0.28202528536651716, -1.091659864520088, 0.8795892698353773, 0.3646472953433755, 0.2912241639539657, 0.2652020274393997, -0.9522276125556988, 0.1208470040105216, -1.6394419493532686, 0.42116842990149045, 0.6733947047083444, 0.10488159944063691, 0.8604483578643716, 0.10488159944063691, -0.6443195613698678, -0.9522276125556988, 0.19624354850794057, 0.44273039527928615, 0.2245351109988617, 0.8071843742703436, 0.6571212606357135, -0.5274309581274456, 0.3990252600251342, -0.23113212453572274, 0.5796872364082505, 0.48423060873449814, 0.07196506581079778, 0.49428735887718056, 0.054985351922512304, 0.32876123160629245, -0.5644375200773446, 0.2245351109988617, 0.5614553329801352, 0.2783171950833015, -0.30877321403281593, 0.5428138568187418, -0.05526080247215775, -0.07521836078273077, -0.1383015415826463, 1.0658627859849037, -0.18334658994953248, -0.49213163948421346, 0.43202009414069564, 1.311498221424783, 0.0017678904050647333, 0.30392962769803333, -0.3364732496378502, 0.48423060873449814, 0.8002840573345075, 1.0556568438743277, 0.9805987654365721, 1.1708073936469499, -0.5274309581274456, 0.8858748032879138, -0.11670929335602306, -0.5274309581274456, -0.20687548579285867, 0.9286180277989715, 0.43202009414069564, 0.30392962769803333, -0.11670929335602306, 0.1208470040105216, 0.7721041217606766, 0.1817176372594619, 0.8795892698353773, 0.8983079982008648, 0.665297578691037, 0.49428735887718056, 0.9749770032974985, 0.42116842990149045, 0.7933268604784086, 1.3882784517467166, 0.8408651730798805, 0.25187162478647873, 0.01990419918949142, 0.5333335175282472, 0.720398842096175, 0.410171505791188, 0.21051298841486887, 0.01990419918949142, -0.30877321403281593, -0.16050185707541761, 0.25187162478647873, -0.23113212453572274, 0.10488159944063691, -0.3651979265346616, -1.1727730857051752, -0.11670929335602306, 0.6972263356250563, 0.6893575882146045, -0.11670929335602306, 0.5521869727207566, -0.49213163948421346, 0.07196506581079778, 0.5042231186480371, -0.28202528536651716, 0.5333335175282472, -0.7336190611105932, 0.7050218743852186, 0.5521869727207566, 0.1817176372594619, 0.44273039527928615, 0.38772545630642546, 0.5140408478474535, -0.3364732496378502, 0.3762676736323816, 0.6149935798737551, -0.5274309581274456, -0.4583849011817051, 0.5614553329801352, 0.2245351109988617, -0.25616443284418333, 0.712745593410368, 0.7649094055298687, 0.632100784632142, 0.32876123160629245, -0.5644375200773446, 0.16692557756926502, -2.520201539768054, -0.18334658994953248, 0.3990252600251342, 0.9693180043991483, -0.07521836078273077, -1.091659864520088, 0.01990419918949142, 0.1817176372594619, -0.11670929335602306, 0.8140287606954111, 0.2652020274393997, 0.9749770032974985, 0.6814142021528561, 0.15185712841885488, 0.13650143995733685, 0.49428735887718056, 0.7649094055298687, -0.1383015415826463, 0.5975276772489565, 0.054985351922512304, 0.19624354850794057, 0.10488159944063691, 0.48423060873449814, 0.5333335175282472, -0.9522276125556988, 0.0017678904050647333, 0.32876123160629245, 0.10488159944063691, 0.0017678904050647333, 0.1817176372594619, 0.9521124182962254, -0.5274309581274456, 0.5886553053354706, 0.2652020274393997, -0.03579303319809492, -1.2640874911498137, -0.28202528536651716, -0.4260563575446027, 0.2652020274393997, 0.10488159944063691, -0.07521836078273077, -0.16050185707541761, -0.09569178007984175, 0.6488641388913223, 0.01990419918949142, 0.25187162478647873, -0.834953227874363, 0.6814142021528561, -0.09569178007984175, 0.5706213203380267, -0.6443195613698678, -0.3364732496378502, -0.5274309581274456, -0.7825763514543521, 0.7933268604784086, 0.054985351922512304, 0.6488641388913223, 0.6405245516103885, 0.8140287606954111, -0.09569178007984175, 0.5521869727207566, -0.8912811481075785, 0.5614553329801352, 0.44273039527928615, 0.15185712841885488, 0.19624354850794057, 1.0295984232055724, 0.6814142021528561, -0.03579303319809492, 0.19624354850794057, 0.5333335175282472, 0.2245351109988617, -0.25616443284418333, 0.3164399593561805, 0.2912241639539657, -0.23113212453572274, 0.2652020274393997, 0.25187162478647873, 0.1817176372594619, -0.39502849000275375, -0.39502849000275375, 0.48423060873449814, 0.47404979454866286, -0.9522276125556988, 0.08859223169865559, 0.5706213203380267, 0.15185712841885488, 1.0348737895979045, -0.11670929335602306, 0.8668767820337605, -0.7336190611105932, 0.38772545630642546, 1.0859183269273422, 0.6235910692525277, 1.0658627859849037, 1.303822116615769, -0.6033305869906443, 0.25187162478647873, 1.1526508538324023, 0.7503328197988062, 0.5428138568187418, 0.0017678904050647333, -0.7336190611105932, 0.5237433979862353, 0.8002840573345075, 0.30392962769803333, -0.25616443284418333, 0.2383185843934481, -0.20687548579285867, -0.5274309581274456, -0.30877321403281593, 0.7863118096714362, 0.19624354850794057, -0.20687548579285867, 0.25187162478647873, 0.720398842096175, 1.1055172859504268, 0.07196506581079778, 0.16692557756926502, 0.054985351922512304, 0.8539708044675788, -0.39502849000275375, 0.712745593410368, 0.48423060873449814, -0.4583849011817051, 0.1817176372594619, 0.10488159944063691, 0.3762676736323816, 0.48423060873449814, 0.2912241639539657, 0.0376373423832693, 0.07196506581079778, 0.6893575882146045, -0.6876511893420092, 0.340899235429617, 0.13650143995733685, 0.2912241639539657, -0.7336190611105932, 0.82755342147116, 1.3917722821983023, 0.1817176372594619, -0.18334658994953248, -0.49213163948421346, 0.10488159944063691, 0.6063064315254544, 0.8071843742703436, -0.16050185707541761, 0.49428735887718056, 1.0401169154889003, 0.7933268604784086, -0.16050185707541761, 0.7649094055298687, 0.49428735887718056, 0.19624354850794057, -0.5644375200773446, -0.6033305869906443, 0.5706213203380267, 0.8140287606954111, 0.2245351109988617, 1.303822116615769, 0.19624354850794057, -0.11670929335602306, 0.8208181422247623, 0.8858748032879138, 0.6149935798737551, 0.3990252600251342, -0.18334658994953248, 0.410171505791188, 0.43202009414069564, 0.5886553053354706, 0.3164399593561805, 0.632100784632142, -0.49213163948421346, -0.28202528536651716, 1.2146008882907995, 0.07196506581079778, -0.07521836078273077, 0.30392962769803333, -1.018647300423445, -0.5274309581274456, 0.0376373423832693, -0.7825763514543521, 0.5428138568187418, 1.272424719922996, -0.11670929335602306, 0.46374172283064463, -0.8912811481075785, 0.6733947047083444, 0.82755342147116, 0.340899235429617, -0.20687548579285867, 0.1208470040105216, 1.280380593573476, -0.11670929335602306, 0.5975276772489565, 0.0017678904050647333, 0.43202009414069564, 0.13650143995733685, 0.8539708044675788, 0.3164399593561805, -0.16050185707541761, 0.38772545630642546, 0.8002840573345075, 0.16692557756926502, -0.03579303319809492, 0.38772545630642546, 0.15185712841885488, 0.3164399593561805, -0.30877321403281593, 0.10488159944063691, -0.4583849011817051, 0.665297578691037, 0.5140408478474535, -0.7825763514543521, 1.2103196823320583, 0.9693180043991483, 0.9972455916015086, -0.6033305869906443, -0.5274309581274456, -0.016790926057702594, 0.47404979454866286, 0.8858748032879138, 0.892114148229143, 0.13650143995733685, 0.632100784632142, 0.5706213203380267, 0.16692557756926502, 0.8071843742703436, -0.23113212453572274, 1.0135747316184527, 1.0401169154889003, 0.9749770032974985, 0.453303073932427, -0.25616443284418333, 0.2912241639539657, -0.5644375200773446, 0.6733947047083444, 0.0017678904050647333, 0.6149935798737551, 0.6733947047083444, 0.01990419918949142, -0.28202528536651716, 0.8474433423364669, 0.5521869727207566, -0.5274309581274456, -0.11670929335602306, 0.6733947047083444, 0.35285949734531147, 0.13650143995733685, 0.0376373423832693, 0.7863118096714362, -0.7825763514543521, 0.957886239620913, -0.30877321403281593, 0.1817176372594619, -1.8278752128537683, -0.11670929335602306, 0.8983079982008648, 0.712745593410368, 1.31910751871172, -0.16050185707541761, 0.6063064315254544, 0.6405245516103885, 0.9861837918898245, 1.1708073936469499, -0.18334658994953248, -0.28202528536651716, 0.08859223169865559, 0.6972263356250563, 0.340899235429617, -0.28202528536651716, -0.18334658994953248, 0.6893575882146045, 0.2245351109988617, -0.3364732496378502, 0.35285949734531147, -1.3686573823618193, 0.42116842990149045, -0.03579303319809492, 0.5428138568187418, 1.618158321040436, -0.1383015415826463, 0.5521869727207566, 0.410171505791188, 0.38772545630642546, 1.161776737845809, 0.340899235429617, 0.7050218743852186, -0.16050185707541761, -0.49213163948421346, -0.49213163948421346, -0.20687548579285867, 1.1006591824488385, -0.03579303319809492, 0.16692557756926502, 0.32876123160629245, 0.3762676736323816, -0.03579303319809492, 0.47404979454866286, 0.25187162478647873, 0.1208470040105216, -0.25616443284418333, -0.20687548579285867, 0.1208470040105216, 1.7249435567732743, -0.6876511893420092, -0.23113212453572274, 1.2960779850722564, -0.05526080247215775, -0.016790926057702594, 0.5975276772489565, 0.49428735887718056, -0.11670929335602306, -0.07521836078273077, -0.20687548579285867, -0.11670929335602306, -0.6033305869906443, 0.8140287606954111, 0.5975276772489565, -0.6033305869906443, -0.5274309581274456, -0.1383015415826463, 0.5614553329801352, 0.8668767820337605, 0.3990252600251342, 0.5521869727207566, 0.2652020274393997, 0.07196506581079778, -0.20687548579285867, 0.3762676736323816, -0.9522276125556988, 1.1572258284568124, -0.11670929335602306, 0.25187162478647873, 0.6733947047083444, 0.32876123160629245, -0.5644375200773446, 0.3646472953433755, 0.08859223169865559, 0.0017678904050647333, 0.5521869727207566, 0.665297578691037, 0.6571212606357135, 0.9226417812221162, 0.10488159944063691, -0.07521836078273077, 0.08859223169865559, 0.16692557756926502, 0.6149935798737551, 0.6063064315254544, 0.3990252600251342, -0.6033305869906443, 0.8604483578643716, 0.30392962769803333, 0.07196506581079778, 0.7429486981268704, -0.6443195613698678, 0.757652675168513, 0.8208181422247623, 0.5042231186480371, -0.30877321403281593, 0.01990419918949142, -0.07521836078273077, -0.6876511893420092, 0.3990252600251342, -0.5644375200773446, -0.07521836078273077, 0.8208181422247623, -0.6033305869906443, -0.03579303319809492, 1.0295984232055724, 1.0295984232055724, 0.48423060873449814, 0.10488159944063691, -0.05526080247215775, 0.6235910692525277, 1.381248840934109, 0.25187162478647873, -0.28202528536651716, -0.03579303319809492, -0.1383015415826463, 0.3646472953433755, 0.7354991373165964, 0.5237433979862353, 0.19624354850794057, 0.16692557756926502, -0.6033305869906443, 0.8983079982008648, 0.47404979454866286, 0.8208181422247623, 1.3561923336133597, 0.665297578691037, 0.7721041217606766, 0.8668767820337605, -0.18334658994953248, 0.7050218743852186, 0.2783171950833015, 0.5886553053354706, -0.1383015415826463, 0.5428138568187418, 1.2882645735668075, 0.5333335175282472, 0.44273039527928615, 0.32876123160629245, 0.07196506581079778, -0.11670929335602306, -0.20687548579285867, 0.21051298841486887, 0.42116842990149045, 0.7050218743852186, 0.16692557756926502, -0.6033305869906443, -0.6443195613698678, 0.757652675168513, 0.9105619096233312, 1.1341049658017717, 0.5521869727207566, 0.32876123160629245, 0.6814142021528561, 0.7721041217606766, 0.9286180277989715, 0.5333335175282472, 1.3847706763594092, 1.0027233173856995, 1.1708073936469499, 1.1151521359596122, 0.9917325735898648, -0.6443195613698678, -0.11670929335602306, 0.19624354850794057, -0.6033305869906443, 0.01990419918949142, -0.25616443284418333, -0.03579303319809492, 0.2383185843934481, 0.665297578691037, 0.6488641388913223, -0.9522276125556988, 0.5521869727207566, 0.5706213203380267, 1.1103481663589894, -0.11670929335602306, 0.7863118096714362, -0.016790926057702594, -0.834953227874363, 1.045328204024291, -0.6443195613698678, 0.48423060873449814, -1.6394419493532686, 1.1480515504397493, -0.20687548579285867, 0.2245351109988617, 0.07196506581079778, 1.4359729727348807, -0.18334658994953248, 0.1817176372594619, -0.6443195613698678, -0.9522276125556988, 0.25187162478647873, -0.20687548579285867, -0.5644375200773446, -0.6033305869906443, -1.4911787898968445, 0.5796872364082505, 0.25187162478647873, 0.01990419918949142, -0.28202528536651716, -0.16050185707541761, -0.30877321403281593, 0.19624354850794057, 0.5614553329801352, -0.8912811481075785, -1.2640874911498137, 0.3164399593561805, -0.20687548579285867, -0.25616443284418333, -0.1383015415826463, 0.3646472953433755, -0.23113212453572274, -0.16050185707541761, 0.6571212606357135, -1.091659864520088, -0.25616443284418333, 0.1208470040105216, 0.8140287606954111, 0.340899235429617, 0.3990252600251342, 0.6405245516103885, 0.15185712841885488, -0.1383015415826463, -0.5644375200773446, 0.3990252600251342, 1.280380593573476, -0.6876511893420092, -0.18334658994953248, 0.19624354850794057, -0.5274309581274456, 1.0658627859849037, -1.3686573823618193, 0.6733947047083444, 0.5975276772489565, 0.054985351922512304, -0.23113212453572274, 0.3164399593561805, 0.3164399593561805, 0.2912241639539657, 0.8539708044675788, -0.30877321403281593, 0.5042231186480371, -0.4583849011817051, 0.632100784632142, -0.30877321403281593, 0.0376373423832693, 1.1841792341356352, 1.493732358895454, 0.5333335175282472, -0.28202528536651716, 0.19624354850794057, 0.8668767820337605, 0.01990419918949142, 0.3990252600251342, 0.6488641388913223, -0.3651979265346616, -0.1383015415826463, 1.1151521359596122, 0.01990419918949142, 0.5975276772489565, 0.21051298841486887, 0.9861837918898245, 0.1208470040105216, 0.47404979454866286, 0.15185712841885488, 0.2912241639539657, 1.0401169154889003, -1.4911787898968445, 0.632100784632142, 1.0859183269273422, 0.47404979454866286, 0.2912241639539657, 0.712745593410368, 0.3762676736323816, 1.0081662130546363, -0.28202528536651716, 0.5706213203380267, -0.3364732496378502, -0.28202528536651716, -0.4583849011817051, -0.4260563575446027, 0.10488159944063691, 0.8071843742703436, 0.32876123160629245, -0.5274309581274456, -1.091659864520088, -0.5644375200773446, -0.3364732496378502, 0.8858748032879138, 0.7792379053988777, 1.0607749643075917, 1.1526508538324023, -0.03579303319809492, -0.3364732496378502, 0.6972263356250563, -0.07521836078273077, 0.9286180277989715, 1.2603531160240316, 0.6814142021528561, 0.3990252600251342, 1.075948994621343, 0.8668767820337605, 0.5042231186480371, 0.054985351922512304, 0.2912241639539657, 0.632100784632142, 1.0189493172237996, 0.6972263356250563, -0.05526080247215775, 0.25187162478647873, 0.9749770032974985, 0.8858748032879138, 0.2912241639539657, 0.5428138568187418, 0.48423060873449814, 0.21051298841486887, 0.19624354850794057, 0.054985351922512304, 0.3164399593561805, 0.25187162478647873, 0.2912241639539657, 0.01990419918949142, 0.5706213203380267, -0.6876511893420092, 0.6972263356250563, -0.28202528536651716, -0.20687548579285867, 0.01990419918949142, 0.0017678904050647333, -0.03579303319809492, 0.5975276772489565, -1.2640874911498137, -0.8912811481075785, 0.632100784632142, -0.07521836078273077, -0.4260563575446027, 0.13650143995733685, 0.054985351922512304, 0.054985351922512304, 0.1817176372594619, -0.9522276125556988, -0.7336190611105932, 0.453303073932427, -0.6876511893420092, 1.0295984232055724, -0.4583849011817051, -0.28202528536651716, -0.23113212453572274, 0.46374172283064463, -0.4583849011817051, 0.410171505791188, 0.6733947047083444, 0.7050218743852186, -1.3686573823618193, 0.35285949734531147, 0.0376373423832693, 0.6235910692525277, 0.5428138568187418, 0.3164399593561805, 0.49428735887718056, 0.3164399593561805, 0.340899235429617, 1.1341049658017717, 0.48423060873449814, -0.3651979265346616, -0.28202528536651716, -1.1727730857051752, 0.340899235429617, 0.5237433979862353, 0.1817176372594619, 1.1929805339532569, 0.8002840573345075, 0.32876123160629245, 0.8668767820337605, 0.453303073932427, 0.1208470040105216, 0.35285949734531147, 0.01990419918949142, 0.6063064315254544, 0.8140287606954111, -0.23113212453572274, 0.8795892698353773, -0.03579303319809492, -0.11670929335602306, -0.016790926057702594, 1.4653246382975764, 0.1817176372594619, 0.1208470040105216, 0.5237433979862353, -0.7825763514543521, -0.5274309581274456, -0.834953227874363, 0.3762676736323816, 0.6972263356250563, 0.720398842096175, 0.21051298841486887, 0.32876123160629245, 0.8858748032879138, 0.30392962769803333, -0.18334658994953248, -0.25616443284418333, 0.6571212606357135, -0.016790926057702594, 0.25187162478647873, 0.712745593410368, -0.3651979265346616, 0.32876123160629245, 0.10488159944063691, 0.3990252600251342, -0.09569178007984175, -0.3651979265346616, -0.25616443284418333, 0.7279829318107287, -0.5644375200773446, -0.016790926057702594, -0.20687548579285867, 0.2245351109988617, 0.3990252600251342, 0.25187162478647873, 0.5796872364082505, -0.6033305869906443, 0.7792379053988777, 0.49428735887718056, 0.8604483578643716, -0.8912811481075785, 0.8795892698353773, 0.5140408478474535, 0.7933268604784086, -0.30877321403281593, 0.6405245516103885, 1.5624434107507816, 0.07196506581079778, 0.8604483578643716, 0.9693180043991483, 0.7721041217606766, 0.7050218743852186, 0.3990252600251342, 0.16692557756926502, 0.25187162478647873, 0.3646472953433755, 0.5042231186480371, 0.2245351109988617, -0.39502849000275375, -1.091659864520088, 0.44273039527928615, 0.7429486981268704, 1.2481119055988845, 0.15185712841885488, -0.16050185707541761, 1.175287646000597, -0.18334658994953248, 0.5796872364082505, 1.3076685953787222, 0.42116842990149045, -0.30877321403281593, -0.6876511893420092, 0.07196506581079778, -0.7336190611105932, 0.9105619096233312, -0.25616443284418333, 0.7721041217606766, -0.16050185707541761, 0.5796872364082505, 1.4425804599192376, 0.25187162478647873, 0.5428138568187418, 0.16692557756926502, -0.7336190611105932, 0.10488159944063691, -0.28202528536651716, 0.49428735887718056, 0.6235910692525277, 1.2999586317005634, -0.16050185707541761, 0.5333335175282472, 0.340899235429617, 0.0017678904050647333, 0.3646472953433755, -0.23113212453572274, -0.23113212453572274, 0.8140287606954111, -0.3364732496378502, 0.0376373423832693, -0.7825763514543521, 0.1208470040105216, 0.21051298841486887, -1.091659864520088, 0.9286180277989715, -0.09569178007984175, -0.5644375200773446, 0.21051298841486887, 0.7721041217606766, 0.7721041217606766, -0.30877321403281593, 0.0017678904050647333, -1.4911787898968445, 0.5886553053354706, 0.49428735887718056, 1.1663038412331503, 0.5333335175282472, -0.25616443284418333, -0.30877321403281593, -1.4911787898968445, -0.28202528536651716, -0.05526080247215775, 0.8795892698353773, -0.5274309581274456, 0.5796872364082505, 0.9404461746280722, 0.5333335175282472, -0.23113212453572274, 0.07196506581079778, 0.44273039527928615, -0.16050185707541761, -0.5644375200773446, 0.10488159944063691, 0.46374172283064463, -0.3651979265346616, 0.9861837918898245, 0.13650143995733685, 0.7354991373165964, -0.1383015415826463, 0.08859223169865559, 0.32876123160629245, 0.13650143995733685, 1.024290405384644, 1.582342498788449, -0.3651979265346616, 0.15185712841885488, -0.11670929335602306, 1.303822116615769, 1.0957735380481732, 0.15185712841885488, 0.5428138568187418, -0.834953227874363, 0.2783171950833015, 1.3882784517467166, 0.9286180277989715, 0.6893575882146045, 0.49428735887718056, -0.3364732496378502, -0.16050185707541761, 0.15185712841885488, -0.03579303319809492, 0.410171505791188, -0.5274309581274456, -0.11670929335602306, 0.6149935798737551, 0.054985351922512304, 0.5333335175282472, -0.5644375200773446, 0.5706213203380267, 0.0376373423832693, -0.6033305869906443, 0.8140287606954111, -0.7336190611105932, 0.38772545630642546, 0.19624354850794057, 0.49428735887718056, -0.23113212453572274, -0.9522276125556988, 0.8002840573345075, 0.453303073932427, 0.2245351109988617, -0.4260563575446027, -0.25616443284418333, 0.15185712841885488, 0.8002840573345075, -0.016790926057702594, 0.3646472953433755, 0.3762676736323816, -0.11670929335602306, 0.0376373423832693, -0.3651979265346616, -1.018647300423445, 0.665297578691037, 0.10488159944063691, 0.6488641388913223, -0.3651979265346616, -0.5644375200773446, 0.46374172283064463, -0.49213163948421346, 0.21051298841486887, 0.19624354850794057, 1.045328204024291, 1.223100514533825, 0.5333335175282472, 0.3762676736323816, 0.43202009414069564, 0.9226417812221162, 0.2652020274393997, 0.5333335175282472, 0.7721041217606766, 0.720398842096175, 0.957886239620913, 0.0376373423832693, 0.9636212572445986, -0.16050185707541761, 0.1208470040105216, -0.4260563575446027, 0.30392962769803333, 0.30392962769803333, 1.1103481663589894, 0.2383185843934481, 0.16692557756926502, -0.39502849000275375, -0.7336190611105932, 0.7050218743852186, 0.5042231186480371, 0.054985351922512304, -0.3364732496378502, 0.9861837918898245, 0.8140287606954111, 0.340899235429617, 0.757652675168513, 0.3762676736323816, -0.28202528536651716, 1.2188610953569794, 0.7933268604784086, -0.5644375200773446, -0.05526080247215775, -0.1383015415826463, -0.03579303319809492, 0.2783171950833015, 0.5140408478474535, 0.6405245516103885, -0.4260563575446027, 0.9861837918898245, -0.20687548579285867, -0.4260563575446027, -1.4911787898968445, -0.03579303319809492, 0.6063064315254544, -0.49213163948421346, 0.48423060873449814, -0.5644375200773446, 0.42116842990149045, -0.5274309581274456, 1.429315593684432, 0.720398842096175, 0.38772545630642546, 1.1572258284568124, -0.49213163948421346, 0.9917325735898648, -0.4260563575446027, -0.05526080247215775, 0.5237433979862353, 1.0957735380481732, 0.632100784632142, 0.2652020274393997, 0.2912241639539657, -0.4583849011817051, -0.23113212453572274, -0.18334658994953248, 0.08859223169865559, 0.8539708044675788, 1.2103196823320583, -1.091659864520088, 0.7792379053988777, 0.19624354850794057, 0.6571212606357135, -0.5644375200773446, 0.8408651730798805, 0.10488159944063691, -0.5644375200773446, 0.08859223169865559, -0.07521836078273077, 0.44273039527928615, -0.6443195613698678, 0.44273039527928615, -0.03579303319809492, -0.09569178007984175, 0.410171505791188, 1.2999586317005634, 0.0017678904050647333, -0.05526080247215775, 0.08859223169865559, -0.3364732496378502, 1.7807065276685097, 0.453303073932427, -0.09569178007984175, 1.2315178173251453, 0.2383185843934481, 0.10488159944063691, 0.410171505791188, -0.5274309581274456, -0.05526080247215775, 0.30392962769803333, 0.0376373423832693, -0.07521836078273077, -0.49213163948421346, 0.957886239620913, -0.1383015415826463, -0.03579303319809492, 0.5140408478474535, -0.39502849000275375, -0.07521836078273077, 0.9044570310950502, -0.05526080247215775, 0.21051298841486887, -0.20687548579285867, 0.453303073932427, 0.665297578691037, 0.6063064315254544, 0.054985351922512304, 0.42116842990149045, 0.38772545630642546, 0.07196506581079778, 0.9636212572445986, 1.2481119055988845, -0.18334658994953248, 0.01990419918949142, -0.3364732496378502, -0.20687548579285867, 0.340899235429617, -0.23113212453572274, 0.8604483578643716, -0.07521836078273077, 0.720398842096175, 0.13650143995733685, 0.30392962769803333, 0.5886553053354706, 0.720398842096175, 0.49428735887718056, -0.6876511893420092, 0.6733947047083444, 0.8208181422247623, 0.01990419918949142, 0.9226417812221162, -0.49213163948421346, 0.30392962769803333, 0.08859223169865559, -1.8278752128537683, -0.8912811481075785, 0.410171505791188], \"y\": [0.02135298942436094, 0.026126733628381683, -0.49627958116795357, 0.35435806056908714, -0.45442781271604377, 0.07578163488492909, -0.5148402500647236, -0.1889475414448441, 0.9003695346673837, 0.14326583287688133, 0.47200210869660836, -0.5950595222128928, -0.031799706237996266, 0.09790186687145731, 0.59190512399858, 0.26988658370182045, 0.4241406255902874, 0.34800170221019777, -0.17068718458907856, 0.1793543826884209, 0.3008971170392589, -0.5182611731560528, -0.8380974188356745, -0.5286033443813577, -0.36188688384820067, 0.9683409262163832, 0.687951195122552, 1.0208562262351948, 0.4521353763094939, 0.8100268929109435, 0.9977737395748781, 0.2761029050869199, -0.8916433410821366, 0.015012406486967438, -0.17909967026400703, 0.6385379362482696, -0.2601834023067742, 0.10671662994377393, 0.3702909485986389, 6.406444901434883e-05, -0.18824971537663238, -0.26314894792523597, 0.4225661030861877, 0.6395140245344374, 0.5395928866940283, 0.10683133442627148, 0.30621640681397827, -0.5893067716544941, -0.689516444519449, 0.5459535130992019, -0.11171384096647226, -0.9012192470322392, -0.4276208537974289, 2.059463926929684, -0.5293911599457087, 0.2191528328480919, -0.30939643673436545, -0.4803305097522814, -0.3683265593293446, -0.4736513575797669, 0.04456183472277565, 0.21151484042918972, 0.4519048360570731, -0.09680335253858416, -0.18282996964806952, 0.04523415973242675, 1.9716854361020215, -0.2089349058660129, 0.22409095848943986, -0.08894291604884658, 0.0698402650487891, -0.22628347310402677, 0.006274459208430881, -0.0037373091811345226, -0.19453087611882447, -0.23908179169379953, 0.5362718355770577, 0.2038310108913979, 0.14359200211413345, -0.4057647900872997, -0.14802460547140062, -0.7731942870672801, 1.1904186909475623, -0.6288138966770422, -0.5661522809344306, 0.5784520839565153, 0.1298017789982015, 0.3848527455976835, -0.0995641667267716, 0.36190594516154734, 0.052040335389759204, 0.19352851564490506, 0.00665301420516573, 0.1130408615709245, 0.516263823490779, 0.8567959654113588, 0.03591907340246631, 0.7731727588138325, -0.6236349787605923, -0.7564212643582877, -0.16242877854481017, 0.4590119614356295, -0.38803924029076053, 0.042656951959298056, 0.491074537510655, 0.19555302988138937, 0.3341770188382916, 0.4650924042516961, 0.07770387650496494, -0.09561901318184401, 0.2667863367059235, -1.018036962102165, -0.4085466275520821, -0.5550596580745564, -0.38054437329843704, 0.40806011727681724, -0.6992852580097351, -0.0011316949235993298, 0.5182630035359382, -0.032917871326892015, -0.03340408192137645, -0.7174863050991122, 0.20967868668061948, 0.19328532795004758, -0.09829404476880928, 0.37899581691840256, 0.6784111231396043, 0.2890276179927306, -0.26254915230343406, -0.13459706879812336, -0.17312634310551342, -0.2067788470283286, 0.6054092399883144, -0.37126400706972645, -0.4931750025984264, -0.17504473719003227, -0.6468296640839182, 0.6579093695198786, -0.77846304621558, -0.6724575421246817, -0.27660755442017526, -0.7032257943470583, -0.3261121800321997, -0.07646691414540212, 0.15181197115319983, -0.2886628453973249, 0.6502690296783549, -0.5461833633305097, -0.24989042225045233, 0.30492703312940883, 0.3445864943327096, 0.15174075774034995, -0.26901078670119327, 0.39733163962062673, -0.10835186339131572, 0.7271423641431544, -0.22818324171335203, 0.393858807284291, -0.8142822903295787, -0.09848363313808804, -0.09753605995047691, 0.15748772222208554, -0.5589367060486089, -0.0925087494827017, 0.8328844290750901, -0.7227128737957346, 0.04791914840250216, -0.1357274022468509, -0.11478568840403848, 0.057418328960754036, 0.7073541060332246, -0.10609762024766814, 0.07651069203375445, -0.2951455413754268, -0.09018457529266927, 0.2909703481501311, 0.3914556207706838, -0.7135491711143768, 0.06485533462443223, -0.16269319726782447, -0.2281170138970425, 0.5433672990906291, 0.8637169512716392, 0.4328997230694448, -0.2849654073509725, -0.7763464203318051, 0.06747675383657464, -0.19228986790589006, 0.2371233869579699, -0.8196403944526651, 0.14986813209698735, -0.6475324992595245, 0.6302757023780662, 0.10295836423256145, 0.5034042077453653, -0.8482486248326474, 0.3381173583292222, -0.19664018525407112, 0.12000166921205296, 0.33082159862092053, 0.34337653942067614, 0.5214836914763179, 0.14549489334705445, -0.29225391087331054, 0.2047017659842756, 0.6307777642881054, -0.21636711842035647, 0.16913480368534944, 0.1740057488571654, -0.6473407469286139, 0.04834696774640941, -0.016820617935555393, 0.30713168281024095, 0.6667611026894993, -0.21067825301484525, -0.19162589423306445, -0.2395894559021961, -0.7923667486561911, 0.244150769570605, -0.23713997440706316, -0.6482840356677981, -0.2413061316060184, -0.1896005286975994, 0.003538778093759581, -0.2834947937493027, -0.262608130714994, -0.8683395127228344, 0.5190000095570044, -0.10702862803441124, 0.49485867242764386, -0.7355079744457304, -0.029359478366672066, -0.5273147202170718, -0.6435166835356143, -0.14559744058504046, 0.4647501369813046, -0.4101455061482957, -0.5193601814623964, 0.6030136042788304, 0.1420516296076761, -0.7215716047200511, 0.6273731511915004, -0.4964748441477754, -0.17642126344022754, -0.8554139985585769, -0.17975476355475822, -0.8913854621334714, -0.6658954819796519, -0.1936010198516856, 0.151643641106075, 0.17719270859130673, 0.42588205806379553, -0.32458104242219177, -0.13209283452629061, 0.44013596719471315, 0.6250518260416801, 0.663718981081832, 0.40768098176022444, 0.11151701935265962, 0.0263014990757076, -0.07998761526393623, -0.9987982293378437, 0.08589505986094671, -0.3510880492133722, 0.4600382074323698, 0.5364734966618275, 0.12755364996894472, 0.014474896783025243, -0.5160278220969126, 0.40666244905106697, -0.011790746895997808, -0.4965399427383069, -0.06606732018777502, 0.36171714967964474, 0.8178658807305217, -0.16325753871332122, 0.33812286018123916, 0.09161767176378945, -0.34598858995538917, 0.767913304303749, 0.6024073297384711, 0.1172988941376665, -0.5839791782081201, 0.07399506454397795, -0.3816496355357707, -0.14574462752387443, -0.20237143287129722, 0.27981447311712215, 0.1673808619179551, 0.4445755620277083, 0.18631647952765276, -0.2107060992265735, -0.6557148575989076, 0.11126171649238278, 0.47825092859095325, 0.3796231795640338, 0.8667246511241296, 0.15180549739719282, -0.5461694675551974, -0.0010868287167823678, 0.8020135520257878, -0.5619110229472499, 1.461472312810798, 0.4941996855051089, -0.23650954142170114, 0.032501154620642014, 0.4703634373918534, -0.47708541966900925, -0.7939994033393203, 0.6980898903210769, -0.0607059063150684, -0.18118320375702843, -0.5439355951745539, -0.03680640424547885, 0.3881982439954615, 0.4181910173357263, 0.8729821450808045, 0.12427894345169721, 0.2231196276425346, -0.3707737171935689, 0.07340351267078307, 1.0594432558156301, 0.5130252039954328, 0.24455614276733714, 0.18935583258747338, -0.09868974930765291, -0.2355837920351488, -0.30328096333304955, -0.5075550385035815, 0.9501209727964834, -0.5852085584631974, 0.765596703673175, 0.8468512384677158, -0.24182465283713042, 0.2028606532842506, -0.1933823656919043, -0.7660010765932233, -0.41303607438556883, 0.21802475235111948, -0.29924477018451695, -0.0570870462138477, -0.13441736617842803, 1.0783122248933115, 1.1609000454754566, -0.44246103996027053, 0.08112338264769475, -0.269377198742846, -0.7539641616812046, -0.8793009209012513, -0.4751321195080814, -0.8198482107355337, -0.03308763247660538, 0.5530009327700232, 0.8552435717374616, 0.0052568648236947, -0.603271866043437, 0.235310198305773, -0.04387200295907793, 0.3095464015563187, 0.6299962124331151, -0.36675081139844634, 0.0028984080088607367, 0.32517843009636505, -0.22625514836585947, -0.28348472950855796, -0.21777850257851686, 0.32873835843416976, 0.3999794615503694, -0.21684356764059193, 0.2605843061553542, -0.1333056722333037, -0.7631272975001583, 0.28681160000040495, -0.5260282778286184, 0.02129445846202646, -0.3731610099271688, 0.09686727262731691, 0.07558713504394884, -0.8247941996047713, -0.43890681211870625, -0.9326641464906194, 1.7815919809388503, 0.29056373096124494, 0.8918637075319561, -0.2696644921922685, -0.18017677931708656, 0.5383853674720444, 0.3033586525865493, -0.16832529388083622, -0.2312729237829582, 0.14643859605179183, 0.050241532679459126, -0.47231221500150955, 0.016005693617685442, 0.0012509679940363029, 1.2283663418322142, -0.2114211078795662, -0.24679450511906562, -0.45106588793766955, -0.3640058679471546, 0.1377257011629286, 0.7954896985006243, 0.43674130009444717, -0.29282333719330755, -0.5409351900624231, -0.4292935582568924, -0.9661523759504221, -0.3086607202356688, -0.1562974694384474, 0.6349136981741554, -0.045886527983214076, -0.17252932005110153, -0.13238309238797685, -0.8991962189131392, -0.4105427922940851, 0.6431864338545923, 0.5686622804998177, 0.7138284421366705, 0.0657812843036581, 0.5144237277491647, 0.5378608217897062, -1.101733068303046, 0.05644963045696344, 0.09737788798011787, 0.7101648949549659, 0.393070537044735, 0.6321738162308654, 0.34782708006630936, -0.10875168585321388, 1.0439011979508734, 0.7700604610445275, -0.017413114318179025, 0.46764901659416747, 0.3539997792536804, 1.0290416566476412, 0.17189720762173596, 0.37668560229552955, -0.44484743042065844, -0.3080808758091499, 0.14375505031426092, -0.272304010719295, 0.570568547618487, -0.8632694247176707, -0.001640316193385353, 0.09495200081459675, 0.2586547739607563, 0.5470377209916857, 0.6517610256685592, 0.42646028555825416, 0.809067971553359, 0.3843922176899312, -0.03583866445516485, 0.42815758652226377, 0.6894609101829536, -0.20225185989234346, -0.017724693486693546, 0.07777320648175554, -0.968730679745669, -0.8930754909153508, -0.17268076750467515, -0.7623492169019204, -0.000952241902103772, 0.6666803512805975, -0.898792468079958, 1.2211003651234755, -0.5629051142635912, -0.8077259076999176, -0.24218971679656864, 0.22420624884783777, -0.8088886861305632, 0.5052506121553781, 0.09283508602011707, -0.38602869615279095, 0.35414093314206635, 0.6791609538116878, 0.637126777024318, 0.13414600752363592, -0.1132862111059218, 0.36637982366021, -0.3835025468355167, 0.10276875128061176, -0.07787852724076504, 0.2224695860284056, 0.29771329547198694, 0.7608924737586796, 0.4772345294158308, 0.32439392173685255, 0.17175734337445303, -0.5251493327432799, -0.004757403553240815, -0.2077590882695743, -0.6928367180195922, 0.6559401438537212, 0.6128269261435983, 0.10314794374412506, 0.7266216967325417, -0.2688226878417545, -0.41700823956232513, 0.5827676970772182, -0.32091737652094793, 0.009217572679901044, 0.2611660619126054, -0.6683448197367667, -0.8880900671949579, 0.19260536937400202, 0.10697301133282125, 0.5920039989315148, -0.07609619706202642, -0.19793920731964645, 0.30360792147136906, -0.6726895112723289, 0.2642228034577779, 0.10093183772214043, 0.6555245275784518, -0.5884234905893241, -0.6824029220251188, 0.044647687516314476, 0.5510873362715923, -0.5403420571057458, -0.2480025796513674, 0.5885840171419296, -0.3316788765185487, 0.06007237437607587, 0.34724300225173926, 0.6218347277942938, -0.11698465946137361, -0.8422020729810478, -0.04130117641417524, 0.7124603759513325, 0.11803364885312236, 1.0288431754210055, 0.38418571750120006, -0.7592840311442874, 0.44767741003437755, -0.040958897140903394, -0.8814166738005614, -0.9551718812105032, 0.09201450952841822, -0.9087310548511923, 0.3392941766241059, -0.29728987397714685, -0.24998734165773245, -0.5191188002762234, 0.4907732628423524, -0.022891082662504655, -0.7695971458708232, -0.7851504848234675, 0.5122417450742287, -0.3148664666869236, -0.018241669985677136, 0.033477816072761186, 0.0676027545368653, -0.2579119028501788, 0.6653408770122453, -0.06373305436364583, -0.2151817429627169, 0.5806796588269783, -0.04993563947089585, -0.7230163542795676, -0.11233244760834761, -0.23090274537933322, 0.5361733384868121, -0.8230575097061649, 0.23765718841533862, 0.48873048369494626, -0.2629129146378007, 0.8345891644682077, -0.5300981734272294, 0.6607596638118236, -0.27598862996323886, 0.7114447472079404, -0.6067188990437521, 0.14807026112242977, -0.2615569336859573, 0.002697279039385959, -0.035011018403560155, -0.5895572293375491, -0.20663097677275247, -0.15778710409496746, -0.5188640917422972, 0.1725962645126761, 0.2640118490448868, 0.3398821507436876, 0.3132884539130444, 0.13079212598906828, 0.20743932826544964, 0.32191458053322963, -0.23075092096393074, -0.13965111842001143, 0.3594168627451857, 0.43379512127087705, -0.7107035252714909, 0.07104097492991256, 0.8308375904673331, -0.43308186130759896, -0.6505595554104143, -0.19229896673692326, -0.13441736617842803, -0.7562709439214804, 0.26720719614622157, -0.8274821836344798, -0.5555941960642202, -0.3136050925815873, -0.10622225699168474, -0.21220175316443587, -0.36441482757613797, 0.14894035693459057, -0.17596517651292926, -0.8191419223063591, 0.48086917296095666, -1.0597972874191262, 0.4457044000676534, -0.35993815536520596, -0.39997535240587806, 0.9122330129218122, 0.262211309972395, 0.17802753671565186, 0.28681160000040495, -0.8775360034977271, -0.055460083127829754, -1.2585047845944477, -0.1511282678828239, -0.34789459044961335, 0.3492451485656918, 0.36021652187683356, -0.16827208661043008, -0.7084461857442885, -0.27783670320946596, -0.12037686039033346, 0.21821996016440215, 0.2940526003782902, 0.25758861733720956, 0.3250004311660885, -0.5851792634668115, 0.0804458928713231, -0.4492614726171814, 0.2118461353478178, 0.23705139463668695, 0.4257233820048998, 0.26496084080514637, -0.13096678418842833, 0.13210459777233738, -0.5307786161972112, -0.6508324743002631, -0.5800560714102347, -0.17787148750160084, -0.770941294866217, -0.2685851461510134, -0.8313246866580096, -0.932059505880207, 0.41642837483181855, 0.14168579908469034, 0.2640118490448868, -1.02284874262112, -0.09600541032800884, 0.5803124371530518, -0.7865083290240558, -0.7483535557589976, -0.3224525365002661, -0.38316329114698344, 0.44179951358662056, 0.22337468244777922, -0.3701835213209333, 0.23272352362708942, -0.6207825617735299, -0.4632508845892118, -0.7001646927337949, -0.9904887100256846, -0.37675476951719306, -0.006304490167106789, -0.5229092375041928, -0.4078590197580975, 0.10823378934001326, -0.24117174877806474, -0.202638228472205, 1.5506408410604704, -0.41188798603127336, -0.16889302572854273, -0.5134814725768317, 0.5107786415102943, 0.3083735117935213, -0.175750624290964, -0.6313863624270573, 0.27756926137098453, -0.6298417623589804, 0.05413386782819243, -0.014946657268077384, 0.4927933502064065, -0.31494992809147876, 0.13707631677696075, 0.09280090789705749, -0.13116289471059475, -0.11077832302289768, -0.3671722007538168, 0.16974643551380014, -0.39432946252238993, 0.2964601395474321, -0.7213578354602129, -0.6076852177419856, -0.17078498486357446, 0.7373736337490264, 0.3256844686126037, 0.059959572434249486, 0.40368515105619734, -0.5743475575789168, 0.2862425644634055, 0.39547579470635347, -0.4211064139847365, 0.43776067435814464, -0.8466172161453027, 0.3523372579572345, 1.1399970372424009, 0.04707012268498865, 0.3063294423773612, 0.24763349159558054, 0.7595301821610098, -0.37392101643419007, 0.19160651654376382, 0.2714365120727703, -0.6326526379933245, -0.5901911245007732, -0.640314172369288, 0.035269593561338214, -0.6276942853594772, -0.054001237773414375, 0.43281829116430853, 0.6997336888936915, -0.48383244083064464, -0.4778986123963322, 0.0934227789214138, 1.2626652479734746, 0.11726548434049296, 0.21742061499957213, 0.5324625021264608, -0.2164511796729306, -0.46667744253680477, -0.03289472429641778, -0.01432529626250443, -0.14311601099314694, 0.5092803344685181, 0.20690959888682106, 0.7164580566038299, 0.3199999898681674, 0.11216172612910294, -0.10448709200624041, 0.47412624462685526, 0.49844802447972525, -0.23692022820761455, 0.8223244794489248, -0.1380865674992908, 0.0035387780937592064, -0.017025673696836413, 0.5244265429438653, 0.3712814727116316, 0.4794283390853014, 0.7695239787397883, -0.154408136693729, -0.1591122230406094, -0.25275395106438797, -0.9638797266432496, 0.7507208504927393, -0.387504891824504, 0.7404344393581158, 0.019478353035298535, -0.22706747393834875, 1.4378165502651543, -0.37649675812764, -0.1787857473467572, 0.17880488128399996, 0.008477028211675421, -0.2972489804239711, -0.615142241898009, -0.6882606848233306, 0.9081099054726636, -0.19208061942786633, 0.0970919733466413, -0.16052715039868679, -0.5578490968061314, -0.869241429227442, -0.2936069025447107, 0.6201066728048192, -0.3039812367520078, -0.500953343586009, -0.6716462660641458, 0.7435729433099896, -0.2651183257385997, 0.5556743206912037, 0.7721098350050459, 0.21547786846981784, 0.46606908918563617, 0.38692032412350946, -0.7509011977541745, 0.689987454750503, 0.28208420943078394, -0.07573367394527358, -0.36064226055646315, 0.10167104772549686, 0.2897615358388356, -0.1092183539762009, 0.02720398486329849, -0.49598027340813916, 0.09148079700089982, -0.9277952878748411, -0.5139740840664373, 0.044633379206830845, -0.4548104681680175, -0.33035019597729043, -0.5824453525779635, -0.3451884774660788, -0.40959663384159006, -0.33054139921611436, -0.40730003532633274, -0.5302886358625944, 0.5055580866002407, 0.3361460618982516, 0.8446407283690093, 0.15319647888179136, 1.029164040637098, -0.21065968934287913, 0.2550577016603491, 0.23297643429885098, 0.15143643027263512, 0.04801898854554994, 0.06289553728019284, -0.0031602070700996066, 0.5853042075912127, -0.5694710989965727, -0.49404407196427325, -0.06759194168268437, 0.36926208602650523, -0.08236069036238762, -0.3306370168123258, -0.7864492314684687, -0.6461913347675056, 0.4675549699298466, -0.29202014638033735, -0.44716757404136914, -0.4457380587125592, -0.6671601613375063, -0.40245981583520946, -0.08803717198221071, 0.31334463487068226, -0.12316351570937514, 0.2993688239921978, -0.2190796518307437, -0.2602618329367397, -0.17177244962287996, 0.020130467699640574, -0.562194913217938, -0.1891470166286618, -0.15164217756505016, -0.5074757989937783, 0.5058366713447864, 0.31679463624210963, -0.597126228448608, -0.1202503856688193, 0.2542541972141907, 0.1937903510587608, 0.9684614028348315, 0.12662659722924324, 0.4161137201768654, -0.10759348688626806, 0.3962100817201056, 0.2513901049103171, 0.3862491429614754, -0.1956168896493702, 0.186360405342888, -0.7294759389163392, 0.5601070567865556, -0.07796732483651209, -0.25580223133315994, -0.22295662650321857, 0.0067569068523434, -0.13147846112784767, 0.42095873844238385, 0.7142020622669765, -0.18785119276750312, 0.8750620277184178, 0.9549285697979981, 0.7957569600076669, -0.21273185531452607, -0.10391491862056129, 0.2752268451331852, 0.3277064673153366, -0.7363456019832635, -0.6196908743010231, -0.17674334111334902, 0.7352282721546195, 0.10446054163349044, 0.023720714775928787, 0.11241010410314349, -0.5877911299806213, 0.1431483881664987, -0.2688523850159543, -0.3646470282643136, 0.7061943244944676, -0.4730320367406975, 0.1444982426152812, 0.19807699097531922, -0.10128229066147065, 0.12722927143458693, 0.044289921033746356, -0.9277453137425167, -0.42010062818666427, -0.33650064978272376, -0.16100219797413298, -0.28380684220786223, 0.12213908892061914, -0.23300242212140687, -0.5666662949919725, 0.8594401239959952, -0.7245358478408571, 0.7494486894167167, 0.02552210917683016, -0.7717491454765033, 0.42702290231593343, 0.03823945748869159, -0.022135053626829857, -0.17459824816050076, 0.1067503678246084, -0.10118308562868814, -0.007161654142751509, 1.2262556637293434, -0.35509139623838554, 0.3085822362549215, 0.5198601068869002, 0.5866044766045871, 0.6548858575891412, 0.5684838543874634, -0.29677884189012865, -0.02112026611864483, 0.44812492934463705, 0.5363562556764102, -0.23256498475583642, -0.29164422108072385, -0.08708337462046718, 0.029913996936083098, 0.09626784031005411, -0.5523786845894499, 0.20977701808463883, -0.5065651303455007, -0.7380058092333699, -0.16292242020565753, -0.6393973291313945, 0.3347288998216694, 0.046556091971887335, -0.062047517620082766, -1.182324835879439, 0.5825323358851356, -0.01378002404369982, -0.5544411975063961, -0.5448921554966853, -0.38004860968359355, -0.4971130462097688, -0.4340557824790272, 0.3068323190049072, -0.5586399276834213, -0.5408110072954367, -0.8905891085483464, 0.40379458541573493, 0.382983083586794, -0.22900676165948988, 0.13571726377318713, 0.4749483243367756, 0.030748098637857456, -0.539652954345992, 0.5028218437298789, -0.1664736804007859, -0.08317192726760758, 0.45067122423264694, -0.45598426900663397, -0.40581127048050025, -0.05196243538262946, -0.46852191942700655, -0.20451718263864982, 1.3567828705033587, -0.45345348902248916, 0.10051114252782418, 0.12999992048846717, 0.7771457183261612, 0.35452088037493873, -0.8825928537174872, 0.34156753600148365, -0.9063684662849678, -0.0949780958494297, -1.3136803905427534, -0.45823787457397064, 0.10454168066937278, 0.9034648048758671, -0.25251092453965585, -0.39654411609445483, 0.05756673678388723, 0.3216579929524385, -0.20795341105872886, -0.1689817648417326, -0.7892526148318835, -0.4810960170732743, -0.047748491778657386, -0.1562712028395287, -0.7157532159895891, -0.44277719365372975, -0.743067097828143, -0.31957372580817883, -0.12263089436353995, -0.4046268419106535, 0.26348429444562343, 1.0509418204078926, 0.1931917801610061, -0.1099771694378288, 0.2792940625728469, 0.13855818495891487, -0.5433262498807406, 0.37439766645479033, -0.10174538129922181, -0.20567039881467236, 0.3462652624869105, 0.1656305303261168, 0.37968164599495313, -0.046856194181513815, -0.5946439185959496, 0.2858112920770205, 0.2658680980080683, 0.049622258511380246, 0.14483056024225596, -0.07405170068851968, 0.11634296652548037, 0.6135390082089568, -0.1457446275238748, 0.2500087677247589, 0.539190505572675, 0.329636372498549, -0.6309803835353586, 1.0632074978496715, -0.05443472543449279, 0.2774302397950961, -0.4628516685127756, 0.26089578763521476, -0.03521979943296133, -0.18777875246544876, -0.21364397594672588, 0.5568889424160065, 1.15811773763422, -0.24989042225045233, -0.16544756223688004, -0.23325927712783778, -0.15158119065820402, -0.6659283015022579, 0.6343304724296202, 0.5307820716964947, -0.2132343401501645, 0.0804458928713231, -0.07034379654207025, 0.5301884551874617, 0.5591166506789199, 0.15702391267943688, 0.323347102453473, 0.08881509083208479, 0.1689308513645739, -0.34030681106889776, 0.0498714357766153, -0.7821695574069115, 0.11794016231330604, -0.27464246633129763, -0.48517858945835096, -0.12055395290270776, -0.3321257755157177, -0.49985416962940893, -0.20621521902863335, 0.7226370034927019, -0.1824337602734107, 1.0240586469438728, -0.036961329107824396, 0.2527342762268101, 0.12837409421713772, 0.07013358734259909, 0.05627276436311129, -0.035065142657815684, -0.4808407648109224, 0.38014927605106613, 0.3207483326301263, 0.5193517212309493, 0.08734576807063274, -0.13290406984575207, -0.03926477940733088, -0.20308919651525736, 0.37313184556926743, 0.638260163700762, -0.06915091924817746, 0.7170644956103429, 0.2722456132970881, -0.269377198742846, -0.1679351771979242, -0.25166570495037655, -0.6764617050763452, 0.27984337798893233, -0.5918152325265534, -0.5938875369065479, -0.4562439746468547, -0.273308293547392, -0.7145709411990718, 0.4170162025648605, -0.3194373781682184, 0.5985268462260986, -0.5317595280797338, -0.2922437459044947, -0.019459125753713464, 0.35149425132796475, 0.14162045933489512, -0.37874300809355194, -0.4979995861619848, -0.2111981882897071, 0.4957787441724429, -0.012622290670793675, -0.14326281445318745, -0.16751864050659152, 0.38950118552949303, -0.5930727127138512, -0.08486145034295713, -0.37538709619246663, 0.3964617356881219, 0.2675870072627764, -0.5352438469678872, -0.4031776620112555, 0.05353107454986761, 0.5100608220993851, -0.2024358247431597, -0.3123143465943693, -0.6081839832511731, 0.30297898247051425, 0.39734211661638025, 0.3609508756475904, 0.47374702123254936, -0.48151736533433265, -0.8943698282910211, -0.7837955567699166, -0.9214839488939427, -0.6966709823310797, -0.7922872156040691, 0.09824877693605069, -0.19610098671497667, 0.042993781608964485, -0.5657242083181364, -0.8464651774487556, 0.3798835992640084, -0.08986584139202419, -0.2511511909129154, -0.21511645190598033, -0.753421483737749, 0.5387411879976062, 0.679430455058578, -0.07657976877533919, 0.32561775061410514, 0.2641466299178024, 0.4222940766717732, -0.2190796518307437, -0.11970252032123159, 0.8141735247362192, -0.5876147550408217, -0.6333727681176934, -0.1139058246925886, -0.7721919739407681, -0.5411284039721285, -0.3738539292588718, -0.14609103966021839, 0.2855984722807943, -0.18778780719449006, 0.42026996099915537, -0.4914268395688913, 0.3309046309150226, -0.39013447681464003, 0.027131232862957554, -0.02945174546247556, 0.43438491686730674, -0.39020288900878486, -0.7829526493260889, 0.09495882280337119, -0.7279270592158906, 0.22232373116052023, 1.9398051155166658, 0.12787131472532898, -0.2737959298605518, -0.319542259057704, 0.3067927746958343, 0.7373897821222731, 0.006452620123199202, -0.05870083968902542, -0.6571716908070703, -0.6637491916235372, -0.05529437691660674, -0.360191125504082, 0.11601521649262618, -0.253220746634362, -0.9943727608346762, 0.325222925655209, 0.06943506723775927, -0.20681581830570833, 0.016762892114485072, -0.41930870792017455, -0.5890416749457158, -0.8533893472778946, -0.5459610617972035, -0.7176811177567824, -1.101382887504697, -0.07754762492082569, -0.727225857597935, -0.3417371623985275, -0.39231504371454484, 0.18718212704953535, -0.24940598195393776, -0.3720446055149495, 0.871560839487992, -0.8580873760977618, -0.07757990317903518, -0.07993099064013379, 0.6918704915769417, -0.46990496522928205, 0.166173812654846, 0.46133227112911374, 0.23014907359950487, -0.18424509124636224, -0.6494849712743398, 0.20274934859668842, 0.014953514986004442, 0.23625317565928383, -1.0093304372297105, -0.2976273187528741, -0.6242068359457972, 0.29889117935245907, 0.46706482344493666, -0.6045494101061996, 0.4164593201281339, 0.5051449007024597, 0.08221475457954001, -0.5976177517066164, 0.2321693326446686, -0.39284106602895763, -0.33822472324453295, -0.21329018880028405, 1.005760867039198, 0.4464748494778272, 0.17067597910195165, -0.9131205815350514, -0.2783868756230157, 0.3029506439599963, 0.10047042134122709, -0.13608733432691014, -0.26389679906627617, -0.2190047152951629, 0.738031528311849, -0.059524567110020556, 0.37650443162698777, -0.24424836657115517, 0.5024414790082927, -0.7658675698561113, 0.3662992146531697, -0.09688565175922359, 0.36874196275776433, -0.39733732754591516, -0.1132276195647311, -0.20874963793406065, -0.507872078148883, -0.7612501247285012, -0.4605725076750667, -0.2700906500713348, -1.134901775466703, 0.3922396745667477, 0.19582061500821388, 0.4306176050816754, -0.3322002813318045, -0.08730339930283405, 0.14496085337637207, 0.0009226543715086709, -0.32153742049417683, 0.4229560741471077, -0.4176564320026222, -0.10898499182078533, -0.5720563534360029, -0.5951337621867664, 0.1351061233722602, 0.5520792368286201, 0.23417398708605736, -0.5709780633609461, -0.9388489273218199, -0.5914457987338436, -0.3693935320836287, -0.0679914453893625, 0.6527104001605963, -0.04562862992397618, 0.3781978533294268, -0.169221402346829, -0.4548104681680175, -0.40494020084800947, -0.823831087569034, 0.4095028774067787, -0.08063498549293509, -0.3444754978485566, -0.7750488667482831, -0.36273604442305674, 0.24457402357586105, -0.01987034725535961, 0.4742788867738565, -0.5280062360958638, -0.28782299209878315, 0.04972193652474594, 0.8447829609913259, -0.796056224959691, -0.24641791754509518, -0.2913801536559642, 0.11003138497399548, -0.8787502446081766, -0.05108993723210828, 0.25278753698514483, -0.5181540374071929, -0.8970382639476342, -0.30471300557378556, 0.02761857384466515, -0.6958475212271982, 0.24737785651889688, 0.18146144729376698, 0.2423009245274049, -0.6210903812626962, -0.3646802050242264, 0.6779981188400831, -0.44305697199023825, -0.2190983869247187, -0.5500703793588335, -0.5682820513192162, 0.5437963619321857, -0.9889766102291395, 0.15253032123798324, 0.4278510177136759, 0.34467951708807004, -0.38963295993113295, 0.36463208809989917, 0.32034629682406013, -0.10350051069913647, -0.017724693486693546, -0.8228277155807826, -0.6818988443764948, -0.28121315144753745, 0.00495213299966468, -0.017451106655773384, -0.5184219049417526, 0.083691160302976, -0.13402384982828067, 0.2360550348828324, -1.028822099605566, 0.11857437684173888, 0.0934637687096476, 0.48813648768988716, 0.02583539238468341, 0.13139909343784453, 0.008847367136275092, -0.4749294574542162, 0.288298977818624, 0.18229937976343896, 0.3469645097080031, -0.04123893512947785, -0.6158754168330088, 0.33871691085515276, -0.061062963036362564, -0.05555478477377639, -0.5213074294424747, -0.6543740326954466, -0.6502867431613689, 0.61275171509575, 0.31634082158007854, 0.40325252909444265, 0.607058731306015, 0.6303761298244452, 0.5087150213391338, 0.26968832302773876, 0.07815444050354348, 0.042642616373828435, 0.4316369270490689, -0.20481226849001713, -0.021448244088233155, -0.7204145116012216, -0.08150961204790108, -0.05838420311831163, -0.26079141988752397, -0.7015810984601227, 0.06604068521832525, 0.15671459783403827, 0.051798778365174894, 0.47806931342952697, -0.785504423273427, -0.7149412791454338, -0.6054676325427898, 0.23584484798460206, 0.3886889888525224, 0.4784963129879482, -0.05974645658081253, 0.3373963961398996, -0.09176343000344973, -0.5130157798522779, 0.4705412277774889, 0.07181512945175005, -0.18074275949271032, -0.5707195080557761, 0.40216247848917586, 0.11023317485446207, -1.0233264394340156, -0.5815703213655824, 0.01914114360604657, 1.1978017654200914, -0.4651499152560503, -0.8322572982227863, -0.31839974378546954, 0.001996744137163766, -0.6119889932657206, 0.15368775415914498, 0.030501564391894373, -0.6631932265890536, -0.6059950100801283, -0.5128561788509303, -0.554764419761336, -0.8596394639747232, -0.6793170872570712, -0.6371734187471454, -0.264270960001896, 0.22764138291543606, -0.30505333282812375, -0.6181714443547145, 0.6753232039485152, -1.0300918020188823, 0.4725692238811386, 0.44725488492087584, -0.9163433442726939, 0.10685832194075, 0.3241323035658473, 0.022866327660528332, -0.34479950544904264, -0.3112124878518794, -0.9733812258832412, -0.20174614565524782, -0.8181047366347913, 0.1540689877306002, 0.30455352940499725, 0.7493966582007974, 0.8540949203335112, 0.19527915572456378, -0.17301047306428613, 0.005672937736497035, 0.05581277325085577, -0.3471035146251662, -0.10384860147405084, -0.9002901478356071, -0.3314023414172014, 0.1693960627458164, 0.24725893707104543, -0.2803903938547396, 0.3091912745646902, -0.5080570782777725, -0.9841334539934782, -0.28175538642393566, -0.38579047982210457, 0.5717830867574377, -0.43488634773058693, -0.46219090916159755, 0.2804386586426878, -0.22237355936078657, -0.4865270626992623, -0.8146737741059393, -0.5797216110501857, -0.6985446646546313, 0.8857593974156379, -0.101571696472603, -0.17698497218832732, 0.6674154368457137, -0.6641255391960044, 0.08456637843244165, 0.20402251127961699, -0.10585670125655326, 0.23048100389364784, -0.41433841190375886, -0.26875339829268624, 0.6018766118030673, -0.17519659199079698, -0.12241961837948216, -0.69058737123617, -0.5382216354071333, -0.6297326756075806, -0.7805672435207388, 0.716888327920949, -0.32738139208907185, -0.3874707961577402, -0.6092431169882846, -0.212666738545889, -0.12386567373991281, -0.19571734180556832, -0.11895287109287878, -0.9593892834064661, 0.5526119549016458, 0.1472254785823101, -0.16464337293637799, 0.22898957588341037, -0.523407965494657, -0.3752414924028839, 0.15559905447050257, -0.18355078214125323, -0.30912694713081734, 0.9946916216662528, -0.621490745402044, -0.22983102838757266, -0.11491983325150835, 0.5400699671777961, -0.32181080172839505, -0.1532990377281482, 0.1113020314859794, -0.21691832728589588, 0.19233701523057894, 0.01917780213700928, -0.011896542003170404, -0.2887033405238918, -0.22327653132805544, 0.012587712551051792, -0.3914124371968189, -0.3274554873123954, -0.8837482827094482, 0.14547535988406352, -0.4255110113344249, -0.00918712102159175, 0.3672017281213517, -0.5180870851886906, -0.43161718243520725, 0.22093108869080422, 0.15241386391036396, 0.7076016197140875, 0.05789881180211316, -0.5071985249274152, -0.8976776909907639, -0.8268931746304427, 0.1388399058824759, 0.632339500781014, -0.5055106287797239, 0.04252792460826338, 0.30174846170367825, -0.34284652909087504, -0.053662460541171346, -0.3414681162293133, 0.27008481044970967, -0.6577066290053848, -0.3215479335551822, 0.5181298217949151, 0.19959112816942476, 0.4583289923723002, -0.27213508473786036, 0.5207006394622694, -0.26302108880797076, -0.14898852258487386, 0.6354140255412553, -0.5634026597364516, 1.1274119051897278, 0.40640768370439806, 0.3061542326249848, 0.6075474049308638, -0.8461612155350577, 0.7320263023557312, 0.5308480122115816, -0.08954721127709353, -0.5120852417533358, -0.3473201744935671, 0.19236198112005928, 0.786992497880686, 0.08566111175543281, 0.1042509041251601, 0.21959765843628526, -0.1807697194937723, -0.17321548365860362, -0.5223300444988408, -0.8823158917329653, 0.5563487373422232, 0.9234559638481439, -0.06037276915687865, -0.6544224512817667, -0.1624464041512437, -0.07328007997202378, -0.6813951387409796, -0.725413380256838, -0.8497097813550359, 0.2106063483443202, -0.2047384881643478, -0.21148613629369048, -0.661104178019245, -0.6688555085813881, 0.5499322548256809, -0.5994079255159785, -0.17565230429702747, -0.10461981804733306, 0.1942764545453671, 0.24664630658969727, -0.32262093946574005, -0.1455195273127717, -0.5086652492410105, 1.2174390756578488, -0.4942257914604974, -0.9128041778404998, -0.5593043100263, 0.41710899183456995, -0.5762406504787801, -0.00919465815281469, -1.0229979749982197, 0.3231855426733415, -0.2700708242415495, 0.19308574988738178, 0.5471307438178216, -0.5196284722799919, -0.19930423100883, -0.15833974223174693, -0.8337226930351201, -0.010393771931134253, -0.15082353782467042, -0.7284849568966304, 0.14380069946126997, -0.3012451285880408, -1.0349580567453922, -0.8305838571191901, -0.08832267653658803, -0.5375756794202683, -0.47765710783793885, -0.5796779970261512, -0.5726608852097267, 0.25789501746488747, -0.0671127500087438, 0.9829651756983999, -0.7879480809257386, -0.054040637950463155, 0.49071494335307403, 0.2740015736111661, -0.16999398402280813, -0.5058136501927768, 1.331359061390419, -0.39262375539178684, 0.06869413214858142, 0.2534087302990405, -0.4047196765363373, 0.12976875190926765, -0.13807797814826464, -0.6535353116290744, -0.12365412639889137, -0.2336970495880959, -0.8109134556334049, -0.19316376310682287, 0.5979900959003888, -0.5161346604293866, -0.47053442510963234, -0.7184432065964472, -0.43669488300073833, 0.6615534293870016, -0.8865307181896921, -1.0062870636086592, 0.3591465874922793, -0.20266583242300126, -0.7531596641761014, -0.46345056812532714, -0.1470443246511256, -0.48529408164990345, -0.5500843476555566, -0.3085571482160654, -0.8354048224288231, -0.6246089567203025, 0.6629264838382755, -0.4973085193024909, 1.2673787851695393, -0.5695427895150867, -0.17077609350819226, -0.8836326364986268, 0.6574216112912903, 1.0015334414170238, -0.0017226169373161088, -0.766382677842032, -0.12625515803853024, -0.7426806175690454, -0.5564108093729566, 0.3231855426733407, -0.602881539111083, -0.2780967420608609, 0.15881365598495148, -0.7993250850258266, -0.5620103721948059, 0.103669115094244, -0.19005426234540299, -0.10138977419776485, 0.06281819465396922, 0.957610921821868, -0.30126566884459494, -0.49358995919241877, -0.14311601099314694, -0.42623751191547926, -0.23074143278074905, 0.4300872260237103, -0.4929935287644296, 0.3045591894376416, 0.1760152950831196, 0.04876748647414963, 0.2142236981099511, 0.6575585436436087, 0.27971040963177174, 0.4157835042577676, 0.5160684983009262, -0.5151469742784919, 0.6115079039807882, 0.12434533105787439, 0.03272550617258438, -0.18352374160765464, 0.6082534426080688, -0.35335465226055973, -0.2675268774490524, -0.3931385310408312, -0.24635034157618102, 0.09156976758980881, -0.10505960267188731, 0.647435285462071, -0.2745727210033596, 0.5176445427447737, -0.023586516963343858, 0.05359491609839408, 0.400622236960516, 0.643039383906142, 0.7102884051571069, 1.3875359007344448, -0.3432561749730294, 0.7529104172491824, 0.7532976299825858, 0.8699468797561176, -0.5976177517066164, 0.20305850109576057, -0.08728709948379886, -0.8050415027112415, -0.8601058824918415, 0.5369142275686116], \"z\": [-1.6612232276123453, 0.24987070090070237, 0.1190744841715067, -1.6612232276123453, -1.3288561648166746, -1.6612232276123453, -0.33634376486023915, -0.2945943042087912, 0.8438896432461231, 0.23869845315191887, 0.19265192269109074, -0.4031889496364762, -0.584681057960812, -0.35802977817907533, 0.7865428889261087, 0.3348696413516396, 1.0778570947550554, -1.1146920690903301, -0.501798694755158, 0.15658454801820637, 0.21595394529705877, -0.528470011672296, -0.35802977817907533, -0.14552657287159496, -0.7110682307853167, -0.9531550581864712, -0.1804416872913862, -0.5560724028589439, -1.6612232276123453, -1.4202653633507953, 0.812407231356387, -1.178494298150978, -0.746254997001888, 0.42240651986917266, -1.4202653633507953, -0.27447318894709594, -0.528470011672296, -0.746254997001888, -0.8220748126601545, 0.05297765518367912, 0.7600398024846037, -0.25481988464053473, 0.8438896432461231, -0.7831889994978756, -1.837578251021704, -1.1146920690903301, -1.3288561648166746, -1.0564821952276102, -1.2492383485050143, -1.178494298150978, 0.43167150926014436, -1.0564821952276102, -1.2492383485050143, 0.9274874496751825, -0.38029951340643287, -2.111268390076232, 0.2826275401309898, -0.35802977817907533, -0.5560724028589439, -0.5560724028589439, -1.5282043700731744, -0.584681057960812, -1.1146920690903301, 0.27183206383415925, 0.16876118667643017, -2.111268390076232, 0.6393735963635121, -0.5560724028589439, -0.35802977817907533, -1.0028826209268564, 0.010906031967872163, 0.05297765518367912, 0.2826275401309898, 0.3449897894022499, -1.1146920690903301, -0.35802977817907533, -0.8631566647110013, 0.32464348446287483, -0.9067296198900479, -0.528470011672296, -2.111268390076232, -1.5282043700731744, 0.7259575318258369, -1.5282043700731744, -0.42673762056451203, -0.6143810068863226, -1.6612232276123453, -0.11195434226511418, 0.1190744841715067, -0.35802977817907533, -0.584681057960812, -0.6452689489820141, 0.47675053859439753, -0.5560724028589439, 0.40361347284541815, 0.0665817729432942, -0.584681057960812, 0.3940816875827079, -0.6774555332009263, -0.47599162107292053, -1.0564821952276102, -0.8631566647110013, -1.3288561648166746, -0.3152086294638053, -0.03321349981826121, 0.4855284857507031, -1.1146920690903301, 0.6978805871026439, -0.07961568845698515, -0.6774555332009263, -0.25481988464053473, -0.450989107369495, -0.584681057960812, -1.5282043700731744, -0.07961568845698515, -0.1804416872913862, -0.6774555332009263, 0.4855284857507031, -1.0028826209268564, -0.6774555332009263, -1.0564821952276102, -0.8220748126601545, 0.10622785776467517, -1.0564821952276102, -0.6452689489820141, 0.07998735996885559, 0.1190744841715067, -0.9067296198900479, 0.2826275401309898, -0.528470011672296, -0.746254997001888, 0.4942306970510273, -0.7110682307853167, -0.7110682307853167, -1.1146920690903301, -0.9531550581864712, 0.14424774923244116, 0.025146952812692958, -0.23561096215865984, -0.35802977817907533, 0.16876118667643017, -0.7831889994978756, -0.16280885628468264, 0.6978805871026439, -0.7110682307853167, -0.19844121269097797, -1.178494298150978, -2.111268390076232, 0.561285439374835, -0.5560724028589439, -1.2492383485050143, -0.42673762056451203, -1.5282043700731744, -0.584681057960812, -1.837578251021704, 0.19265192269109074, -2.111268390076232, 0.32464348446287483, -0.746254997001888, -1.6612232276123453, -0.33634376486023915, 0.467895380128654, -0.8631566647110013, 0.3143088276000622, 0.21595394529705877, -1.0028826209268564, -0.7831889994978756, 0.24987070090070237, 0.3449897894022499, -0.7110682307853167, -0.2945943042087912, 0.43167150926014436, 0.5198970323372324, -0.47599162107292053, -1.0028826209268564, -0.4031889496364762, 0.27183206383415925, -2.111268390076232, -0.528470011672296, -0.11195434226511418, -1.4202653633507953, -0.1804416872913862, 0.16876118667643017, 0.5932326293454564, -0.6774555332009263, -1.0564821952276102, -1.0028826209268564, -0.6774555332009263, 0.20437451162076323, -1.837578251021704, -0.5560724028589439, -0.528470011672296, -0.450989107369495, -0.501798694755158, -0.7110682307853167, -0.4031889496364762, -0.19844121269097797, 0.0932007214423289, -1.0028826209268564, 1.1027182082047462, -0.21682476089674385, -0.07961568845698515, 0.32464348446287483, 0.0932007214423289, 0.010906031967872163, -1.178494298150978, -1.0028826209268564, -0.7110682307853167, -0.5560724028589439, -0.746254997001888, -1.1146920690903301, 0.27183206383415925, -0.6143810068863226, 0.1190744841715067, 0.40361347284541815, -0.16280885628468264, -0.8220748126601545, -0.2945943042087912, -0.128579765320932, 0.40361347284541815, -0.1804416872913862, -0.9531550581864712, 0.4942306970510273, -0.47599162107292053, -0.42673762056451203, -1.3288561648166746, -1.2492383485050143, 0.36492159030490035, 0.38445713919105917, 0.8438896432461231, -0.6774555332009263, -0.16280885628468264, -0.746254997001888, -0.01826577001439744, -0.5560724028589439, -0.501798694755158, -0.8220748126601545, -0.8220748126601545, -1.0028826209268564, 0.18078219890073627, -0.25481988464053473, 0.5932326293454564, 0.025146952812692958, -1.3288561648166746, -0.06387846075861044, -0.09563710828395837, -0.47599162107292053, -0.4031889496364762, -0.1804416872913862, -0.9531550581864712, 0.43167150926014436, -0.528470011672296, -0.1804416872913862, -0.35802977817907533, 0.10622785776467517, -1.4202653633507953, -0.501798694755158, -0.3152086294638053, 0.21595394529705877, -0.23561096215865984, 0.010906031967872163, -0.7831889994978756, 0.2826275401309898, -0.35802977817907533, -1.0564821952276102, -0.746254997001888, -0.07961568845698515, 0.6393735963635121, -1.0028826209268564, 1.1742168726211484, 0.40361347284541815, -0.6774555332009263, -0.7110682307853167, -0.501798694755158, -0.35802977817907533, -1.178494298150978, -0.33634376486023915, -0.8220748126601545, -0.25481988464053473, 0.7667273736503238, -0.01826577001439744, -0.19844121269097797, -0.4031889496364762, -0.23561096215865984, -0.42673762056451203, -1.4202653633507953, 0.2609141568224548, -1.6612232276123453, 0.4855284857507031, 0.03916837537790013, 0.7120122602423665, -0.3152086294638053, 0.03916837537790013, -0.01826577001439744, 0.15658454801820637, 0.24987070090070237, 0.16876118667643017, -0.2945943042087912, -1.2492383485050143, -0.9067296198900479, -1.0564821952276102, -1.5282043700731744, 0.812407231356387, -1.3288561648166746, -1.3288561648166746, -0.6774555332009263, -0.3152086294638053, 0.0932007214423289, -0.584681057960812, -0.7831889994978756, -0.501798694755158, -1.3288561648166746, -1.0028826209268564, -0.501798694755158, 0.010906031967872163, 0.746537596086958, 0.4942306970510273, 0.07998735996885559, -2.111268390076232, 0.0932007214423289, -0.35802977817907533, -1.2492383485050143, 0.03916837537790013, 0.05297765518367912, -1.6612232276123453, -1.2492383485050143, -0.450989107369495, -0.528470011672296, -0.7831889994978756, 0.2609141568224548, -0.23561096215865984, 0.3449897894022499, 0.07998735996885559, -0.9531550581864712, -0.01826577001439744, 0.467895380128654, -0.5560724028589439, -1.0028826209268564, 0.4942306970510273, -0.5560724028589439, -0.746254997001888, -1.0028826209268564, 1.2283916061325624, -1.2492383485050143, -2.111268390076232, -1.4202653633507953, 0.3348696413516396, -0.6143810068863226, -0.584681057960812, -0.03321349981826121, -0.8220748126601545, 0.27183206383415925, -0.19844121269097797, -0.38029951340643287, -0.450989107369495, -0.746254997001888, 0.19265192269109074, -0.9531550581864712, -0.8220748126601545, -0.07961568845698515, 0.3143088276000622, 0.025146952812692958, -0.06387846075861044, -0.746254997001888, -1.2492383485050143, -0.584681057960812, -0.4031889496364762, 0.32464348446287483, -0.450989107369495, -1.1146920690903301, -0.33634376486023915, -0.6452689489820141, -0.4031889496364762, 0.16876118667643017, -1.4202653633507953, -0.16280885628468264, 0.5449309000541781, -1.5282043700731744, -1.6612232276123453, -0.9531550581864712, -0.23561096215865984, 0.2826275401309898, -1.4202653633507953, 0.010906031967872163, -0.35802977817907533, -0.8631566647110013, -1.5282043700731744, -0.6452689489820141, -1.178494298150978, 0.1317460487824049, -1.837578251021704, -1.837578251021704, -0.07961568845698515, -1.5282043700731744, -1.6612232276123453, -0.06387846075861044, -0.25481988464053473, 0.29330358559495245, -0.6452689489820141, -0.1804416872913862, 1.219535824400078, 0.4130544522551369, 0.24987070090070237, -0.19844121269097797, 0.5114135995582447, -1.0028826209268564, -0.3152086294638053, 0.40361347284541815, -0.16280885628468264, -0.35802977817907533, 0.21595394529705877, -0.7110682307853167, 0.1190744841715067, -1.837578251021704, -0.746254997001888, -1.0028826209268564, 0.5773830926014479, 0.025146952812692958, -0.35802977817907533, -0.9531550581864712, -1.6612232276123453, -1.5282043700731744, 0.4589614899087706, 0.6088423641403473, -0.4031889496364762, 0.010906031967872163, -0.128579765320932, -0.03321349981826121, -0.584681057960812, 0.29330358559495245, -0.128579765320932, -0.38029951340643287, 1.237180757647419, 0.6165597874477753, 0.16876118667643017, -0.00356214526519, 0.9558677199599906, 0.2826275401309898, -0.00356214526519, 0.5198970323372324, -0.35802977817907533, -0.6143810068863226, -1.178494298150978, -1.1146920690903301, -1.6612232276123453, -0.7110682307853167, 0.24987070090070237, -0.00356214526519, -0.06387846075861044, -0.09563710828395837, -1.0028826209268564, -0.5560724028589439, -0.746254997001888, -0.09563710828395837, -0.6143810068863226, 0.7328619512957539, 0.6907431071642812, -1.0564821952276102, -1.3288561648166746, 0.3449897894022499, -0.128579765320932, -0.6774555332009263, -0.33634376486023915, -0.584681057960812, 0.601066969226927, -0.11195434226511418, 0.010906031967872163, -0.47599162107292053, -0.21682476089674385, -1.1146920690903301, -0.3152086294638053, 0.18078219890073627, 0.18078219890073627, -0.2945943042087912, 0.5853383455913826, 0.24987070090070237, 0.4589614899087706, -0.128579765320932, 0.4589614899087706, -0.584681057960812, -1.0028826209268564, 0.07998735996885559, -1.2492383485050143, -0.584681057960812, -1.178494298150978, -2.111268390076232, 0.03916837537790013, -0.6774555332009263, -1.1146920690903301, -0.6774555332009263, 0.1190744841715067, -1.0028826209268564, 0.8684340191812238, 0.19265192269109074, 1.3498284087705754, -0.4031889496364762, -0.7110682307853167, -0.9531550581864712, 0.561285439374835, -0.07961568845698515, 0.2609141568224548, -0.6452689489820141, -1.0028826209268564, -0.19844121269097797, -0.450989107369495, 0.21595394529705877, -0.128579765320932, -0.47599162107292053, -0.06387846075861044, -0.528470011672296, -0.584681057960812, -1.0028826209268564, 0.1317460487824049, -0.7110682307853167, -0.3152086294638053, -1.837578251021704, -0.528470011672296, -0.33634376486023915, -0.23561096215865984, 0.1190744841715067, -0.501798694755158, -0.7831889994978756, -1.0564821952276102, 0.10622785776467517, -0.528470011672296, -1.0028826209268564, -0.7110682307853167, -0.6774555332009263, -1.2492383485050143, 0.3038630877936007, 0.4942306970510273, 0.07998735996885559, -2.111268390076232, 1.0472868878846757, -0.9067296198900479, -1.6612232276123453, -0.746254997001888, 0.9889931166323324, -0.01826577001439744, -0.8220748126601545, -0.27447318894709594, -0.584681057960812, -1.2492383485050143, -0.6452689489820141, -1.0028826209268564, -0.11195434226511418, -1.0028826209268564, -1.5282043700731744, -1.1146920690903301, -0.33634376486023915, -1.5282043700731744, -0.00356214526519, -0.25481988464053473, -0.528470011672296, 0.21595394529705877, 0.20437451162076323, -1.178494298150978, -0.7110682307853167, -1.4202653633507953, -0.4031889496364762, -0.6452689489820141, 0.1317460487824049, -0.528470011672296, 1.3297597259997815, -1.6612232276123453, -0.7831889994978756, -0.35802977817907533, -0.11195434226511418, -0.35802977817907533, 0.7995527686542142, -0.33634376486023915, -0.8220748126601545, -1.6612232276123453, -0.8631566647110013, -0.4031889496364762, -0.501798694755158, -0.128579765320932, -1.3288561648166746, -0.501798694755158, -0.06387846075861044, -1.5282043700731744, -0.128579765320932, 1.1318539925857165, -0.9531550581864712, -0.7831889994978756, 0.6318244902021224, -0.4031889496364762, -0.09563710828395837, -0.8220748126601545, 0.850077851774883, -1.4202653633507953, -0.4031889496364762, 0.0932007214423289, -0.00356214526519, 0.05297765518367912, -0.47599162107292053, -1.2492383485050143, -0.746254997001888, -0.6143810068863226, -1.6612232276123453, 0.1317460487824049, -1.1146920690903301, -0.8220748126601545, -0.23561096215865984, 0.2826275401309898, -0.6143810068863226, -1.0564821952276102, -0.4031889496364762, 0.025146952812692958, -0.7110682307853167, -1.0564821952276102, 0.44085119610242773, -0.5560724028589439, -0.528470011672296, 0.32464348446287483, -0.25481988464053473, 0.1190744841715067, -0.9067296198900479, -0.6774555332009263, -0.47599162107292053, -1.2492383485050143, -1.1146920690903301, -1.6612232276123453, 0.5932326293454564, -0.9067296198900479, 0.3143088276000622, -0.6452689489820141, -0.450989107369495, -0.6774555332009263, -1.0564821952276102, -1.178494298150978, -0.5560724028589439, -1.0028826209268564, -0.47599162107292053, -1.837578251021704, -1.6612232276123453, -0.25481988464053473, 0.24987070090070237, 0.6543097169469785, -0.38029951340643287, -0.00356214526519, -0.5560724028589439, -0.6774555332009263, -0.501798694755158, -0.9531550581864712, 0.16876118667643017, -1.178494298150978, 0.4942306970510273, -0.8220748126601545, -0.38029951340643287, 0.21595394529705877, -0.27447318894709594, 0.5853383455913826, -0.23561096215865984, 0.07998735996885559, 0.2609141568224548, -0.6774555332009263, -0.19844121269097797, -0.07961568845698515, -0.048414495332627185, 0.6543097169469785, 0.8623496076720732, -0.00356214526519, -0.9531550581864712, -0.25481988464053473, 0.03916837537790013, -0.128579765320932, -0.2945943042087912, -0.19844121269097797, -0.9531550581864712, -0.3152086294638053, 0.3449897894022499, -0.35802977817907533, -1.178494298150978, -1.5282043700731744, 1.3851242212505008, 0.2609141568224548, 0.10622785776467517, 0.18078219890073627, -0.501798694755158, -0.5560724028589439, -1.4202653633507953, -0.9531550581864712, -0.16280885628468264, -1.178494298150978, 0.24987070090070237, 0.025146952812692958, 0.32464348446287483, -0.07961568845698515, 1.042110550385004, -1.0564821952276102, 0.5693658175956189, 0.32464348446287483, -0.584681057960812, -0.6143810068863226, 0.21595394529705877, 0.561285439374835, -1.5282043700731744, -1.1146920690903301, -0.35802977817907533, -0.7110682307853167, -0.7110682307853167, -0.528470011672296, -0.4031889496364762, -0.7110682307853167, -0.7110682307853167, -0.8220748126601545, -0.01826577001439744, 0.6393735963635121, -0.5560724028589439, 0.1190744841715067, -0.01826577001439744, -0.7110682307853167, -0.8220748126601545, -1.6612232276123453, 0.010906031967872163, -0.07961568845698515, -1.5282043700731744, 0.9670194402276913, -1.0028826209268564, -0.35802977817907533, 0.29330358559495245, -2.111268390076232, -0.7110682307853167, 0.22739403908443367, -1.1146920690903301, -0.7110682307853167, -0.4031889496364762, -0.8631566647110013, 0.6835569028993821, -1.6612232276123453, -1.0028826209268564, 0.4130544522551369, -0.47599162107292053, 0.3940816875827079, -1.0564821952276102, -2.111268390076232, 0.1190744841715067, -0.06387846075861044, 0.010906031967872163, -0.23561096215865984, 1.2283916061325624, -1.837578251021704, -0.4031889496364762, -1.0564821952276102, -0.09563710828395837, 0.20437451162076323, 0.18078219890073627, 0.7799783546482715, -0.25481988464053473, -0.7831889994978756, 0.20437451162076323, 0.5283102155516698, 0.886486401810526, -0.584681057960812, -0.7831889994978756, 0.07998735996885559, -1.5282043700731744, -0.21682476089674385, 0.19265192269109074, 0.10622785776467517, -0.584681057960812, -0.128579765320932, -0.4031889496364762, -1.0564821952276102, 0.20437451162076323, 0.16876118667643017, 0.1317460487824049, 0.16876118667643017, 0.29330358559495245, 0.16876118667643017, -1.5282043700731744, -0.11195434226511418, 0.24987070090070237, 0.40361347284541815, -0.19844121269097797, -0.33634376486023915, 0.9217228800672113, 0.025146952812692958, 0.19265192269109074, 0.3550063322834923, -2.111268390076232, -0.07961568845698515, -0.4031889496364762, -0.47599162107292053, 0.29330358559495245, 0.07998735996885559, -0.16280885628468264, -0.1804416872913862, -1.1146920690903301, -1.4202653633507953, -0.7831889994978756, -1.0564821952276102, -0.7831889994978756, -2.111268390076232, -0.35802977817907533, -0.2945943042087912, -0.47599162107292053, -1.0564821952276102, 0.10622785776467517, -0.450989107369495, -1.178494298150978, -0.584681057960812, 0.05297765518367912, -0.47599162107292053, -0.38029951340643287, -0.38029951340643287, 0.3940816875827079, -1.1146920690903301, -0.00356214526519, -0.01826577001439744, -1.837578251021704, 0.6318244902021224, -0.8631566647110013, -0.1804416872913862, -0.38029951340643287, -0.5560724028589439, 0.4855284857507031, -0.42673762056451203, -0.6143810068863226, -0.7110682307853167, -1.178494298150978, -0.5560724028589439, 1.0928388021373188, -0.9531550581864712, 0.16876118667643017, -1.837578251021704, -0.3152086294638053, -1.837578251021704, -0.584681057960812, -0.6774555332009263, -1.2492383485050143, -1.0028826209268564, 0.03916837537790013, 0.3143088276000622, -1.5282043700731744, -0.23561096215865984, 0.1190744841715067, -0.528470011672296, -0.4031889496364762, -0.9531550581864712, -0.584681057960812, -1.6612232276123453, 0.561285439374835, -0.9531550581864712, -0.33634376486023915, 1.0369103527486272, -0.21682476089674385, 0.22739403908443367, -0.501798694755158, -0.528470011672296, -0.06387846075861044, -0.7831889994978756, 0.5366544247713348, -0.27447318894709594, -0.450989107369495, -1.178494298150978, -0.25481988464053473, 0.1317460487824049, -0.42673762056451203, -1.0564821952276102, -0.3152086294638053, 0.07998735996885559, -1.5282043700731744, 0.561285439374835, 0.29330358559495245, -0.09563710828395837, -0.746254997001888, 0.5693658175956189, 0.9725536268321008, -0.6774555332009263, -0.23561096215865984, -1.1146920690903301, -0.09563710828395837, -0.501798694755158, 0.9835401693899096, -0.1804416872913862, -0.6774555332009263, 0.42240651986917266, 0.27183206383415925, -0.03321349981826121, -0.528470011672296, -1.1146920690903301, -0.501798694755158, -1.5282043700731744, -0.7110682307853167, 1.0051941073354522, 0.8187774543806438, 0.16876118667643017, -0.27447318894709594, -1.1146920690903301, -0.9531550581864712, 0.8562310278342361, -0.528470011672296, -0.9531550581864712, -0.25481988464053473, -0.8220748126601545, 0.19265192269109074, -0.8220748126601545, -0.7831889994978756, -0.6774555332009263, -0.9067296198900479, -0.1804416872913862, -0.00356214526519, 0.1317460487824049, 0.19265192269109074, 0.18078219890073627, -0.33634376486023915, -1.3288561648166746, -0.501798694755158, -1.0564821952276102, -1.0028826209268564, -0.3152086294638053, -0.47599162107292053, -1.0564821952276102, -0.11195434226511418, -0.8220748126601545, 0.3038630877936007, 0.5853383455913826, -0.07961568845698515, -0.07961568845698515, -0.01826577001439744, 1.5644434307128972, -0.25481988464053473, 0.3348696413516396, 0.5853383455913826, -0.746254997001888, 0.16876118667643017, -0.03321349981826121, -0.11195434226511418, -1.6612232276123453, 0.0665817729432942, 0.27183206383415925, 0.5198970323372324, -0.21682476089674385, 0.0932007214423289, -0.11195434226511418, -0.3152086294638053, 0.10622785776467517, 0.27183206383415925, -0.21682476089674385, -0.6774555332009263, 0.7995527686542142, -0.6774555332009263, -0.7831889994978756, -0.16280885628468264, -1.178494298150978, -0.47599162107292053, -0.584681057960812, -0.16280885628468264, -0.3152086294638053, -0.8220748126601545, -1.837578251021704, -1.837578251021704, 0.9217228800672113, -2.111268390076232, -0.528470011672296, -0.746254997001888, -1.178494298150978, -0.6452689489820141, -0.7831889994978756, -0.6452689489820141, -0.6143810068863226, 0.3747378042841944, -1.178494298150978, -0.746254997001888, -0.33634376486023915, -1.1146920690903301, -0.2945943042087912, -0.8220748126601545, -0.33634376486023915, -0.6452689489820141, -0.746254997001888, -0.5560724028589439, -1.6612232276123453, -0.746254997001888, 0.9670194402276913, -0.746254997001888, 0.3143088276000622, 0.43167150926014436, -0.584681057960812, -0.38029951340643287, -0.9531550581864712, -0.6774555332009263, -0.11195434226511418, -1.5282043700731744, 0.05297765518367912, 0.42240651986917266, -0.38029951340643287, -0.9531550581864712, -0.528470011672296, -0.584681057960812, -0.27447318894709594, -0.21682476089674385, -1.5282043700731744, -0.06387846075861044, -0.19844121269097797, -0.746254997001888, -0.07961568845698515, -0.9531550581864712, -0.38029951340643287, -0.128579765320932, 0.4589614899087706, 0.4130544522551369, -1.178494298150978, 0.18078219890073627, -0.35802977817907533, -0.584681057960812, -0.23561096215865984, 0.6835569028993821, -0.1804416872913862, 0.03916837537790013, -0.3152086294638053, 0.850077851774883, -0.09563710828395837, 0.19265192269109074, -1.0564821952276102, -0.746254997001888, -0.584681057960812, -0.09563710828395837, -0.746254997001888, 0.5366544247713348, -0.5560724028589439, 0.10622785776467517, 0.6468683859205026, -0.9531550581864712, 0.42240651986917266, -0.01826577001439744, 0.24987070090070237, -0.14552657287159496, -1.2492383485050143, 0.14424774923244116, -0.7110682307853167, 0.3940816875827079, -0.09563710828395837, -1.178494298150978, 0.10622785776467517, 0.07998735996885559, 0.27183206383415925, -0.19844121269097797, -0.7110682307853167, 0.010906031967872163, -0.584681057960812, 0.1190744841715067, -0.6774555332009263, 0.19265192269109074, -1.4202653633507953, -0.128579765320932, -0.01826577001439744, -0.7831889994978756, 0.18078219890073627, -0.746254997001888, -1.178494298150978, -0.00356214526519, 0.4855284857507031, -0.7831889994978756, 0.47675053859439753, 0.16876118667643017, -0.746254997001888, -0.09563710828395837, -0.7831889994978756, -1.5282043700731744, 0.10622785776467517, -0.5560724028589439, -0.35802977817907533, 0.05297765518367912, -0.501798694755158, -0.09563710828395837, 0.43167150926014436, -0.6774555332009263, -0.38029951340643287, -0.23561096215865984, 0.07998735996885559, -0.09563710828395837, 0.4130544522551369, -0.11195434226511418, -0.16280885628468264, -0.2945943042087912, 1.2016198238065992, -0.528470011672296, 0.025146952812692958, -0.00356214526519, -0.746254997001888, 0.2826275401309898, 0.24987070090070237, -0.6143810068863226, 0.2609141568224548, -0.35802977817907533, -0.584681057960812, -1.0564821952276102, -0.5560724028589439, 0.5773830926014479, -0.7110682307853167, -1.6612232276123453, 0.6835569028993821, -0.27447318894709594, -2.111268390076232, 0.7397217615917182, -0.06387846075861044, -0.7110682307853167, -0.42673762056451203, 0.5853383455913826, -0.501798694755158, -0.7831889994978756, -0.11195434226511418, -1.0028826209268564, -0.33634376486023915, -0.6143810068863226, -0.7110682307853167, 0.15658454801820637, -0.3152086294638053, -1.2492383485050143, -1.0564821952276102, -0.33634376486023915, -0.9531550581864712, -0.7110682307853167, -0.6774555332009263, -0.23561096215865984, -1.837578251021704, -0.7110682307853167, 0.36492159030490035, -0.3152086294638053, 0.19265192269109074, -1.1146920690903301, 0.1317460487824049, 0.29330358559495245, 0.1190744841715067, -0.4031889496364762, 0.025146952812692958, 0.07998735996885559, 0.1190744841715067, 0.9042459154066864, -0.6774555332009263, -0.6774555332009263, -0.6774555332009263, 0.03916837537790013, 0.07998735996885559, -0.11195434226511418, -0.47599162107292053, -0.09563710828395837, 0.6318244902021224, -0.501798694755158, -0.42673762056451203, -0.4031889496364762, -1.3288561648166746, -1.837578251021704, -0.07961568845698515, -0.2945943042087912, 0.16876118667643017, 0.5198970323372324, -0.42673762056451203, -0.6143810068863226, -0.6452689489820141, -0.2945943042087912, -0.528470011672296, 0.010906031967872163, 0.16876118667643017, -0.501798694755158, -1.0564821952276102, 0.3038630877936007, -0.7831889994978756, 0.3143088276000622, -0.3152086294638053, -0.06387846075861044, 0.3449897894022499, -1.6612232276123453, -1.1146920690903301, -1.4202653633507953, 0.5853383455913826, -0.501798694755158, -0.584681057960812, -1.4202653633507953, 0.010906031967872163, 0.1317460487824049, -0.501798694755158, 1.0778570947550554, -1.5282043700731744, -0.584681057960812, -0.7110682307853167, -0.6774555332009263, -1.4202653633507953, 0.6088423641403473, -1.6612232276123453, 0.601066969226927, 0.4942306970510273, -0.14552657287159496, -0.27447318894709594, -0.528470011672296, -0.450989107369495, -1.3288561648166746, 0.03916837537790013, -0.8220748126601545, -1.6612232276123453, -0.450989107369495, 0.7328619512957539, 0.3940816875827079, 0.3449897894022499, 0.24987070090070237, -0.00356214526519, 0.29330358559495245, 0.1317460487824049, -0.7831889994978756, -1.5282043700731744, -1.5282043700731744, -0.16280885628468264, -0.25481988464053473, 0.29330358559495245, -0.3152086294638053, 0.23869845315191887, -0.8220748126601545, -0.35802977817907533, -1.5282043700731744, 0.010906031967872163, 0.3550063322834923, -0.38029951340643287, 0.2826275401309898, -0.33634376486023915, -0.5560724028589439, -0.35802977817907533, -1.4202653633507953, -0.128579765320932, -0.7831889994978756, -1.0564821952276102, -0.7831889994978756, -0.6774555332009263, 0.21595394529705877, -0.8220748126601545, -0.528470011672296, -0.42673762056451203, 0.05297765518367912, -0.2945943042087912, 0.27183206383415925, -1.4202653633507953, 0.1317460487824049, -2.111268390076232, 0.22739403908443367, -0.23561096215865984, -0.07961568845698515, 0.3940816875827079, -1.6612232276123453, 1.232794441235497, -0.47599162107292053, 0.44994730062061283, -0.47599162107292053, -0.07961568845698515, 0.010906031967872163, -0.33634376486023915, 0.010906031967872163, 0.3348696413516396, -0.21682476089674385, -0.7110682307853167, -0.09563710828395837, -0.35802977817907533, 0.0932007214423289, 0.6393735963635121, -1.178494298150978, -0.6452689489820141, -0.048414495332627185, 0.0932007214423289, 0.21595394529705877, 0.1190744841715067, 0.3449897894022499, 0.5283102155516698, 0.7049700684256084, -1.178494298150978, -1.5282043700731744, -1.0028826209268564, 0.9558677199599906, -0.5560724028589439, 0.5531408472720875, 0.837665957422535, -0.5560724028589439, -1.4202653633507953, -1.6612232276123453, -0.7831889994978756, -0.19844121269097797, -0.00356214526519, -0.19844121269097797, -2.111268390076232, -0.23561096215865984, 0.5366544247713348, -1.5282043700731744, -1.0564821952276102, -0.528470011672296, -0.35802977817907533, -0.5560724028589439, 0.20437451162076323, -0.9531550581864712, -0.35802977817907533, 0.20437451162076323, -0.21682476089674385, -0.8220748126601545, -0.27447318894709594, 1.1222242311416832, -1.837578251021704, -2.111268390076232, 0.18078219890073627, -0.47599162107292053, -1.178494298150978, -0.746254997001888, 0.6543097169469785, -0.4031889496364762, 0.36492159030490035, -0.4031889496364762, -0.4031889496364762, -0.25481988464053473, -1.1146920690903301, -0.528470011672296, -0.03321349981826121, 0.1317460487824049, -0.6143810068863226, -1.5282043700731744, -0.47599162107292053, 0.025146952812692958, -2.111268390076232, 0.05297765518367912, -0.47599162107292053, -1.5282043700731744, 0.07998735996885559, 0.7865428889261087, -0.7110682307853167, -0.19844121269097797, -1.178494298150978, -1.5282043700731744, -0.19844121269097797, -0.21682476089674385, 0.3143088276000622, -1.5282043700731744, -1.4202653633507953, -1.2492383485050143, -1.0028826209268564, -0.38029951340643287, -0.5560724028589439, 0.40361347284541815, -0.07961568845698515, -1.4202653633507953, -0.00356214526519, -0.7110682307853167, -0.38029951340643287, -1.178494298150978, -0.16280885628468264, 0.3348696413516396, -0.9531550581864712, 0.40361347284541815, -0.7831889994978756, 0.42240651986917266, -0.38029951340643287, -0.450989107369495, -1.6612232276123453, -0.33634376486023915, -0.501798694755158, 0.3940816875827079, 0.6690353323294422, -0.42673762056451203, -0.42673762056451203, 0.36492159030490035, -0.6143810068863226, 0.10622785776467517, 0.6393735963635121, -0.7110682307853167, -0.7110682307853167, -0.25481988464053473, -0.25481988464053473, -0.584681057960812, -0.501798694755158, -0.3152086294638053, 0.601066969226927, 0.7049700684256084, -0.42673762056451203, -1.5282043700731744, -0.01826577001439744, -0.5560724028589439, -0.8220748126601545, -0.7110682307853167, -1.0564821952276102, 0.9332220632577368, -0.4031889496364762, -0.06387846075861044, -1.3288561648166746, -1.178494298150978, -1.6612232276123453, -0.01826577001439744, 0.8924382592212368, -0.7831889994978756, -2.111268390076232, -0.5560724028589439, -0.528470011672296, -0.7110682307853167, -1.178494298150978, -0.33634376486023915, -0.584681057960812, -0.4031889496364762, 0.0932007214423289, -0.11195434226511418, 0.0665817729432942, 0.5773830926014479, -0.25481988464053473, -0.38029951340643287, -0.528470011672296, 0.03916837537790013, 1.0211641297559828, 0.1190744841715067, -0.33634376486023915, -1.2492383485050143, -0.6774555332009263, 1.4156508271370816, -1.6612232276123453, -0.27447318894709594, -0.501798694755158, -0.9067296198900479, -1.0028826209268564, 0.5932326293454564, 0.025146952812692958, -0.8220748126601545, 0.6835569028993821, -1.5282043700731744, 0.6616984267063972, -0.7110682307853167, -1.4202653633507953, -0.16280885628468264, 0.8684340191812238, 0.010906031967872163, 0.812407231356387, -1.837578251021704, -0.14552657287159496, -0.27447318894709594, 0.7533100743369663, 0.1190744841715067, -0.584681057960812, -0.47599162107292053, -1.1146920690903301, -0.33634376486023915, -1.5282043700731744, -0.4031889496364762, -0.746254997001888, -0.9531550581864712, -0.6143810068863226, -0.8220748126601545, 0.32464348446287483, -0.35802977817907533, -0.07961568845698515, 0.5283102155516698, -1.178494298150978, -0.8220748126601545, -0.7110682307853167, -0.8631566647110013, 0.9217228800672113, -0.07961568845698515, -0.8220748126601545, -0.8220748126601545, -1.178494298150978, -0.25481988464053473, -0.00356214526519, -0.528470011672296, -1.0028826209268564, -0.746254997001888, -0.03321349981826121, -0.5560724028589439, 0.27183206383415925, -0.746254997001888, -0.16280885628468264, -0.1804416872913862, -1.0028826209268564, -1.5282043700731744, -0.6774555332009263, -0.8220748126601545, -1.178494298150978, -0.6452689489820141, -0.584681057960812, 0.7259575318258369, -0.25481988464053473, -2.111268390076232, -0.7831889994978756, -0.9531550581864712, -1.6612232276123453, -0.14552657287159496, -0.01826577001439744, -0.7831889994978756, -0.07961568845698515, -0.6774555332009263, -0.3152086294638053, -0.7110682307853167, 0.42240651986917266, -1.837578251021704, -0.23561096215865984, -0.1804416872913862, -0.7110682307853167, -0.8220748126601545, -0.128579765320932, -0.5560724028589439, 0.1190744841715067, -1.0564821952276102, -1.0564821952276102, -0.7831889994978756, -0.09563710828395837, 1.1027182082047462, -1.5282043700731744, 0.10622785776467517, -1.178494298150978, -0.746254997001888, -1.1146920690903301, -1.6612232276123453, 1.1742168726211484, -0.501798694755158, -0.35802977817907533, -0.8220748126601545, -0.746254997001888, 0.03916837537790013, -0.38029951340643287, -1.837578251021704, -1.0028826209268564, -1.4202653633507953, 0.03916837537790013, -0.38029951340643287, -0.501798694755158, -0.128579765320932, 0.1190744841715067, -0.6452689489820141, -0.8631566647110013, -0.6774555332009263, -0.8631566647110013, -0.528470011672296, -1.178494298150978, -0.01826577001439744, -0.4031889496364762, -1.4202653633507953, -1.2492383485050143, 0.601066969226927, 0.27183206383415925, 0.3940816875827079, -0.9531550581864712, -0.7110682307853167, -0.3152086294638053, -0.16280885628468264, 0.025146952812692958, 0.07998735996885559, -1.3288561648166746, -0.6143810068863226, -0.3152086294638053, -0.8220748126601545, -1.837578251021704, -0.35802977817907533, -0.6774555332009263, -0.35802977817907533, 0.1317460487824049, -0.23561096215865984, 0.27183206383415925, -0.47599162107292053, -0.47599162107292053, -0.6774555332009263, -1.5282043700731744, 0.19265192269109074, -2.111268390076232, -0.128579765320932, -0.7831889994978756, -1.5282043700731744, 0.025146952812692958, -0.528470011672296, -0.21682476089674385, -0.38029951340643287, -0.27447318894709594, -1.0028826209268564, -0.09563710828395837, -0.47599162107292053, 0.4942306970510273, 0.24987070090070237, -0.8220748126601545, 0.3348696413516396, -0.19844121269097797, 0.03916837537790013, -1.1146920690903301, -1.1146920690903301, -0.6774555332009263, -0.9531550581864712, -0.746254997001888, -0.584681057960812, -0.3152086294638053, -0.00356214526519, -0.8220748126601545, 0.07998735996885559, -1.0028826209268564, 0.5028586047417887, -0.501798694755158, -0.6143810068863226, 0.2609141568224548, 0.3940816875827079, 0.8983579697371527, -0.501798694755158, -0.1804416872913862, -0.584681057960812, -0.23561096215865984, 0.36492159030490035, -1.0028826209268564, -0.9067296198900479, -1.5282043700731744, 0.2609141568224548, -1.837578251021704, -0.01826577001439744, -1.6612232276123453, -0.14552657287159496, -0.14552657287159496, 0.3550063322834923, -0.9531550581864712, -1.837578251021704, -0.9067296198900479, -0.38029951340643287, 0.3449897894022499, -0.11195434226511418, -1.6612232276123453, -1.5282043700731744, -0.9531550581864712, -0.33634376486023915, -0.6143810068863226, 0.0665817729432942, 0.2609141568224548, 1.010542750050264, -0.4031889496364762, -0.6143810068863226, 0.24987070090070237, -1.1146920690903301, 0.10622785776467517, -1.5282043700731744, -0.09563710828395837, 0.42240651986917266, 0.16876118667643017, -0.9531550581864712, -0.09563710828395837, -1.0028826209268564, -0.25481988464053473, -0.4031889496364762, 0.010906031967872163, -1.4202653633507953, -0.03321349981826121, 0.2609141568224548, -0.1804416872913862, -0.6143810068863226, -0.33634376486023915, -0.21682476089674385, -0.501798694755158, -0.4031889496364762, -0.25481988464053473, -0.584681057960812, -0.9531550581864712, 0.6978805871026439, 0.2826275401309898, -0.23561096215865984, -0.9531550581864712, -1.5282043700731744, -0.5560724028589439, 0.23869845315191887, -0.42673762056451203, -1.5282043700731744, -0.33634376486023915, -0.25481988464053473, -1.5282043700731744, -0.584681057960812, -0.25481988464053473, -0.33634376486023915, -0.6774555332009263, -0.501798694755158, -0.09563710828395837, -0.5560724028589439, -0.584681057960812, -0.1804416872913862, 0.6393735963635121, -0.25481988464053473, -0.47599162107292053, 0.1317460487824049, 0.467895380128654, 0.36492159030490035, -0.9531550581864712, -1.0028826209268564, -0.23561096215865984, -0.6452689489820141, -0.9531550581864712, 0.21595394529705877, -0.47599162107292053, -0.528470011672296, -0.38029951340643287, 0.1317460487824049, -0.6774555332009263, -0.8220748126601545, -0.4031889496364762, 0.15658454801820637, 0.6616984267063972, -1.178494298150978, -0.33634376486023915, -1.6612232276123453, -0.9067296198900479, -1.1146920690903301, 0.07998735996885559, -0.8220748126601545, -0.23561096215865984, -0.5560724028589439, 1.0264373933108693, -0.3152086294638053, 0.10622785776467517, 0.4130544522551369, -0.35802977817907533, 0.746537596086958, -1.1146920690903301, -0.528470011672296, -0.8220748126601545, 0.32464348446287483, 0.2609141568224548, 0.4855284857507031, 0.24987070090070237, -0.25481988464053473, -0.47599162107292053, -0.35802977817907533, -0.4031889496364762, -0.584681057960812, 0.07998735996885559, 1.1076260123727293, 0.36492159030490035, 0.2609141568224548, -0.38029951340643287, -1.6612232276123453, 1.232794441235497, -1.0564821952276102, 0.2609141568224548, 0.4130544522551369, -0.00356214526519, -0.19844121269097797, -0.501798694755158, 1.010542750050264, -0.128579765320932, -0.47599162107292053, 0.2609141568224548, -1.837578251021704, -1.178494298150978, -0.128579765320932]}, {\"marker\": {\"color\": \"orange\", \"line\": {\"width\": 1}, \"size\": 5}, \"mode\": \"markers\", \"name\": \"New\", \"type\": \"scatter3d\", \"x\": [-1.3686573823618193, -1.4911787898968445, -0.9522276125556988, -1.091659864520088, -0.39502849000275375, -0.6033305869906443, -0.8912811481075785, -0.30877321403281593, 0.15185712841885488, -0.6443195613698678, -1.8278752128537683, 0.08859223169865559, -1.4911787898968445, -1.8278752128537683, -0.9522276125556988, 0.3646472953433755, -1.6394419493532686, -2.0883596954522234, 0.10488159944063691, -1.018647300423445, -1.2640874911498137, -1.2640874911498137, -1.4911787898968445, -1.8278752128537683, -1.6394419493532686, -1.018647300423445, -2.0883596954522234, -0.4583849011817051, -2.0883596954522234, -0.28202528536651716, -0.25616443284418333, -1.1727730857051752, -0.3651979265346616, -1.091659864520088, -0.4260563575446027, -0.5644375200773446, -0.5644375200773446, -1.4911787898968445, -1.1727730857051752, -0.4583849011817051, -1.091659864520088, -0.28202528536651716, -1.6394419493532686, 0.6235910692525277, -1.8278752128537683, -0.28202528536651716, -0.20687548579285867, -1.2640874911498137, -1.3686573823618193, -0.3364732496378502, -1.6394419493532686, -0.7825763514543521, -1.8278752128537683, -2.520201539768054, -0.9522276125556988, 0.1208470040105216, -0.834953227874363, -0.16050185707541761, -0.6033305869906443, -0.7825763514543521, -0.6033305869906443, -1.1727730857051752, -1.1727730857051752, -0.7336190611105932, -1.018647300423445, -0.9522276125556988, -0.7825763514543521, -0.7336190611105932, -2.0883596954522234, -1.091659864520088, -1.2640874911498137, -0.4583849011817051, -1.3686573823618193, -0.4583849011817051, -0.3651979265346616, -1.3686573823618193, -2.520201539768054, -1.1727730857051752, -1.1727730857051752, -2.520201539768054, -1.018647300423445, -0.23113212453572274, -2.520201539768054, 0.15185712841885488, -0.7336190611105932, -2.0883596954522234, -1.8278752128537683, -1.2640874911498137, -2.520201539768054, 0.08859223169865559, -1.8278752128537683, -1.3686573823618193, 0.453303073932427, -1.6394419493532686, -1.1727730857051752, 0.0017678904050647333, -0.834953227874363, -0.6443195613698678, -0.9522276125556988, -2.520201539768054, -0.07521836078273077, -2.0883596954522234, -0.25616443284418333, -1.8278752128537683, -0.4583849011817051, -1.4911787898968445, -1.6394419493532686, -1.4911787898968445, -0.49213163948421346, 0.3646472953433755, -1.4911787898968445, -0.6876511893420092, -1.091659864520088, -2.0883596954522234, -1.018647300423445, 0.2652020274393997, -0.4583849011817051, -0.834953227874363, 0.2652020274393997, -0.30877321403281593, -0.6876511893420092, -0.3364732496378502, -0.4260563575446027, -0.09569178007984175, -2.520201539768054, -1.1727730857051752, -1.091659864520088, -0.9522276125556988, -2.520201539768054, -0.6876511893420092, -1.091659864520088, -1.2640874911498137, -0.834953227874363, 0.01990419918949142, 0.21051298841486887, -1.018647300423445, -1.4911787898968445, -1.4911787898968445, -0.5274309581274456, -2.520201539768054, -0.49213163948421346, -2.520201539768054, -0.9522276125556988, -0.8912811481075785, -0.6443195613698678, -0.5644375200773446, 0.21051298841486887, 0.01990419918949142, -0.5644375200773446, -0.5274309581274456, -1.1727730857051752, -0.7825763514543521, -0.6876511893420092, -0.39502849000275375, -0.18334658994953248, 0.6063064315254544, -0.25616443284418333, -0.4260563575446027, -1.018647300423445, -2.520201539768054, -0.25616443284418333, -0.7825763514543521, -0.03579303319809492, -0.4260563575446027, -0.7336190611105932, -0.11670929335602306, -0.11670929335602306, -0.834953227874363, -2.520201539768054, -0.49213163948421346, -0.3364732496378502, -0.03579303319809492, -1.8278752128537683, -0.30877321403281593, -0.6033305869906443, -0.39502849000275375, -0.6876511893420092, -1.1727730857051752, -1.018647300423445, 0.21051298841486887, -0.834953227874363, -2.0883596954522234, -0.6443195613698678, -1.091659864520088, -0.6443195613698678, -1.018647300423445, -0.49213163948421346, 0.340899235429617, 0.2652020274393997, -0.7336190611105932, -0.9522276125556988, -1.018647300423445, -1.1727730857051752, -0.4260563575446027, -0.7825763514543521, -0.6033305869906443, -0.5644375200773446, -0.6443195613698678, -0.4583849011817051, -0.3364732496378502, -0.8912811481075785, -0.7336190611105932, -1.018647300423445, -1.6394419493532686, -1.1727730857051752, -1.4911787898968445, -0.7336190611105932, -0.4583849011817051, 0.47404979454866286, -1.6394419493532686, -0.7825763514543521, 0.054985351922512304, -0.30877321403281593, -0.16050185707541761, -1.018647300423445, 0.19624354850794057, -0.39502849000275375, -1.1727730857051752, -0.5644375200773446, -0.4260563575446027, -0.4260563575446027, -0.834953227874363, -0.5644375200773446, -0.5644375200773446, -0.9522276125556988, 0.3646472953433755, -1.4911787898968445, -0.4260563575446027, -1.3686573823618193, 0.13650143995733685, -0.834953227874363, -0.8912811481075785, 0.5796872364082505, -1.091659864520088, -0.3651979265346616, -1.3686573823618193, -0.3651979265346616, -0.6876511893420092, -1.8278752128537683, -0.23113212453572274, -1.1727730857051752, -1.3686573823618193, -1.091659864520088, -0.8912811481075785, -0.7825763514543521, -2.520201539768054, -0.5274309581274456, 0.1208470040105216, 0.16692557756926502, -1.1727730857051752, -0.834953227874363, -1.018647300423445, 0.7279829318107287, -0.49213163948421346, -0.8912811481075785, 0.0376373423832693, -1.3686573823618193, 0.0376373423832693, -0.05526080247215775, -0.23113212453572274, -1.8278752128537683, -0.4260563575446027, -0.3651979265346616, -2.520201539768054, -0.28202528536651716, -1.091659864520088, -0.11670929335602306, -0.8912811481075785, -1.2640874911498137, -0.4583849011817051, -1.091659864520088, -0.6443195613698678, -1.2640874911498137, -0.20687548579285867, -0.9522276125556988, -0.834953227874363, -0.03579303319809492, -0.16050185707541761, -0.4260563575446027, -0.6443195613698678, -0.834953227874363, -1.018647300423445, -1.2640874911498137, -0.09569178007984175, 0.2783171950833015, -1.018647300423445, -1.8278752128537683, -0.25616443284418333, -0.5644375200773446, -2.520201539768054, -1.091659864520088, -1.4911787898968445, -0.7825763514543521, -0.9522276125556988, -0.28202528536651716, -0.5274309581274456, -1.2640874911498137, -0.4260563575446027, -0.6033305869906443, -1.2640874911498137, -1.8278752128537683, -0.28202528536651716, -0.6876511893420092, -0.5644375200773446, -0.016790926057702594, -0.7336190611105932, -0.49213163948421346, -0.6443195613698678, -0.8912811481075785, 0.0376373423832693, -0.6033305869906443, -1.2640874911498137, -0.5274309581274456, -0.49213163948421346, -1.091659864520088, -0.6443195613698678, -0.6876511893420092, -0.4260563575446027, -0.20687548579285867, -0.3364732496378502, -1.091659864520088, -1.2640874911498137, -0.9522276125556988, -1.4911787898968445, -1.8278752128537683, -0.03579303319809492, -0.16050185707541761, -0.11670929335602306, -2.0883596954522234, -0.7336190611105932, -0.9522276125556988, -1.018647300423445, -0.9522276125556988, -0.6876511893420092, -1.4911787898968445, -0.7336190611105932, 0.10488159944063691, -0.23113212453572274, 0.01990419918949142, -0.9522276125556988, -0.1383015415826463, -0.4583849011817051, -0.28202528536651716, -0.6876511893420092, -1.3686573823618193, -0.7336190611105932, -0.05526080247215775, -0.28202528536651716, -1.3686573823618193, -0.49213163948421346, -1.3686573823618193, -0.7825763514543521, 0.5614553329801352, -1.6394419493532686, -1.3686573823618193, -1.018647300423445, -1.1727730857051752, -1.2640874911498137, -0.39502849000275375, -0.834953227874363, 0.08859223169865559, -0.8912811481075785, -1.6394419493532686, 1.0295984232055724, -0.25616443284418333, -0.7825763514543521, -2.520201539768054, -0.3364732496378502, -0.49213163948421346, 0.453303073932427, -1.091659864520088, -0.7336190611105932, -1.8278752128537683, -1.4911787898968445, 0.054985351922512304, 0.3762676736323816, -0.28202528536651716, -0.4583849011817051, -1.2640874911498137, -1.4911787898968445, -1.8278752128537683, -0.28202528536651716, 0.1817176372594619, -1.3686573823618193, -0.3651979265346616, -0.3651979265346616, -0.20687548579285867, -0.39502849000275375, -1.8278752128537683, -1.2640874911498137, -1.3686573823618193, -2.0883596954522234, -0.5274309581274456, -1.018647300423445, -1.091659864520088, -0.8912811481075785, -0.49213163948421346, 0.0017678904050647333, 0.15185712841885488, -0.7336190611105932, -1.091659864520088, -1.1727730857051752, -1.018647300423445, -0.6876511893420092, -0.5274309581274456, -1.1727730857051752, 0.19624354850794057, -1.4911787898968445, -0.6443195613698678, -0.25616443284418333, -1.018647300423445, -1.1727730857051752, -0.6876511893420092, -1.4911787898968445, -1.8278752128537683, -0.834953227874363, -0.6443195613698678, -0.5274309581274456, -1.1727730857051752, -0.39502849000275375, -0.20687548579285867, -0.09569178007984175, -1.1727730857051752, -0.8912811481075785, -0.28202528536651716, -0.7336190611105932, -0.20687548579285867, -0.7825763514543521, -1.3686573823618193, -1.3686573823618193, -0.6033305869906443, -0.6033305869906443, -2.520201539768054, 0.10488159944063691, -1.3686573823618193, -0.9522276125556988, -1.1727730857051752, -1.6394419493532686, -1.6394419493532686, 0.46374172283064463, -0.9522276125556988, -1.2640874911498137, -1.4911787898968445, -0.3651979265346616, -0.5274309581274456, -1.1727730857051752, -0.7825763514543521, -0.4260563575446027, -0.25616443284418333, -1.8278752128537683, -2.520201539768054, -0.6443195613698678, -0.6443195613698678, -1.091659864520088, -1.4911787898968445, -1.091659864520088, -0.016790926057702594, -0.4583849011817051, -1.6394419493532686, -0.07521836078273077, -0.6876511893420092, -1.3686573823618193, -1.2640874911498137, -0.5644375200773446, -0.6033305869906443, -0.23113212453572274, -1.091659864520088, -0.7825763514543521, -0.23113212453572274, -0.6443195613698678, -1.2640874911498137, -1.3686573823618193, -0.5644375200773446, -0.25616443284418333, -1.2640874911498137, -1.018647300423445, -0.4260563575446027, -0.8912811481075785, -0.6876511893420092, -0.8912811481075785, 0.340899235429617, -0.5644375200773446, -1.018647300423445, -0.5644375200773446, -1.4911787898968445, -1.6394419493532686, 0.2383185843934481, 0.2652020274393997, -0.49213163948421346, -0.6876511893420092, -0.25616443284418333, -2.520201539768054, -1.3686573823618193, -0.5644375200773446, -1.8278752128537683, -0.3651979265346616, -2.0883596954522234, -1.6394419493532686, -1.8278752128537683, -0.5274309581274456, -0.3364732496378502, -0.49213163948421346, -0.834953227874363, 0.19624354850794057, -0.39502849000275375, -1.1727730857051752, -0.5274309581274456, -0.6876511893420092, -1.2640874911498137, -2.0883596954522234, -0.20687548579285867, -0.23113212453572274, -0.23113212453572274, -0.25616443284418333, 0.5140408478474535, -0.23113212453572274, -1.6394419493532686, 0.9105619096233312, 0.30392962769803333, -1.2640874911498137, -2.0883596954522234, -0.7336190611105932, -0.834953227874363, -1.1727730857051752, -0.4583849011817051, -1.1727730857051752, -2.520201539768054, -1.018647300423445, -0.25616443284418333, -1.018647300423445, 0.42116842990149045, -0.6033305869906443, -1.4911787898968445, -0.23113212453572274, -0.5644375200773446, -1.4911787898968445, -0.9522276125556988, -0.49213163948421346, -1.3686573823618193, -1.4911787898968445, 0.1817176372594619, -1.091659864520088, -0.11670929335602306, 0.0017678904050647333, -1.3686573823618193, -1.8278752128537683, -1.3686573823618193, -2.0883596954522234, -1.3686573823618193, -0.8912811481075785, -0.834953227874363, 0.054985351922512304, -0.9522276125556988, -0.23113212453572274, -1.6394419493532686, 0.32876123160629245, -0.834953227874363, -2.0883596954522234, 0.410171505791188, -0.6443195613698678, -1.6394419493532686, -0.834953227874363, -0.49213163948421346, -0.5274309581274456, -1.3686573823618193, -0.9522276125556988, -0.09569178007984175, -0.834953227874363, -0.28202528536651716, -0.7336190611105932, -0.6033305869906443, -1.3686573823618193, -0.5274309581274456, -1.018647300423445, -1.2640874911498137, -0.16050185707541761, -0.4260563575446027, 0.0376373423832693, -0.6443195613698678, -1.091659864520088, -0.8912811481075785, 0.25187162478647873, -1.018647300423445, -0.9522276125556988, -1.8278752128537683, -0.7825763514543521, -0.5274309581274456, -0.8912811481075785, 0.01990419918949142, -1.4911787898968445, -0.834953227874363, -1.3686573823618193, -0.6033305869906443, -0.9522276125556988, -1.1727730857051752, 0.5796872364082505, -1.6394419493532686, -0.016790926057702594, 0.46374172283064463, -0.8912811481075785, -0.5274309581274456, 0.410171505791188, -1.2640874911498137, -0.30877321403281593, 0.3762676736323816, -1.4911787898968445, -1.8278752128537683, -0.8912811481075785, -0.4583849011817051, -1.8278752128537683, -0.23113212453572274, -0.3651979265346616, -1.4911787898968445, -2.520201539768054, -0.3364732496378502, 0.13650143995733685, 0.10488159944063691, -1.4911787898968445, -0.7336190611105932, -0.4260563575446027, -0.3364732496378502, -0.9522276125556988, -0.4260563575446027, -1.8278752128537683, 0.3990252600251342, -0.6443195613698678, -0.28202528536651716, -2.520201539768054, -0.7825763514543521, -0.49213163948421346, -0.6876511893420092, -0.4583849011817051, -0.25616443284418333, -1.091659864520088, -0.834953227874363, -0.7825763514543521, -0.28202528536651716, -0.4260563575446027, -1.2640874911498137, -1.6394419493532686, -0.30877321403281593, 0.0017678904050647333, -1.4911787898968445, -1.4911787898968445, -0.9522276125556988, -0.4260563575446027, -1.8278752128537683, -1.3686573823618193, -0.6876511893420092, -0.25616443284418333, -0.49213163948421346, -0.5644375200773446, -1.018647300423445, -0.834953227874363, -1.091659864520088, -0.5274309581274456, -1.4911787898968445, -0.39502849000275375, -2.0883596954522234, -1.091659864520088, -1.4911787898968445, -1.4911787898968445, -0.5274309581274456, -0.7825763514543521, -0.4260563575446027, -1.1727730857051752, -0.4260563575446027, -0.20687548579285867, -0.7825763514543521, -0.7336190611105932, -0.4583849011817051, -0.16050185707541761, -1.3686573823618193, -0.6033305869906443, -1.3686573823618193, -1.2640874911498137, -0.1383015415826463, -0.5644375200773446, -1.018647300423445, -0.8912811481075785, -0.4260563575446027, -1.3686573823618193, -2.0883596954522234, -0.8912811481075785, -0.5644375200773446, -0.6876511893420092, -1.8278752128537683, -0.3651979265346616, -0.20687548579285867, -0.8912811481075785, -0.5644375200773446, -2.520201539768054, -0.39502849000275375, -2.520201539768054, -0.6876511893420092, 0.13650143995733685, -0.25616443284418333, -1.018647300423445, -0.6876511893420092, -0.39502849000275375, -0.49213163948421346, -0.6443195613698678, -1.4911787898968445, -1.091659864520088, 0.43202009414069564, -1.4911787898968445, 0.32876123160629245, -0.834953227874363, -1.2640874911498137, -0.6876511893420092, -0.25616443284418333, -1.6394419493532686, -0.30877321403281593, -1.8278752128537683, -1.1727730857051752, 0.0017678904050647333, -0.8912811481075785, -0.20687548579285867, -2.520201539768054, -1.2640874911498137, -0.7825763514543521, -1.3686573823618193, -0.8912811481075785, 0.01990419918949142, -1.1727730857051752, -0.1383015415826463, -1.018647300423445, 0.1208470040105216, -0.28202528536651716, -1.1727730857051752, -1.3686573823618193, -2.0883596954522234, -0.6443195613698678, -1.3686573823618193, -1.018647300423445, 0.0017678904050647333, 0.07196506581079778, -0.3651979265346616, -2.0883596954522234, -1.4911787898968445, -1.091659864520088, -0.28202528536651716, -0.3651979265346616, 0.2912241639539657, 0.2652020274393997, -1.2640874911498137, 0.2652020274393997, -0.9522276125556988, -1.2640874911498137, 1.0505080507644426, -0.25616443284418333, 0.5886553053354706, -2.0883596954522234, 0.410171505791188, -0.834953227874363, 0.08859223169865559, -2.520201539768054, -1.2640874911498137, -0.7336190611105932, -0.30877321403281593, -1.018647300423445, -2.520201539768054, -1.6394419493532686, -0.3364732496378502, 0.46374172283064463, -0.39502849000275375, -0.25616443284418333, -0.28202528536651716, -0.6443195613698678, -0.7825763514543521, -2.520201539768054, -1.1727730857051752, -1.2640874911498137, -0.03579303319809492, -0.834953227874363, -0.20687548579285867, -1.091659864520088, -0.25616443284418333, -1.4911787898968445, -0.7825763514543521, -2.0883596954522234, -0.6443195613698678, -0.834953227874363, -0.6876511893420092, -1.3686573823618193, -1.3686573823618193, -1.8278752128537683, -0.5644375200773446, -0.1383015415826463, -0.3651979265346616, -0.7336190611105932, -0.3651979265346616, -0.16050185707541761, -0.11670929335602306, -0.3651979265346616, -2.0883596954522234, -0.49213163948421346, -1.3686573823618193, -0.1383015415826463, -2.520201539768054, 0.1208470040105216, -0.9522276125556988, -1.4911787898968445, -1.091659864520088, -0.6443195613698678, -0.834953227874363, -2.520201539768054, -0.8912811481075785, -0.49213163948421346, -0.8912811481075785, -1.018647300423445, -1.091659864520088, -2.0883596954522234, -0.8912811481075785, -0.4583849011817051, -1.4911787898968445, -1.3686573823618193, -1.3686573823618193, -0.5644375200773446, -1.2640874911498137, 0.0017678904050647333, -0.9522276125556988, -1.4911787898968445, -0.7825763514543521, -1.018647300423445, -0.3364732496378502, -1.1727730857051752, -1.091659864520088, -1.8278752128537683, -0.28202528536651716, -2.520201539768054, -1.091659864520088, -1.2640874911498137, -0.9522276125556988, -0.30877321403281593, -0.3651979265346616, -1.2640874911498137, -0.6033305869906443, -0.49213163948421346, -0.25616443284418333, -0.3651979265346616, 0.01990419918949142, -1.1727730857051752, -2.520201539768054, -1.1727730857051752, -0.016790926057702594, -0.6443195613698678, -2.520201539768054, -0.5274309581274456, 0.21051298841486887, -1.018647300423445, -0.39502849000275375, -1.1727730857051752, -0.9522276125556988, -0.4583849011817051, -0.23113212453572274, 0.07196506581079778, -0.7336190611105932, 0.7279829318107287, -0.25616443284418333, -0.4260563575446027, -0.6033305869906443, -0.8912811481075785, -0.8912811481075785, 0.3164399593561805, 0.0017678904050647333, -0.9522276125556988, -0.39502849000275375, -1.6394419493532686, -1.2640874911498137, -0.5644375200773446, -0.8912811481075785, -0.016790926057702594, 0.2912241639539657, -0.3651979265346616, -0.9522276125556988, -0.49213163948421346, -0.8912811481075785, -0.49213163948421346, -0.8912811481075785, -1.2640874911498137, -0.6033305869906443, -2.520201539768054, -0.7825763514543521, -1.3686573823618193, -2.0883596954522234, -1.2640874911498137, -0.9522276125556988, -1.6394419493532686, -0.39502849000275375, -0.07521836078273077, -1.1727730857051752, 0.5706213203380267, 0.47404979454866286, -0.6876511893420092, -0.25616443284418333, -0.4583849011817051, -0.03579303319809492, -1.1727730857051752, -1.018647300423445, -1.1727730857051752, -0.4260563575446027, 0.453303073932427, -0.4260563575446027, -2.520201539768054, -2.520201539768054, -1.018647300423445, -0.05526080247215775, -0.6033305869906443, -2.520201539768054, -0.8912811481075785, -1.018647300423445, -0.834953227874363, -1.3686573823618193, -0.6033305869906443, -0.6876511893420092, -0.23113212453572274, -1.1727730857051752, -0.1383015415826463, -0.23113212453572274, -0.6876511893420092, -0.9522276125556988, -0.834953227874363, -0.49213163948421346, -0.23113212453572274, -0.07521836078273077, -2.520201539768054, -0.25616443284418333, -0.4583849011817051, -2.520201539768054, -0.25616443284418333, -0.7825763514543521, -2.0883596954522234, -1.3686573823618193, -1.8278752128537683, -0.4260563575446027, -0.7336190611105932, -1.1727730857051752, -0.9522276125556988, -0.9522276125556988, -0.7336190611105932, -1.3686573823618193, -0.5644375200773446, -0.7336190611105932, -0.6033305869906443, -0.4260563575446027, -1.3686573823618193, 0.054985351922512304, -0.7825763514543521, -0.07521836078273077, -0.7336190611105932, 0.9404461746280722, -1.1727730857051752, -1.3686573823618193, -0.11670929335602306, -0.4583849011817051, -0.5274309581274456, -0.5644375200773446, -0.6876511893420092, -1.2640874911498137, -0.39502849000275375, -0.834953227874363, -2.0883596954522234, 0.21051298841486887, -0.3651979265346616, 0.3762676736323816, -0.16050185707541761, -1.3686573823618193, -0.4260563575446027, -0.9522276125556988, -1.1727730857051752, -0.6443195613698678, -0.5274309581274456, -0.9522276125556988, -0.4583849011817051, 0.0017678904050647333, -1.6394419493532686, -0.7825763514543521, -1.8278752128537683, -2.520201539768054, -1.018647300423445, -0.9522276125556988, -0.5274309581274456, -0.7336190611105932, -2.0883596954522234, -1.091659864520088, -1.1727730857051752, -0.20687548579285867, -1.4911787898968445, -1.4911787898968445, -0.4260563575446027, -0.16050185707541761, -1.6394419493532686, 0.07196506581079778, -0.25616443284418333, 0.2912241639539657, -1.018647300423445, -0.4260563575446027, -1.4911787898968445, -1.2640874911498137, -1.4911787898968445, -0.49213163948421346, -1.091659864520088, -2.0883596954522234, -1.3686573823618193, 0.5428138568187418, -1.1727730857051752, -0.39502849000275375, -0.09569178007984175, -0.5274309581274456, -0.016790926057702594, -0.9522276125556988, -0.7825763514543521, -2.0883596954522234, -1.091659864520088, -0.16050185707541761, -1.8278752128537683, -2.0883596954522234, -0.834953227874363, -0.6033305869906443, -0.28202528536651716, -0.5644375200773446, -0.3651979265346616, 0.15185712841885488, -0.7336190611105932, -0.5644375200773446, -1.6394419493532686, -1.8278752128537683, -0.834953227874363, -0.834953227874363, -1.3686573823618193, -0.6443195613698678, -0.7336190611105932, -0.7825763514543521, -0.23113212453572274, -1.4911787898968445, -1.8278752128537683, -0.3651979265346616, -0.6443195613698678, -1.8278752128537683, -0.11670929335602306, -0.28202528536651716, -1.091659864520088, -1.3686573823618193, -0.7825763514543521, -1.1727730857051752, -0.834953227874363, -1.018647300423445, -1.018647300423445, -1.3686573823618193, -1.018647300423445, -0.3364732496378502, -1.4911787898968445, -0.7825763514543521, -1.4911787898968445, -0.4260563575446027, -0.5274309581274456, -1.091659864520088, -0.8912811481075785, -0.30877321403281593, 0.3164399593561805, -0.7825763514543521, -0.39502849000275375, -0.25616443284418333, -1.1727730857051752, -2.0883596954522234, -1.091659864520088, -1.8278752128537683, -1.018647300423445, -0.834953227874363, -0.8912811481075785, -1.8278752128537683, -1.018647300423445, -0.49213163948421346, -1.4911787898968445, -0.5644375200773446, -2.0883596954522234, 0.07196506581079778, -0.07521836078273077, 1.0189493172237996, 0.08859223169865559, -2.520201539768054, -2.520201539768054, -0.834953227874363, -2.520201539768054, -1.091659864520088, -2.0883596954522234, -0.834953227874363, -1.2640874911498137, -0.4583849011817051, -0.834953227874363, -0.4260563575446027, -2.520201539768054, -0.1383015415826463, -0.016790926057702594, -0.3364732496378502, -0.6876511893420092, -0.6443195613698678, -1.8278752128537683, -0.8912811481075785, -0.6876511893420092, 0.3646472953433755, -0.6033305869906443, -0.39502849000275375, 0.6733947047083444, -0.4260563575446027, -0.7336190611105932, -0.7336190611105932, -0.28202528536651716, -0.3364732496378502, -0.05526080247215775, -1.1727730857051752, -0.9522276125556988, -0.8912811481075785, -0.39502849000275375, -1.018647300423445, -0.9522276125556988, -0.3651979265346616, -0.9522276125556988, -0.8912811481075785, -0.7825763514543521, -1.1727730857051752, -0.5644375200773446, -2.0883596954522234, -1.018647300423445, 0.1817176372594619, -1.3686573823618193, -0.9522276125556988, -1.2640874911498137, -1.8278752128537683, -2.520201539768054, -0.05526080247215775, 0.07196506581079778, -0.07521836078273077, -0.6033305869906443, -1.1727730857051752, -1.091659864520088, -0.7825763514543521, -1.3686573823618193, -0.16050185707541761, -0.49213163948421346, -0.5644375200773446, -0.6876511893420092, -2.520201539768054, -0.3651979265346616, -0.6876511893420092, -1.2640874911498137, -0.7825763514543521, -1.2640874911498137, -0.3364732496378502, -0.49213163948421346, -2.0883596954522234, 0.5796872364082505, -0.4583849011817051, -1.8278752128537683, -2.520201539768054, -0.8912811481075785, -1.6394419493532686, -1.2640874911498137, -1.8278752128537683, -1.091659864520088, -1.6394419493532686, -2.0883596954522234, -0.9522276125556988, -0.28202528536651716, -0.7336190611105932, -0.4583849011817051, -0.4583849011817051, 0.0376373423832693, -0.834953227874363, -1.4911787898968445, 0.410171505791188, -2.0883596954522234, -0.7825763514543521, -2.520201539768054, -0.8912811481075785, -1.091659864520088, -1.018647300423445, -0.6033305869906443, -1.2640874911498137, -1.091659864520088, -0.18334658994953248, -0.7825763514543521, -0.39502849000275375, -0.39502849000275375, -0.5274309581274456, -0.7336190611105932, -0.11670929335602306, -1.091659864520088, -0.7825763514543521, -0.4260563575446027, -1.4911787898968445, -1.018647300423445, -0.8912811481075785, -0.6876511893420092, -0.7336190611105932, -1.6394419493532686, -0.7336190611105932, 0.5140408478474535, -0.4260563575446027, -2.0883596954522234, -1.018647300423445, -0.5644375200773446, -0.25616443284418333, -0.834953227874363, -1.2640874911498137, -1.6394419493532686, -1.091659864520088, -0.28202528536651716, 0.13650143995733685, -0.49213163948421346, 0.10488159944063691, -0.7825763514543521, -0.7336190611105932, -1.091659864520088, -0.03579303319809492, -0.6876511893420092, -0.4260563575446027, -0.05526080247215775, -1.3686573823618193, 0.3990252600251342, -0.7336190611105932, -1.091659864520088, -2.520201539768054, -0.23113212453572274, 0.19624354850794057, -0.8912811481075785, -0.7825763514543521, -1.3686573823618193, -1.3686573823618193, -2.520201539768054, -0.28202528536651716, -0.9522276125556988, -1.091659864520088, -0.6443195613698678, -2.520201539768054, -1.091659864520088, -1.1727730857051752, -0.5644375200773446, 0.2783171950833015, -0.11670929335602306, -0.1383015415826463, -0.28202528536651716, 0.3990252600251342, -0.39502849000275375, -2.0883596954522234, -0.7336190611105932, -1.8278752128537683, 0.3164399593561805, -1.6394419493532686, -0.05526080247215775, 0.7863118096714362, -2.0883596954522234, -0.834953227874363, -1.3686573823618193, -0.7825763514543521, -2.0883596954522234, -0.03579303319809492, 0.0376373423832693, -0.6443195613698678, -1.4911787898968445, -1.091659864520088, 0.30392962769803333, -1.1727730857051752, -0.6443195613698678, -0.5644375200773446, -0.25616443284418333, -1.091659864520088, -0.7825763514543521, -0.25616443284418333, -0.49213163948421346, -0.39502849000275375, -0.8912811481075785, -1.018647300423445, -0.6443195613698678, -0.016790926057702594, -0.6033305869906443, 0.1817176372594619, -0.7825763514543521, 0.5886553053354706, -1.3686573823618193, -0.016790926057702594, -0.9522276125556988, -1.3686573823618193, -1.091659864520088, -0.7825763514543521, -1.091659864520088, -0.834953227874363, -1.8278752128537683, -1.091659864520088, -0.3651979265346616, -1.4911787898968445, -1.3686573823618193, 0.01990419918949142, 0.0376373423832693, -2.0883596954522234, -1.3686573823618193, -0.30877321403281593, -0.25616443284418333, -0.8912811481075785, -1.1727730857051752, -1.4911787898968445, 0.07196506581079778, -0.25616443284418333, -0.4260563575446027, 0.2245351109988617, -1.091659864520088, -0.9522276125556988, 0.32876123160629245, -0.7825763514543521, -1.8278752128537683, 0.48423060873449814, -1.6394419493532686, -1.4911787898968445, -0.3364732496378502, -1.2640874911498137, -1.4911787898968445, -0.016790926057702594, -1.1727730857051752, 0.16692557756926502, -1.2640874911498137, 0.1817176372594619, -1.1727730857051752, -0.4583849011817051, 0.07196506581079778, -0.9522276125556988, -0.30877321403281593, -0.6876511893420092, -0.7336190611105932, -0.5644375200773446, 0.08859223169865559, -0.6876511893420092, -0.7336190611105932, -0.11670929335602306, -0.5644375200773446, -1.1727730857051752, -0.39502849000275375, -0.20687548579285867, -1.4911787898968445, -0.11670929335602306, -1.2640874911498137, -1.018647300423445, -2.520201539768054, -1.3686573823618193, -1.018647300423445, -0.6033305869906443, -0.7336190611105932, -1.3686573823618193, -2.520201539768054, -0.11670929335602306, -2.520201539768054, -2.520201539768054, 0.25187162478647873, -0.05526080247215775, -1.8278752128537683, -0.8912811481075785, -0.834953227874363, -1.4911787898968445, -0.7825763514543521, -1.018647300423445, 0.08859223169865559, -1.018647300423445, -0.6443195613698678, -0.834953227874363, -2.0883596954522234, -0.39502849000275375, -0.07521836078273077, -2.520201539768054, -0.3364732496378502, -0.7336190611105932, -0.6443195613698678, -0.3651979265346616, 0.2652020274393997, -0.9522276125556988, -1.091659864520088, -0.016790926057702594, -1.018647300423445, 0.08859223169865559, -0.8912811481075785, -1.3686573823618193, -0.3364732496378502, -1.1727730857051752, -1.018647300423445, -0.49213163948421346, 0.6405245516103885, -0.1383015415826463, -0.6876511893420092, -0.6876511893420092, -2.0883596954522234, -0.28202528536651716, -0.18334658994953248, -1.3686573823618193, -0.8912811481075785, 0.2652020274393997, -0.05526080247215775, -2.520201539768054, -2.520201539768054, -0.49213163948421346, 0.35285949734531147, -0.25616443284418333, -0.8912811481075785, -2.0883596954522234, -2.0883596954522234, -0.5274309581274456, -1.091659864520088, -2.520201539768054, -0.5644375200773446, -2.520201539768054, -0.20687548579285867, -1.2640874911498137, -0.3364732496378502, -0.11670929335602306, 0.1208470040105216, 0.5614553329801352, -0.7825763514543521, -0.20687548579285867, -0.20687548579285867, -0.7336190611105932, 0.35285949734531147, -0.8912811481075785, -0.23113212453572274, 0.1208470040105216, -2.520201539768054, -0.834953227874363, -0.25616443284418333, -1.4911787898968445, -2.0883596954522234, -0.016790926057702594, -0.18334658994953248, -0.7825763514543521, -0.28202528536651716, -0.20687548579285867, -1.8278752128537683, -0.25616443284418333, -1.4911787898968445, -0.49213163948421346, -0.49213163948421346, -1.4911787898968445, -0.1383015415826463, -0.5644375200773446, -1.2640874911498137, -1.2640874911498137, -1.4911787898968445, -0.5274309581274456, -0.5644375200773446, -1.8278752128537683, -0.30877321403281593, -1.2640874911498137, -1.018647300423445, -2.520201539768054, -0.3651979265346616, -0.6033305869906443, -0.834953227874363, -0.25616443284418333, -2.0883596954522234, -2.520201539768054, -0.25616443284418333, -1.2640874911498137, -2.0883596954522234, -0.49213163948421346, -0.5644375200773446, -0.6033305869906443, -0.03579303319809492, -0.6443195613698678, -2.520201539768054, -0.28202528536651716, -0.23113212453572274, -0.6443195613698678, -0.18334658994953248, -0.7825763514543521, -2.520201539768054, -1.1727730857051752, -0.7336190611105932, -1.018647300423445, -1.2640874911498137, -0.6876511893420092, -0.05526080247215775, -0.3651979265346616, -0.4260563575446027, -1.018647300423445, -1.091659864520088, -2.520201539768054, -0.23113212453572274, -0.07521836078273077, -2.520201539768054, -0.6443195613698678, -0.7336190611105932, -1.2640874911498137, -0.6876511893420092, -1.2640874911498137, -0.18334658994953248, 0.38772545630642546, -0.5644375200773446, -1.1727730857051752, 0.0376373423832693, -0.7336190611105932, -0.834953227874363, -0.49213163948421346, -2.0883596954522234, -0.5644375200773446, -1.018647300423445, -1.4911787898968445, -2.520201539768054, -1.3686573823618193, -1.6394419493532686, 0.10488159944063691, -1.1727730857051752, -0.49213163948421346, -1.3686573823618193, -0.834953227874363, -2.520201539768054, -1.2640874911498137, -0.9522276125556988, -0.9522276125556988, -0.7825763514543521, -1.1727730857051752, -1.091659864520088, -1.018647300423445, -1.2640874911498137], \"y\": [-1.092093085483455, 0.49992532545978746, -0.6457448501689087, -0.7830114203469298, -0.47034553436688037, -0.6155087354830562, -0.9671177972920484, -0.5544411975063965, -0.9642266906014215, -0.6167776415037118, -1.337061356375462, 0.13502066786883973, -0.34917487571482064, -0.9332442101385958, -0.5180335276356608, -0.2676257277481421, -0.5269759715940555, -0.5698583104829175, -0.04463673273385148, -0.2944726913506444, -0.6378193640615663, -0.6206133176786377, -0.5543990484017361, -0.5876147550408217, -0.78017704976651, -0.9549618650253628, -0.13019978082045416, -0.5411284039721285, -0.2735471023154847, -0.48560214437152854, -0.862510417412524, -1.0126257572720792, -0.47233746076528144, -1.0235953399420008, -0.4149374804432451, -1.0420673769613775, 0.4514335997373118, -0.9621748287057061, -0.9391293795154626, -0.13996089426991534, -1.330050656907731, -0.5048917813159502, -1.0759588009629992, -0.33397970036176516, -0.7903616181966031, -0.42328791736677973, -0.33448116212946133, -1.0036350435684938, -0.9283953258987757, -0.35735779683461855, -1.1320137757781268, -0.7553697557263896, -1.2669011616649994, -0.8050415027112415, -0.8329576978454776, -0.024481349812995403, -0.35438097583542755, -0.3075634841548692, -0.6264368304423641, -0.21324364802227297, -0.5628340635679075, -0.6810595413192624, -0.8483357581009561, -0.622955529973807, -0.7204145116012215, -0.5644984360890287, -0.8012785157623393, -1.0196655397549004, -0.568754576142383, -0.7566280121555414, -0.8621089835314841, 0.004587822538893839, -1.2299475036456458, -0.47198409371303096, -0.39763641678681916, -1.1596473468421007, -0.7982603258360709, -1.0638608476426508, -0.7287730889102492, -1.1513764898082472, -0.5601250049975594, -0.3712417149415107, -1.3870834251648985, -0.6606806088393495, -0.7018924162762292, -1.2030823211732504, -1.1482655156182737, -1.0367336838890178, 1.0278106598709764, -0.462402790811159, -1.0332190937715673, -0.2494737878767022, 0.23036634800423386, -1.0952616994443172, -1.0277664282446695, -0.470572208690674, -0.16235827941586103, -0.6627683781049383, -1.0029741411985418, -1.1717373225944265, -0.7431959755085126, -1.022222441071436, -1.0125379993185388, -1.2178428226135183, -0.5552987461335646, -0.5835990741920394, -0.33541017561408376, -1.2091024999007942, -0.0729025272327816, -0.050571515975207475, -0.8940636316620385, -1.041633640800818, -0.7044402567761533, -0.5489677067005362, -0.8993863176348733, 0.08433213852344931, -0.5897340748390294, -0.6827391808043092, -0.2675268774490524, -1.0013684769356312, -0.4539960032642916, -0.4117358096741532, -0.16365454385090702, 0.08387039735191142, -2.0469409927318623, -0.310516750904186, 0.022639833345671052, -0.8126161163382782, -0.2775367533411334, -0.9541750228971377, -0.9574083105235989, -1.088877163559587, -0.8107700720953424, -0.5446425005702502, -0.03010554579960492, -0.8107495914478581, -1.110716057602931, -0.9450261973067952, -0.529839765173552, -1.2041825292938115, -0.6340152422352059, -1.5266573815252826, -0.3004649567426672, -0.19607357823247662, 0.2605078921937489, -0.387129916521889, -0.04064006018817448, -0.10842681754055752, -0.5553690807391721, -0.5062618132865762, -0.5725456980768635, -0.7473706480951707, -0.5270572574929828, -0.49516102144207963, -0.19662190219124112, -0.2578141229964667, -0.4435437756291637, -0.4428988244165913, -0.9648143674820716, -1.2390512529039046, -0.24475894615013874, -0.6217988709244464, -0.12606004828651818, -0.5207160151882771, -0.7676435783990682, -0.3347800449623431, -0.19443055258985198, -0.3246865507382472, -1.2219609277809422, -0.6226623319790847, -0.4215564621872806, -0.24685245565551034, -1.1572685321185203, -0.29525671331807785, -0.7859569671986095, 0.3077471163421455, -0.7713450922659221, -0.9020065865194526, -0.3351324337464874, -0.6607131818948944, -0.6399662635763991, -0.2775367533411334, -0.5503917161626921, -0.922299927790739, -0.6223846767649377, -0.8898405999589226, -0.46375018789115574, -0.7551446550748873, 0.2185980795872836, -0.633184837351413, -0.845640495705177, -0.9506221369892845, -0.6133430381330676, -0.425237253826454, -0.4308738542698591, -0.6096066080285518, -0.562976171763267, -0.7794947885281404, -0.6410896792852327, -0.42015975763601854, -1.0331581857953964, -0.7158062028055802, -0.80281333052392, -0.9205704682441117, -0.998484951314751, -0.9898721471146172, -0.6226006214651099, -0.39079603150525, -0.6820836296164724, -1.0952616994443172, -0.9466783233592435, -0.8280928291091934, -0.7368377520072886, 0.3042138775717045, -1.0121871163223553, -0.1041221888863555, -0.9452840154714287, -0.16278135333586097, -0.7743141158887953, -0.45598426900663397, -0.46995530352967935, -0.8616855426675285, -0.78536675694368, -0.7052569161106413, 1.0193190833986427, -0.5534443065303881, -0.7142360508397062, -0.5650398063335293, -1.0870394407137658, -0.5193601814623964, -0.8352555843328847, -1.12064017577095, -0.6268402152935552, -0.7761913492143182, -0.5606348579223964, -0.8418571535255727, -0.38735715405278864, -0.749523856632258, -1.223342806523628, -1.1891184991148056, -1.169292606906293, -0.002583430687633471, -0.8731355026196604, -0.9227950372823893, -0.6213367325815905, -1.0693644923251877, -0.5879234391724679, -0.08330178738679905, -0.6395869228383753, -0.8547310107824617, -0.7143065400864927, -0.7565528234728597, 0.11708505360846475, -0.9560127550285025, -0.6244697353383555, -0.08860010354248435, -0.8135206399965202, -0.12798743438764118, -0.25718858486736956, -0.5750839843769535, -0.7793973825790784, -0.5591487630967535, -0.6346112282143465, -1.1394393590738867, 0.02566783407768557, -0.6405831289038242, -0.13767436581287792, -0.6625233917963486, -0.624206835945797, -0.5673236106635401, -0.8586633926247491, -0.9841888720527473, -0.753627273486947, -0.6206287018458099, 0.3765577199295771, -0.8224310015429818, -0.18376713466830227, -0.3097904565908552, -0.5967838486221494, -0.6716131730813094, 0.008291808693952768, -0.7067363831726745, -1.0282185909324484, 0.15711411315684456, -0.5113681682603742, -0.8351916364011426, -1.2585047845944477, -0.5124839056026916, -0.6813280060603746, -1.1193652811776402, -0.6145928530543658, 0.228633034492013, -0.5075814534864138, -0.7808209984597847, -0.8108315181099893, -0.6256617336201331, -0.9369151247589124, -0.5061299735478318, -0.3285252870553848, -0.9986273272047982, -1.014413408292604, -0.3649567289275096, -0.7294579077519947, -0.5608473999151139, -0.26204799314200306, -0.4709501441604549, -0.07144989481232866, -0.6173746527979868, -0.911443222078017, -0.13794055904328564, -0.6799867362430776, -0.8731355026196606, -0.5586116692495597, -0.5616414276898352, -0.054316482821474735, -0.578356268607935, -0.6231562087160937, -0.2589490270675771, 0.006437774561099423, -0.5234888710774781, -0.9043991008705384, -1.1706762707569256, -0.3064263047000854, -1.0994266511801845, -1.0612447142831103, -0.19685046645111293, -0.5995274279574706, -0.20595662007856763, -1.1352781845962334, -0.833595126838954, -0.6923930738543973, -0.5489956024394953, -0.812924327716551, -0.6171602836857237, -1.1502073442210488, -0.23302144592368212, -0.3399630239971001, 0.0357747795530118, -0.1777012829877339, -0.5908550944506503, -0.4031892453140344, -0.23660503334926403, -0.4423637869625313, -0.5924806864731087, -1.0522432981178713, -0.4094215392685544, -0.24163257320599327, -0.9330423803439284, -0.920570468244112, -0.9478429519934058, 0.45085684533688847, -0.9137295470050613, -0.47978235602289593, -0.7000266662349229, -1.092986430574585, -0.15118051715869688, -0.8479002183698074, -0.9197077265049677, -0.6904342781589645, -0.9234393323455284, -0.999282754953527, -0.5254872683690623, -1.2932418745462473, 0.015615850512452983, -0.8508462763697157, -0.8992674985539769, -1.1520794449659513, -0.8237892475284596, -0.7807429091838625, 0.23540032535407893, -0.94066162436616, -0.5101877843010583, -1.1015229286953154, -0.46758032149363804, -0.1651558537129115, -0.39072757030219435, -0.2620381693046997, -0.6163799107162685, -1.0186581739328728, -0.3912525842399552, -0.9083687983219971, -0.43435661308566725, 0.2821361363282006, -1.0099994694798062, -0.6515714962087528, -0.9990831901379771, -0.2907304797539799, -0.42684541434379447, -0.8180632856133201, 0.07111074177783404, -0.5810021110023745, -0.843994520512961, -0.5918004515729312, -0.9217063712404139, 0.11114748249713564, -0.8794616326989242, -0.23612767440946697, -0.1889112778310246, 0.009113928565548313, -0.38277896854445664, -0.8992674985539769, -0.9339259263562287, -0.7856617930245477, -0.6658790728032811, -0.9599982298861035, -0.6306370446769525, 0.04071986604768887, -1.0063737703187028, -0.5832629928568773, -0.380758544262416, -1.029063703528526, -0.9672788687734715, -0.4588208894970503, -0.8870422809772104, -1.3067036754772245, -0.22877004160714104, -0.5142804616599438, -0.6187542776078506, -1.0063737703187028, -0.36298985594446687, -0.3976824401452007, -0.2626081307149936, -0.8473562382687038, -0.6166246419463822, -0.4152783234981565, -0.4730952104164495, -0.27931794667395016, -0.6198906358455843, -0.9655097186758788, -1.0392547546691695, -0.48024124928356926, -0.6619847269048703, -1.2645933380665182, 0.11683106307673148, -1.0994266511801845, -0.8682719246116635, -0.913705175818213, -1.0661004397245073, -1.15118142020876, -0.7044749880002579, -0.25089889555694683, -0.9452840154714287, -1.1860670817131926, -0.2929657515525875, 0.354949533609921, -0.9094562604873948, 0.10610916725002158, -0.998627327204798, -0.5088768997312291, -0.6915407278461396, -0.6008432591962077, -0.5415564113142958, -0.4062762192892032, -1.1048259102766909, -1.20750051035407, -0.9730554604962774, -0.39142385644646244, -1.0065761421893602, -1.0250918115036962, 0.5372142136648606, -0.4492737337873694, -0.3400811851829185, -0.7462967143435624, -0.7817392698721356, -0.6096217574787327, -0.23221328596248228, -0.9591247366411485, -0.6010827586596031, -0.4144323543670793, -0.5731650406756986, -0.9526569996232106, -0.9955039473395492, -0.3302652304307141, -0.4004716454381198, -0.550573402370204, -0.7158062028055802, -0.674581324861534, -0.423632276459899, -0.8683395127228346, -0.7339266849205353, 0.01438651219288279, -0.8741585759068504, -0.5523786845894499, -0.5079117172895655, -1.057234514392686, -0.21686225697930253, -0.651764413326727, -0.8896769927345429, -0.597766763988005, -0.098046811019047, -0.7771417545467728, -1.3542426526380855, -1.0236850048555228, -0.7407332993388288, -1.3269582218487366, -0.5012283814230076, -0.21015861201128094, -0.26605530713204983, -0.48470396758994433, -0.4997757169506177, -0.47615889904099334, -0.6030916889274708, -0.7621975061547557, -0.010378679968106333, -0.19913005537657621, -1.0223416775807341, -0.5674665826793174, -0.4379995482269362, -1.0347136311731828, -1.08056162985122, -0.17931499269454662, -0.27047734221470127, -0.7300712444357702, -1.0234758111605844, -0.6488602272769882, -0.6574147934746952, -1.042439449055289, -0.47774607455307305, -0.11704347935496989, -0.3736862348542734, -1.2595130161394872, -0.23997278762877028, -1.0276157964711952, -0.8716608710563779, -0.8370916358658403, -1.0387926403981842, -0.8579988076986684, -0.9011954051480227, -0.8385687864592479, -0.685806782767078, -0.6138152728800942, -0.5917413307610531, -0.506077243969091, -0.3047954969411312, -0.46642682584079487, -1.104332508602087, -0.7075732920529056, -0.6338584873578991, -0.6695810077858344, -0.8286197391539413, -0.028045588196414693, -0.9534416578537692, -0.14664556184440392, -0.510691546571092, -0.8130065434245141, -1.1478781554508597, -0.8180840107745055, -1.6593797949648907, -0.974278101628079, -0.869760657364834, -0.907162938286649, -0.052033211930649484, -0.8269562555373386, -0.9126582048914793, -0.6803050494784324, 0.13760765998910057, -0.6799364898083153, -1.2760085298226111, -0.6018167197859575, 0.6715720094498476, -1.2081672624077453, -0.6200750807690403, -0.5953713811409446, -0.22356830710528347, -0.9899001571002055, -0.688888274378459, -0.16465220644782325, -0.5931467499029603, -0.35082690770269703, -0.11723676996864055, -0.5395427563606324, 0.5484509485737488, -0.5335065140948809, -0.9623078309341144, -0.9902924528629481, -0.31388639710003946, -0.21410969348658818, -0.408127001631824, -0.25177252784582166, -0.6704063675142423, -0.6230327074114003, 0.046955915447153475, -0.619076573856773, -0.7659438560125994, -1.0648008813274994, -0.649228598480465, -0.6165634512875503, -1.228029561705988, -0.372870601521367, -0.9873573029523445, -0.8005729634179641, -0.4139392769955122, -1.0217159952123707, -0.666880747000358, -1.0608583182112137, -0.6397923736830438, -0.5944065375727393, -0.5824307601542865, -0.45477342895607986, -0.909069369113501, -0.8781771749996965, -0.6901791997936871, -0.3523513684243341, -0.7131268273963466, -0.8550173297191401, -0.9622280256831607, -0.3321896372473872, -0.14249450601739289, -0.5692990701315682, -1.0030028586868391, -0.7815828742189025, 0.36235354189759983, -0.5313234104864905, -1.0478971093789575, 0.050020913713426804, -0.024649697450897574, -0.013416671652948112, -1.1078682075603525, -0.6238667573625881, -0.5171236227505921, -0.4209998601070699, -0.774565382535652, -0.4790817875905966, -0.02836813961998399, 0.08182806722881682, -0.6047149048027548, -0.389484842561007, -0.727225857597935, -0.6894994593027474, -0.5478248748114792, -0.48412711316002127, -0.5889238851258561, 0.050269996261943575, -0.9539915893599917, -0.8580873760977618, -0.7014082063558903, -0.24466258823696863, -0.3496093092335355, -0.490728673338181, -0.9060557961405925, -0.3863010270869958, -0.8945347708077086, -1.046769519388749, 0.2492967007922186, -0.9627070334588723, -0.7654481583064102, -1.3224582127054043, -1.110359128504254, -0.18320832668587997, -0.24528909895029485, -0.6182021079355456, -0.3732727323058054, -0.8264307804985516, 0.23688339490180874, -0.6091219941438649, -0.5873502725416413, -1.0618893817517994, -0.5915196704892361, -1.0789556786412369, -0.6257082155922076, -0.488341544028852, -0.28254925679537535, -0.12531390709802848, -0.6008432591962078, -0.4804580423548456, -0.9151448731801495, -0.4551068439240389, -0.25575345516974984, -0.8194118777985283, -0.6023864278298912, -0.6089706192797603, -0.3568645838468204, -0.5517624394716552, -0.6341093118593514, -1.0728153710197577, -0.6082595839559246, -0.24499024719183446, -0.7094601708611656, -0.8581095202596059, -0.9100370914978095, -0.5006914937395103, -1.0084010425164098, -0.4812236744173635, -0.7075732920529056, -0.6497254062299568, -1.0266528056327562, -0.7349077262363759, -0.8537189848458787, -0.29365780763166993, -0.8024090648050676, -0.6184321267573065, -1.2595130161394872, -0.5920813410564054, -0.8898405999589226, -0.8040277067589789, -0.8962104339826362, -0.6165328579213103, -0.7954764358782307, 0.08260130152454771, -0.4846911439738947, -0.5399560819191558, -0.7136724051096827, -0.8099309214063957, -0.9063444086488831, -0.40227466690899866, -1.0191023566312496, -0.10745286534082558, -0.45717218776176305, -0.46840886835418705, -0.5950001356997984, -0.00019738853839387067, -0.43397157001600667, 0.6143214165644933, -0.8828699475259073, -0.2707153903106175, -0.22662343872673665, -0.6086679651258804, -0.5001680599394395, -0.37251331405107746, -1.0439927243701954, -0.6534708364337806, -1.087719257904349, -0.15943720496928807, -0.24151734504378045, -0.5614853909463611, -0.6881759198807627, -0.8330001722885919, -0.29489061313677845, -0.3627470781159347, -0.9624142562070145, -1.075295334961022, -1.3049941144002137, -0.5144270333836239, -1.088468171480379, -0.8755482647980939, -0.3361370039215387, -0.8128832239704339, -0.9098676211522702, -0.2735471023154847, -1.025511609911677, -0.9132910259245707, -0.37851811082154346, -0.8577774444120352, -0.433634808065754, -0.7412654791573308, -0.8977487823742026, -0.779670156974831, -0.7458158709480612, -0.988920689494192, 0.09651310314581786, -0.42539197497319453, -0.7472779976774615, -1.0969232991458298, -0.9333199151746928, -1.255345590311509, -0.38108554297826713, -0.7179468634405882, -1.0034912979137172, -1.210039829986489, -0.6884302464454668, -0.47713621953549834, -0.4423637869625313, -0.929923327211538, -0.7556324723610952, -0.33282851635103905, -1.0333104694615305, -1.1188926403146733, -0.9841334539934782, -1.1011029295001142, -0.7788132610170669, -0.9659112899248521, -0.8710720532616425, -0.8426766599593467, -0.7023942872051585, -0.9862434165186864, -0.4239767817156334, 0.00016862694573226082, -0.3968314234550635, -0.813623510752021, -0.7346714155484476, -1.2776973248541879, -0.7803916265791987, -1.0524331259267965, -0.637063194542319, -1.0286409718854792, -0.8232664883635229, -0.5797216110501859, -0.6330595779259623, -0.2794081023914458, -0.15194717098878827, -0.7669364039590195, -0.46041084905275365, -0.20645541170253162, -0.4331299285937455, -0.21262022939872588, -0.07554843583435873, -0.5777760410830253, -0.027262677814615718, -0.3073566136527934, -1.3914247190573723, 0.07951883032532761, -0.6246244274452128, -0.6194604496734433, -0.9563810452741858, -0.5103203212971558, -0.6326056984528076, -1.1520794449659513, -0.8713210965009711, -0.5984376987865527, -0.5563967222511564, -0.8261997147591691, -0.7107210538351864, -0.9599187633875861, -0.8319180010837687, -0.4797186420991969, -0.7900049393881956, -0.943481815754691, -0.9694041404536686, -0.5507830951406569, -0.9252771516854779, -0.8068705178616675, -0.7767730611946734, -1.1193652811776402, -0.6439617508496699, -0.8961867991946171, 0.2785708836413992, -0.43135334253039787, -0.9139976992738816, -1.3581785236122546, -0.8196611729140217, -1.1409620156817493, -0.8025101066117899, -0.7125816956398675, -0.6114268270146966, -0.24627311810780333, -0.6820668288906637, -1.0519903070229375, -0.7329652344759339, 0.09532714568313869, -0.400575558596175, -0.5583715158749218, -0.25775546021400153, 0.6999203597303154, -0.4286001611488468, -0.47231221500150916, 0.25781842507033986, -0.7990235537138866, -1.5266573815252826, -0.3365220455314837, -0.05894630241635884, -0.9584111023301299, -0.5029988235014815, -1.009417653381714, -0.9762128448095333, -0.899956992025047, -1.033676137070199, -0.7533840744539744, -0.926921384086824, -0.5697865893356101, -0.37096311336858095, -0.3544465281211983, -0.5197626530424179, -0.8533893472778948, -0.8821543913900207, -0.34557762738023273, -0.6943575511765029, -0.8576225391338768, -0.7694437088691685, -1.23861991820379, -0.8300129760267958, -0.6925295487974008, -0.9974894010299852, -0.582883260578879, -0.8840259274771316, -0.5802597306738224, -0.5330967024099073, -0.9862990552921942, -0.798681994287655, -0.45878366298797146, -0.4710005492537541, -0.9377285356567039, -0.48662989910651533, -1.3516433849825378, -0.5782111687449069, -0.5963375090605363, -0.853587107965065, -1.0537322264764986, -0.6128863327964704, -0.6225080657191044, -0.5310373446594441, 0.1584469309315913, -1.063181254199312, -0.4828851175996111, -0.24006864597705396, 0.015689417094884202, -0.5872621330051836, -0.44516452694559006, -0.04461331397057418, -0.7066318430310989, -0.9570129793270024, -0.9652421701063144, -0.5812934458965143, -0.5295678515527813, -0.283233160815528, -0.999482395826887, -1.1409620156817493, -0.7788911128026217, -0.44702083949170945, -0.6114268270146964, -1.5044914259078688, -0.6030316398806838, -0.8447519755396742, -0.578907909752681, -1.0411074638271969, -0.2559290617922047, -0.8220345443918295, -0.898365276477355, -0.9627070334588723, -0.2550513727705387, -0.7502493879389457, -0.6225697682132589, -0.7197212235335956, -0.6515875705978764, -0.35314735494250066, -0.2476544878444829, -0.33395836807503015, -0.8664724270570451, -0.14381568947649753, -0.5256224846623767, -1.1520794449659513, 0.5330456690148264, -0.5627630196745889, -1.3414357257723368, -0.0433806991389455, -1.1644436223929242, 0.06940012912698154, -0.5862199557353074, -0.817545383618799, -0.7814851465645096, -0.6260336745619739, -0.5763708893148584, -0.7829526493260889, -0.6123538772964457, -0.49165840710545416, -0.5388956683427734, -0.32158998708041153, -0.9040395848330094, 0.10594036676638317, -0.7316432717277331, 0.0011017475781099357, -0.628036201376631, -0.051113508234490464, -0.7089355039228892, -0.61270373208654, -0.326852326096066, -0.3325303135134335, -0.4519019655285672, -0.4743597503971143, -1.0223416775807341, -0.9187479387436058, -0.5063409279616383, -0.12813193198297423, -1.2858762699348134, 0.15768735790476254, -0.47753003002663796, -0.5490374479961363, -0.308184391094868, -0.0799067239421852, -0.3014710980007201, -0.8821774601256945, -0.9450261973067952, -0.6311521154212414, -0.6316988124163049, -0.7483721154925493, -0.544489974509487, -0.2362517635216871, 0.8390150687876918, -0.7612122585035537, -0.4868613305981365, -0.7979793716731303, -0.9234145380997106, -0.783501391543641, -1.0362738716685633, -0.6003495419391607, -1.0641523898142808, -1.2520132507017812, -0.9163923154534396, -0.7894703004239603, -1.0380848869118395, -0.19525170094217995, -0.5420952180990779, -0.28305207578411273, -1.086496279442379, -0.7710950923091803, -0.6285338281211176, -0.6353019462424245, -0.861329195410141, -0.43866477498532497, -0.884604780268266, -0.9886132310631367, -0.9685691743039205, -0.6304498390772496, -0.7339811487627999, -0.6593464294090563, -0.6333414428531516, -0.2262457069823138, -0.6547291805491212, -0.5172841155518096, -0.7021692642575909, -0.8364932400149345, -0.166942883188236, -0.6162117065555995, -0.6885320037393036, -1.645311043961233, -0.7962562769026771, -0.9224979192679067, -0.9620418590838757, -1.157664117969077, -0.7658103612005235, -0.6098338833216581, -0.32445444950340774, -0.953206142159457, -0.4869899333241444, -0.06710476544592542, -1.0645738119010437, -0.5386479944011583, -0.10697041386448951, -1.1004736292058563, -0.5410593933126016, -0.7213222139527314, -1.0622120321551554, -0.8952422026748227, -0.6499659239628818, -0.7580205862410604, -0.4240361939575513, -1.0074733082726766, -0.5755175210760697, -0.09906086835468313, -0.5192528915180546, -0.8698510046797725, -0.036388226356839776, -0.42857626149985517, -1.0490272504831764, -0.6136172010685349, -0.747945375771644, -0.41376325007642367, -0.7635261921002341, -0.7860553893052795, -0.9384921933556357, -1.154666444164354, -0.9796361747846867, -0.3656318291131507, -0.9214345336431121, -0.7615152507785279, -0.9797460844029442, -0.5845643395899017, -0.5997664920570824, -0.777452399307203, -0.7523188181886085, -0.38657344737045685, -0.06133282440374095, -0.7849539381197826, -0.3521987989066002, -0.2663415295439003, -0.9970917092886972, -1.330782178166621, -0.9636396509889945, -0.978922313401725, -0.8476825671081089, -0.4638001355456941, -0.762709673615976, 0.24125533561640683, -0.21210878436571698, -1.0277664282446695, 0.6101609742682803, -0.6319801354121175, -0.00919465815281469, -0.24442173852081822, -0.6465902223908673, -0.10413048061691524, -0.6786815275666142, -0.4700685764570336, -1.7191828558946172, -0.5994676742702137, -0.4126492930570595, -0.7979793716731303, 0.6121100361592893, -0.7370018842115521, -1.045925492428426, -0.5333152410260515, -0.6090614403735063, -0.25595833291076353, -1.3634973649839575, 0.16049131521263835, -0.5183683239239872, -0.8746366215498544, -0.7251804519619474, -0.6172368367034344, -1.0435262367362537, -1.0349580567453922, -0.7289532354034756, -0.47349964208845496, -0.6259096726136476, -0.5857067531605102, -0.41771538416752, -0.6530841104980729, -0.6198598996600683, -0.3958894290797139, -0.4707485560222763, -0.375185497698497, -0.5484378849464482, -0.9823631190761609, -0.8189550995599536, -0.8149623950835009, -0.47529682091623754, -0.853916854841417, -0.7146414658879799, -0.27868711399855056, -0.784443203000519, -0.8268511243161438, -0.6644529645518226, -0.993328573631441, -0.5855455353516043, -1.3542426526380855, -0.5246899810126893, -0.13206722776291527, -0.8697154889074431, -0.7974980298310624, -0.19177138204267646, -1.5471056745982579, -0.45214803758233335, -0.6721759705236214, -0.9362551051058904, -0.6508967060188992, -0.5200445094181982, -1.025691629193308, -0.5036030136794238, -0.753908001457399, -0.3257740395023673, -0.07496073663853535, -0.48419118706827036, -0.4484404025508302, -0.8837714147112448, -1.4667590989964672, -0.35192642164399696, -0.47127783491925945, -1.0140905874936705, -0.7466113042787559, -1.0344387934291426, -0.8107700720953427, -0.6054375083372223, -0.7152588756557047, 0.11683106307673148, -0.5134681631448064, 0.553644342995734, -0.8579988076986684, -0.17199499514397146, -0.6425639172489449, -1.1733747514332897, -1.0814673280040132, -0.5492885704481977, -0.9141196286419488, -0.15961291748080056, -0.9338754002165506, -0.4502675142172929, -0.43062223679277933, -0.5753151721618533, -0.22699187817446112, -0.7230342104060056, -0.3742117897186349, -0.7464817488134794, -0.33073264506369443, -1.0098539542487, -0.6315425701783038, -1.425991247721552, -0.8938282064235014, -1.017475558952979, -0.908803533833678, -0.623063580729103, -0.9559075749046632, -0.5668948603115024, -0.6364179414553544, -0.9086344305643146, -0.4608088372526207, -0.5182209954904654, -0.4121572905373268, -0.2886021062046787, -0.13038721384470955, -0.9924553048237753, 0.46569238698507853, -0.5900584031199155, -0.6455854603208084, -0.9048068260859325, -0.8003111044604064, -0.7639823754774054, -0.6073377976195014, -1.2215013287638954, -0.6251196684467966, -0.16331928407713367, -0.7360541318545062, -0.9411733170239702, -0.8051429733784159, -0.4366224635668773, -0.6959503989761305, -0.5134415449738307, -0.8045546741666622, -0.7603041374340714, -1.025511609911677, -0.5543569016775071, -0.45858515107405706, -0.5010188199089292, -0.605829221259876, -0.9262980010470563, -0.5155472340350079, -0.8749555353715588, -0.6614138731611643, -0.7359084453828822, -1.2055507893919357, -0.6075492507640708, -0.1186498077205875, 0.10769459965458406, -0.7250013321987003, -0.8387617247039886, -0.31762495112712663, -0.3742789056037531, -0.7178759875336066, -1.1276230699664467, -0.2248400336625024, -1.0782881023509496, -0.5407834139058144, -0.8664724270570451, -0.37895671668318953, -0.6237431327134377, -0.7298186248560444, -0.8264307804985516, -0.7563273099818546, -1.033828576497151, 0.49048163858609906, -0.8597282773444497, -0.538097898889124, -0.6157378893078099, -0.8819468138755854, -0.37724857876268447, -0.49241050689983407, -0.8066670274617443, -1.1969735142163673, 0.23138577690256687, -0.36274707811593526, -0.42088148328687885, -0.8053053609467519, -0.2163204210602236, 0.6970220273274148, -1.3726653761961223, -0.11176398352960003, -0.10663782846814546, -0.36380698646045456, -1.0651254484732107, -0.3451452495717503, -0.4882771284456781, -0.5076474949099469, -0.8417925031048905, -1.0037788288444547, -0.3531691733234152, -0.9735985126911494, -0.7181949886671969, 0.4893631241432973, -0.24569415310653117, -0.6506077098154914, -0.8248989771976724, -0.35942145217258364, -0.4745622656103685, -0.4966050467960461, -0.5262041888001752, -0.6816469450999967, -0.6796853130234979, -0.24526017347917664, -0.6527942068120437, 0.1606454547500394, -0.6312301891435409, -0.26209711395067314, -0.3579061492020603, -0.7956763024562292, -0.9162943773338973, -0.9386195719822888, -0.4636752723180141, -0.6398714092156214, -0.7669364039590195, -0.8912448493880338, -1.1513764898082472, -1.07291432730058, -0.8765527140664015, -1.057074781259128, -0.9288708129721301, -0.6882098245886528, -0.6240213183851095, 0.3613286773097423, -0.9066813079506691, -0.044667958603724335, -0.568554074174762, -0.7604932236084893, -0.8434540646615553, -0.9425572579891262, -0.7817001673340083, -0.8663152318574442, 0.21965248785841635, 0.630559499636112, -1.018036962102165, -0.4994097096057553, -0.6201365730080393, -0.5896751215693682, -0.2965336524569907, -0.7762494964480191, -1.1325000811203942, -1.1543127879447748, -0.3685042939310651, -1.0407363759761878, -0.24643722589648331, -0.16287833453960063, -1.0626964045700362, 0.06858924091870566, -0.969916534168763, -0.0341531512981615, -0.887321505521402, -1.0135041570453243, -0.8214924396084412, -0.8016013203446969, -0.31737381606091747, -0.6376460035346538, -0.7369836452687821, -0.6499017778029619, -0.13794914715774173, -0.8122464657417671, -0.661674776494622, -0.11721996055198274, -0.5760236369973578, -0.9138270422367153, -0.4696281620019453, -0.021333821105657597, -0.92007731120891, -0.6883454603437984, -0.9581998347267944, -0.9186004239597612, -0.5944065375727393, -0.953206142159457, 1.0864074902583287, -0.6284716056820037, -0.5530094613623288, -1.0353555003126826, -1.1717373225944265, -0.19678646276579614, -1.1355041793521803, -1.5266573815252826, -0.5298533634134068, 0.1589937569704104, -1.2379020483109249, -0.8383544828676456, -0.9729469159428282, 0.14255444700854175, -0.7621027051297232, -1.0482107809485082, -0.5596579467989462, -0.3588830982997567, -1.34675762762718, -0.6371891664692038, -1.3542426526380855, -1.035477853492482, -0.8020454500800748, 0.625630344547057, -0.26188100261241065, -0.6172215254440517, -0.7950369539794337, -0.9305005455467451, -0.7130036941806895, -0.5877617311962814, -0.5896014366892731, -0.45686266297181466, -0.9115160477433433, -0.18864840895381138, -0.7402748714330002, -0.8590625006709273, -0.4196868423400112, -0.9691346551723872, -1.0320023221322119, -0.8053053609467521, -0.2655324485906063, -0.8053256623795838, -1.0292752010864683, -1.074301831551349, -0.7068409396257089, -0.9209159352802577, -0.9117588674566905, -1.0294263246098732, -1.1656508706447648, -0.7299629670345016, -0.6176044053556917, -0.7979793716731303, -0.7285209665114359, -0.4960583425557969, -0.4817856141863843, -0.9366104027978297, -1.070544903817885, -0.6275544580967621, -1.1474911287834781, -0.9270710993150005, -0.8631577449449568, -0.548187047461384, -0.31084897361392433, -1.5540928535074863, -1.0310006773607958, -0.36312230972538784, -1.1621189296890826, -1.0585783130288697, -0.9975746599134299, -0.671150038445163, -0.7577568954795115, -0.2849754885139578, -0.9619355068497226, -0.5787917403225069, -0.5557067792167089, -0.6332318153588705, -0.07921941616485018, -0.919387615682112, -1.4667590989964672, -0.8161595536551712, -0.23761786772280885, -1.0899353458687804, -1.1529401149929486, -0.8794845951393844, -0.705065693967046, -0.8673714895264598, -1.0587064845562852, -0.839920650372577, -0.3472226707174952, -1.0002245861751227, -1.334894244172738, -0.5058927188575578, -1.0201105945948397, -1.1632396681438177, -1.0744010905745078, -1.1774126117227315, -0.8897237329353247, -0.8730446490431747, -1.1596473468421007, -0.6346426098333885, -0.5411284039721285, -0.8779023010907535, -0.1556497729102247, -0.07716036832490149, -0.606975450965611, -1.0622120321551556, -0.42671425954728504, -0.7224987359978663, -0.3842041141117704, -0.5801142540006086, 0.21433999679326848, -1.0998451646363754, -0.18278493737306536, -1.063375327934577, 1.3173925668297113, -0.2875398489163762, -0.8821543913900207, -1.0255716092881555, -0.453749360078579, -0.6817309011970988, -1.1520794449659513, -0.7731942870672801, -0.853323441609873, -1.0326103430478952, -0.19808569046345756, -1.0283694010607511, 0.013391662856446636, -0.9194614712778596, 0.07634409453701156, -0.900814069871362, -0.8572465085011886, -0.2557339454481756, -0.21634843919040955, -0.5302070032472869, -0.339512013510106, -0.6308242997790294, -0.8077870521755205, -1.0548439097470013, -0.39934099462601774, -0.2364427030656768, -1.2707781632033588, -0.6280362013766307, -0.6594927384109126, -0.7973777523021235, -0.7290973880631977, 0.04414678015923235, -0.8926525196524612, 0.31140484419507447, -0.9006473154530619, -0.9538606030927532, -0.7207525300046416, -0.7497470105988369, -0.635710415729122, -0.20823108630328188, -0.626436830442364, -0.4387252774388376, -0.9041593983791123, -1.0885703867761582, -0.4423637869625313, -0.46382511055488207, -0.2714597021654599, -0.08524362083953796, -1.0831827426020184, -0.5612443077108146, -1.057074781259128, -0.9273207136896693, -1.425991247721552, -0.8814857951575572, -0.6616258496335552, -0.8648575569648154, -0.5805071072704564, -1.0349580567453922, -0.8693994067117939, -0.8544668383869444, -1.1348265309141576], \"z\": [1.2106122833081558, 0.29330358559495245, 1.663817407891859, 1.4080913299158608, 0.850077851774883, 1.4852093760527294, 1.010542750050264, 1.4269021543545999, 0.5028586047417887, 1.527183942377102, 1.770183710047768, 1.1970973790054396, 0.010906031967872163, 0.8059991699163654, 0.38445713919105917, 1.6326146132490875, 1.4816457582902915, 0.837665957422535, 1.3052216897716173, -0.09563710828395837, 1.4600428832945167, 0.42240651986917266, 1.2106122833081558, 1.0778570947550554, 1.1695860087561636, 1.4194129113139398, 1.0264373933108693, 0.8744846821146919, 0.7397217615917182, 0.9446027867611597, 0.16876118667643017, 1.5843042492873676, 0.32464348446287483, -0.47599162107292053, 1.502873519522403, 1.5644434307128972, 1.726938484151897, 0.6242201878453297, 1.1366387264758018, 1.2016198238065992, 0.9159280056455418, 1.333800591475991, -0.6774555332009263, 1.5168239748054941, 0.3940816875827079, 1.1270492230626794, 0.5853383455913826, 1.6038531074936426, 0.5773830926014479, 1.0158660023844652, 0.0665817729432942, 1.619913219759941, 1.7673456657933873, -1.2492383485050143, 1.7240027728262795, 0.8059991699163654, 1.4490961256673014, 1.5133511799421653, 0.5198970323372324, 0.16876118667643017, 1.2016198238065992, -0.501798694755158, 1.3617096345300201, 1.3773700283476629, 0.2609141568224548, 1.1027182082047462, 1.770183710047768, 0.36492159030490035, -1.0564821952276102, 1.1076260123727293, 1.4269021543545999, 0.7533100743369663, 1.042110550385004, 0.9274874496751825, 0.24987070090070237, 0.24987070090070237, 0.5198970323372324, 1.296928197815364, -0.1804416872913862, 0.773373368308184, 1.770183710047768, 0.8059991699163654, 1.3175540972754527, 1.4343453584620591, 0.32464348446287483, 0.47675053859439753, 1.4080913299158608, 1.4527559997278943, 1.1318539925857165, 0.5932326293454564, 1.651428964779175, -0.1804416872913862, 1.5306179931257757, -0.584681057960812, 1.5875837615036212, 1.4852093760527294, 0.16876118667643017, 0.18078219890073627, -0.09563710828395837, 1.430629472081588, 1.663817407891859, -1.0028826209268564, 0.1317460487824049, 0.793067515799626, 0.47675053859439753, 1.430629472081588, 0.6978805871026439, 0.7328619512957539, 0.32464348446287483, 1.321636583856623, 1.1461488211806121, 1.4490961256673014, 1.1555809490557805, 0.3550063322834923, 1.263159295115892, 1.2016198238065992, 1.4080913299158608, 0.6242201878453297, 1.1602682150015728, 0.467895380128654, -0.00356214526519, 0.7190078555703548, 0.4589614899087706, 0.9217228800672113, -0.8631566647110013, 0.1317460487824049, 1.4343453584620591, 1.4118769938630993, 1.7501842776993057, 0.6318244902021224, 0.32464348446287483, 0.1190744841715067, 1.645188745766577, 0.9159280056455418, 1.0977892060774213, 1.732789712942618, 0.7995527686542142, 1.430629472081588, 0.9889931166323324, 0.9101024712929374, 1.7062449585186947, 0.6835569028993821, 0.2609141568224548, 0.36492159030490035, 1.5973708145403624, 0.9274874496751825, 1.1508745424404403, 1.4042937528388206, 1.0369103527486272, 1.502873519522403, 0.23869845315191887, 0.16876118667643017, 0.19265192269109074, 0.1190744841715067, 0.6978805871026439, 1.3889826325570596, 1.4343453584620591, 0.16876118667643017, 0.24987070090070237, -0.01826577001439744, 1.3889826325570596, 1.7501842776993057, 1.7673456657933873, 0.44085119610242773, 1.4780717226683433, 1.6420569891358356, 0.7600398024846037, 0.29330358559495245, 1.164936511838105, 1.0728189830519652, 1.1076260123727293, 0.7328619512957539, -0.7110682307853167, 0.2826275401309898, 0.5853383455913826, 0.7799783546482715, 0.16876118667643017, 0.880502008293945, 0.2826275401309898, 1.381253382845685, 0.4589614899087706, 1.3966625249893274, 0.9725536268321008, 1.3734740677706927, 1.0677584032244007, 0.5198970323372324, 0.1317460487824049, 1.3052216897716173, 1.042110550385004, 1.1508745424404403, 1.2885761474953563, 0.19265192269109074, 1.325705091574107, 1.2927595496554714, 0.5693658175956189, 1.5843042492873676, 1.4852093760527294, 0.24987070090070237, 0.16876118667643017, 1.5973708145403624, 1.3378277911348704, 1.4042937528388206, 0.7328619512957539, 0.2826275401309898, 0.32464348446287483, -0.38029951340643287, 0.3348696413516396, 1.1695860087561636, 1.0626751321425771, 1.6070816771283098, 1.219535824400078, 1.010542750050264, 1.333800591475991, 1.1742168726211484, 1.574413523358364, 0.9159280056455418, 1.5677757005710131, 0.16876118667643017, 1.5843042492873676, 0.18078219890073627, 1.6070816771283098, 1.0158660023844652, 0.6616984267063972, 1.3734740677706927, 0.5283102155516698, 1.219535824400078, 0.6835569028993821, 1.3889826325570596, -0.27447318894709594, 0.9670194402276913, 1.042110550385004, 0.1190744841715067, 0.8744846821146919, -0.00356214526519, 0.29330358559495245, 1.547646352307145, 0.886486401810526, 0.8924382592212368, 1.082872958084128, 1.4958383890507712, 1.0626751321425771, 0.15658454801820637, 0.10622785776467517, -0.19844121269097797, 0.9101024712929374, 1.6038531074936426, 1.5543925469303754, 1.4269021543545999, 1.4417431458148817, -0.33634376486023915, 1.232794441235497, 1.3498284087705754, 1.4780717226683433, 1.4343453584620591, 1.3458415995913033, 0.6616984267063972, 1.2239721139262703, 0.793067515799626, 1.232794441235497, 1.1461488211806121, -0.7110682307853167, 1.325705091574107, 0.9502495639573018, 1.7730154977785049, 0.4942306970510273, 1.502873519522403, 1.502873519522403, 0.8924382592212368, 1.232794441235497, 0.36492159030490035, 0.5531408472720875, 1.365643963392776, 1.7530605140152502, 0.3038630877936007, 0.7397217615917182, 0.19265192269109074, 0.6616984267063972, 1.577719181306876, 0.20437451162076323, 1.381253382845685, 0.010906031967872163, 0.16876118667643017, 1.7530605140152502, 1.551024046824635, 0.850077851774883, 1.0264373933108693, -0.6774555332009263, 0.9332220632577368, 1.2016198238065992, 1.3734740677706927, 0.18078219890073627, 0.4589614899087706, 0.9889931166323324, 0.07998735996885559, 1.629451306700988, 1.353801952931985, 0.2826275401309898, 0.6835569028993821, 1.726938484151897, 0.16876118667643017, 0.40361347284541815, 1.0928388021373188, 0.24987070090070237, 1.164936511838105, 0.6835569028993821, 0.467895380128654, 1.537457541969242, -0.01826577001439744, 1.629451306700988, 1.0626751321425771, -0.01826577001439744, 1.7092218596235464, 0.03916837537790013, 0.29330358559495245, 0.9889931166323324, 0.0932007214423289, 1.527183942377102, 0.601066969226927, 1.4156508271370816, 1.0472868878846757, 0.9889931166323324, -0.27447318894709594, 0.3348696413516396, 0.18078219890073627, 1.7357052985473935, 1.0264373933108693, 0.9042459154066864, 1.5710990472027366, 0.8562310278342361, 0.24987070090070237, 1.4993609989521592, 1.1788292680161379, 0.1190744841715067, 1.2061247419967946, -0.38029951340643287, 1.1970973790054396, 0.7799783546482715, 0.6543097169469785, 1.1366387264758018, 1.4672864282899818, 0.6088423641403473, 0.9101024712929374, 1.2588692813668994, 0.6978805871026439, 0.1317460487824049, 0.15658454801820637, 1.4923056254078857, 1.0264373933108693, -0.3152086294638053, 1.4231633271020727, 0.601066969226927, 1.4887626429741758, 1.5611021843907582, 0.7120122602423665, 0.18078219890073627, 0.5773830926014479, 1.4269021543545999, 1.4269021543545999, 1.6103019260333398, -0.33634376486023915, 0.746537596086958, 0.7190078555703548, -0.3152086294638053, 1.551024046824635, 1.7473015649797896, 0.07998735996885559, 1.6262800022845052, 0.8059991699163654, 0.9042459154066864, 1.3175540972754527, 0.27183206383415925, 1.4527559997278943, 0.8438896432461231, 0.38445713919105917, 0.7049700684256084, 1.6070816771283098, 0.7533100743369663, 1.770183710047768, 0.7799783546482715, 0.32464348446287483, 1.296928197815364, 1.2415506920077741, 1.3175540972754527, 1.4231633271020727, 1.0158660023844652, 1.4600428832945167, 1.5340425068351153, 0.20437451162076323, 1.645188745766577, 1.1555809490557805, 0.5853383455913826, 1.2283916061325624, 1.3175540972754527, 0.4855284857507031, 0.44085119610242773, -0.128579765320932, 1.3498284087705754, 1.0316860500159017, 1.0677584032244007, 0.3550063322834923, 1.770183710047768, 1.629451306700988, 1.0677584032244007, 1.3010822067283678, 1.4672864282899818, 1.6038531074936426, 1.4004841792820988, 0.8314063406711778, 0.9101024712929374, 1.6483127234257673, 1.263159295115892, 1.1318539925857165, 1.2061247419967946, -0.1804416872913862, -0.6774555332009263, 0.6616984267063972, 1.250241952450097, 1.333800591475991, 0.5853383455913826, 0.18078219890073627, 1.1788292680161379, 0.6468683859205026, 1.3297597259997815, 0.9558677199599906, 0.7120122602423665, 0.21595394529705877, 0.9446027867611597, 1.333800591475991, 1.232794441235497, -0.19844121269097797, 1.4004841792820988, 1.4527559997278943, 0.9670194402276913, 0.9217228800672113, 1.2150825955012519, 1.7501842776993057, 1.6103019260333398, 1.527183942377102, 1.726938484151897, 1.0728189830519652, 1.1027182082047462, 1.5340425068351153, 1.2283916061325624, 0.8744846821146919, 0.7533100743369663, 0.6763212314640852, 1.5810160728418639, 1.7386142432745149, 0.5198970323372324, 1.2283916061325624, -0.7110682307853167, -0.01826577001439744, 1.5543925469303754, 0.5198970323372324, 1.7501842776993057, 1.5644434307128972, 1.0524396063739558, 1.0977892060774213, 1.5810160728418639, 0.9101024712929374, 0.6088423641403473, 0.5114135995582447, 0.2826275401309898, 1.3889826325570596, 1.3773700283476629, 0.9670194402276913, 1.4816457582902915, -0.01826577001439744, 1.1788292680161379, 1.0211641297559828, -0.47599162107292053, -0.00356214526519, 1.5843042492873676, 1.574413523358364, 0.42240651986917266, 1.0677584032244007, 1.0878667894792609, 0.5366544247713348, 0.16876118667643017, 0.5932326293454564, 1.3052216897716173, 1.4004841792820988, 0.0932007214423289, 0.18078219890073627, 1.0778570947550554, 0.886486401810526, 1.5810160728418639, 0.8924382592212368, 0.07998735996885559, 0.3940816875827079, 1.4780717226683433, 1.7673456657933873, -0.16280885628468264, 1.4636700374191272, 1.7673456657933873, 1.5644434307128972, 1.456404894710147, 0.2609141568224548, 1.333800591475991, 1.3458415995913033, 1.1742168726211484, 1.0728189830519652, 0.07998735996885559, 1.1270492230626794, 0.44994730062061283, 1.4118769938630993, 1.4231633271020727, -0.00356214526519, -0.584681057960812, 0.10622785776467517, 0.9944195671591798, 0.9217228800672113, 1.1508745424404403, 0.3143088276000622, 0.9889931166323324, 0.4130544522551369, -0.450989107369495, 1.474487201494051, 1.3010822067283678, 0.24987070090070237, 1.0878667894792609, 0.5853383455913826, 1.1879993005683036, 1.4156508271370816, 1.2283916061325624, 1.2106122833081558, 1.141403608840448, -0.528470011672296, 0.8623496076720732, 1.4527559997278943, 1.7730154977785049, 1.357762329433243, -0.11195434226511418, 0.4130544522551369, 0.29330358559495245, 1.5340425068351153, 0.10622785776467517, 1.4156508271370816, -0.06387846075861044, -0.746254997001888, 1.2885761474953563, 0.6242201878453297, 0.7328619512957539, 1.4780717226683433, 1.6103019260333398, -1.0564821952276102, -0.4031889496364762, 0.16876118667643017, 0.9725536268321008, 0.025146952812692958, -0.00356214526519, 0.9502495639573018, 0.29330358559495245, 1.7616506846894968, 1.1318539925857165, 1.1461488211806121, 0.16876118667643017, 1.7530605140152502, 1.0472868878846757, 1.1318539925857165, 1.430629472081588, 0.8744846821146919, 1.5843042492873676, 0.6763212314640852, 0.010906031967872163, -0.4031889496364762, 1.0778570947550554, 1.4080913299158608, 1.1925572558538282, 0.7667273736503238, 1.3734740677706927, 0.3348696413516396, 1.1788292680161379, 1.6607316922678954, 1.3773700283476629, 0.8684340191812238, 0.3940816875827079, 1.1695860087561636, 0.9274874496751825, 0.2826275401309898, 0.44994730062061283, 1.2061247419967946, 1.3458415995913033, -0.33634376486023915, -0.8631566647110013, 0.2609141568224548, 0.3348696413516396, 1.3734740677706927, 0.8623496076720732, 1.4417431458148817, 1.3498284087705754, -0.01826577001439744, 0.7397217615917182, 0.07998735996885559, 1.3458415995913033, 1.1366387264758018, -0.7831889994978756, 1.2016198238065992, 0.9944195671591798, 0.9332220632577368, 1.010542750050264, 1.4269021543545999, 0.2609141568224548, 0.44085119610242773, 0.9944195671591798, 1.141403608840448, -0.35802977817907533, 0.8924382592212368, 1.4380498908557886, 1.4527559997278943, 1.6070816771283098, 1.456404894710147, 1.2061247419967946, 1.770183710047768, 0.47675053859439753, 1.010542750050264, 1.2061247419967946, 1.3889826325570596, 1.4816457582902915, 1.5710990472027366, 1.2150825955012519, -0.128579765320932, 0.38445713919105917, 1.6545375121312846, 1.1318539925857165, 1.5810160728418639, 1.3458415995913033, 0.7799783546482715, 1.3458415995913033, 0.7799783546482715, 0.19265192269109074, 0.9944195671591798, 0.7397217615917182, 1.3175540972754527, 1.321636583856623, 1.263159295115892, 1.321636583856623, 0.7799783546482715, -0.09563710828395837, 1.7240027728262795, 1.770183710047768, 1.613513901555113, -0.47599162107292053, 1.645188745766577, 1.619913219759941, 0.2609141568224548, 1.4004841792820988, 1.7530605140152502, 0.19265192269109074, 0.9042459154066864, 0.23869845315191887, 0.1317460487824049, 0.4589614899087706, 0.10622785776467517, 1.7240027728262795, 1.2588692813668994, 1.325705091574107, 1.6070816771283098, 0.42240651986917266, 1.0264373933108693, 1.7501842776993057, 1.6070816771283098, 1.263159295115892, 1.726938484151897, 1.296928197815364, 1.5810160728418639, 1.3175540972754527, 0.6318244902021224, 1.4636700374191272, 1.5408631564391695, 0.2826275401309898, 1.313457525009493, 0.6978805871026439, 0.7328619512957539, 0.8744846821146919, 1.4852093760527294, 0.9889931166323324, 0.7865428889261087, 1.623100655076013, 0.5853383455913826, 0.16876118667643017, 1.6668955952014226, -0.528470011672296, -0.06387846075861044, 1.7181109839386355, 1.0051941073354522, -0.01826577001439744, 1.1508745424404403, 1.5098685471667126, 0.4942306970510273, 1.4527559997278943, 0.6088423641403473, 1.141403608840448, 1.6326146132490875, 1.4887626429741758, 0.561285439374835, 1.6545375121312846, 0.025146952812692958, 1.1834233572839656, 0.7533100743369663, 0.4130544522551369, 1.651428964779175, 1.7501842776993057, 0.2609141568224548, 0.9274874496751825, 1.770183710047768, 1.381253382845685, -0.1804416872913862, 1.7386142432745149, 1.770183710047768, 0.4942306970510273, -0.6143810068863226, 0.7995527686542142, 0.746537596086958, 1.2106122833081558, 0.9944195671591798, -0.1804416872913862, 1.0778570947550554, 1.0051941073354522, 1.629451306700988, 0.6318244902021224, 1.5098685471667126, 0.4589614899087706, 0.8744846821146919, 1.0928388021373188, 1.4156508271370816, 0.999819804455059, 1.5875837615036212, 0.3940816875827079, -0.501798694755158, 1.619913219759941, -0.21682476089674385, 1.3773700283476629, -0.8220748126601545, -0.5560724028589439, 1.2106122833081558, 1.4080913299158608, 0.7600398024846037, 1.357762329433243, 1.4156508271370816, 1.645188745766577, 1.5875837615036212, 1.7386142432745149, 1.4852093760527294, 1.4080913299158608, -0.501798694755158, 1.715154836603323, 0.47675053859439753, -0.4031889496364762, 1.6668955952014226, 0.3143088276000622, 0.9446027867611597, 0.467895380128654, 1.7415165805324597, 0.3550063322834923, 1.0051941073354522, 1.645188745766577, 0.9159280056455418, -0.09563710828395837, 1.2927595496554714, 0.38445713919105917, -0.501798694755158, -0.3152086294638053, 1.3773700283476629, 1.010542750050264, 0.9558677199599906, 0.6393735963635121, 1.502873519522403, 1.2239721139262703, 1.4672864282899818, 1.7092218596235464, -0.01826577001439744, -0.6774555332009263, 0.886486401810526, 0.9502495639573018, 1.0316860500159017, -0.01826577001439744, 1.3851242212505008, 0.24987070090070237, 0.025146952812692958, 0.3348696413516396, 0.010906031967872163, 1.663817407891859, 1.0677584032244007, 0.010906031967872163, -0.25481988464053473, -1.0028826209268564, 0.8251103303137571, 0.6616984267063972, 0.44085119610242773, 0.025146952812692958, 0.7799783546482715, 1.1076260123727293, 0.9274874496751825, 1.164936511838105, 1.6607316922678954, 0.44994730062061283, 0.467895380128654, 1.333800591475991, -0.5560724028589439, 1.0977892060774213, -0.11195434226511418, 1.600616169362071, 0.5773830926014479, -0.00356214526519, -0.1804416872913862, 1.2283916061325624, 1.5340425068351153, 0.3550063322834923, 0.025146952812692958, 0.6616984267063972, 0.6835569028993821, 1.369565410123259, -0.42673762056451203, 1.4269021543545999, 1.4194129113139398, 1.1508745424404403, 1.4887626429741758, 0.837665957422535, 1.296928197815364, 1.7473015649797896, 1.1508745424404403, 1.2061247419967946, 1.2016198238065992, 1.4852093760527294, 0.6468683859205026, 0.19265192269109074, -0.03321349981826121, 0.32464348446287483, 0.7799783546482715, 1.5611021843907582, -0.501798694755158, 1.2283916061325624, 0.16876118667643017, 0.6543097169469785, 0.22739403908443367, 1.3418414269172678, 0.773373368308184, 1.325705091574107, 1.0677584032244007, 1.726938484151897, 0.880502008293945, 0.6318244902021224, 0.837665957422535, -0.00356214526519, 1.1834233572839656, 1.6103019260333398, 1.7673456657933873, 1.0051941073354522, 1.3773700283476629, -0.01826577001439744, 0.18078219890073627, 1.5577519078735027, -0.07961568845698515, 1.082872958084128, 0.010906031967872163, 0.5366544247713348, 1.4636700374191272, 1.758793685740817, 1.5843042492873676, 1.141403608840448, 0.467895380128654, 0.1190744841715067, 0.3550063322834923, 1.2674337110879477, 1.3734740677706927, 0.880502008293945, 1.117378827348006, 1.758793685740817, 1.0158660023844652, 1.0369103527486272, 1.353801952931985, 1.1027182082047462, 0.9042459154066864, 1.010542750050264, 1.770183710047768, 1.770183710047768, 1.117378827348006, 0.20437451162076323, 1.3175540972754527, 0.16876118667643017, 0.6242201878453297, 1.5810160728418639, 0.7799783546482715, 1.4636700374191272, 1.7473015649797896, 0.2826275401309898, 1.5577519078735027, 1.7530605140152502, 0.38445713919105917, 0.7049700684256084, 1.1970973790054396, 1.3458415995913033, 1.4004841792820988, 0.4589614899087706, 1.577719181306876, 1.1270492230626794, 1.4380498908557886, 1.770183710047768, 1.0158660023844652, 1.2415506920077741, 1.4004841792820988, 1.7473015649797896, 1.502873519522403, 1.5340425068351153, 1.4887626429741758, 0.36492159030490035, 1.5408631564391695, 0.9101024712929374, 0.5853383455913826, 1.4156508271370816, 1.321636583856623, 1.357762329433243, 0.19265192269109074, 1.232794441235497, 0.837665957422535, 1.0626751321425771, 0.999819804455059, 1.2016198238065992, 1.0977892060774213, 0.010906031967872163, 1.600616169362071, 1.7530605140152502, 1.4118769938630993, 0.42240651986917266, 1.3617096345300201, 1.3498284087705754, 0.9217228800672113, 0.7799783546482715, 1.5306179931257757, 1.4343453584620591, 1.4816457582902915, 1.369565410123259, 1.2885761474953563, 0.10622785776467517, 0.7259575318258369, -0.01826577001439744, 0.8059991699163654, 0.1317460487824049, 0.27183206383415925, 0.20437451162076323, -0.1804416872913862, 1.3093467589683072, 0.29330358559495245, 1.7357052985473935, 0.43167150926014436, 0.3348696413516396, 0.999819804455059, 0.3550063322834923, 1.4269021543545999, 1.3010822067283678, 1.6038531074936426, 1.1602682150015728, 1.2588692813668994, 1.0977892060774213, 0.24987070090070237, 0.32464348446287483, 0.07998735996885559, 0.9944195671591798, 0.14424774923244116, 1.4042937528388206, 1.4269021543545999, 1.0316860500159017, 1.7121918070273974, 0.6616984267063972, 1.770183710047768, 1.1318539925857165, 1.0316860500159017, 0.5283102155516698, 1.6730295467755119, 0.9944195671591798, 0.6978805871026439, 1.4343453584620591, 0.7328619512957539, 0.812407231356387, 1.2106122833081558, -0.21682476089674385, 1.645188745766577, 1.2283916061325624, 1.1270492230626794, -0.23561096215865984, 0.9217228800672113, 1.4887626429741758, 0.29330358559495245, 0.9274874496751825, 1.5133511799421653, 1.651428964779175, 1.1366387264758018, 0.025146952812692958, 1.4269021543545999, 1.3498284087705754, 0.44085119610242773, 1.619913219759941, 1.4380498908557886, 0.4855284857507031, 1.4194129113139398, 1.5843042492873676, 0.23869845315191887, 1.551024046824635, -0.584681057960812, 1.1027182082047462, 1.551024046824635, 1.4118769938630993, 0.5773830926014479, 0.07998735996885559, 1.2061247419967946, 0.16876118667643017, 0.20437451162076323, 0.793067515799626, 1.1366387264758018, 1.1366387264758018, 0.880502008293945, 0.42240651986917266, -0.09563710828395837, 1.2283916061325624, 1.0369103527486272, 0.2826275401309898, 0.2826275401309898, 1.456404894710147, 0.9670194402276913, 0.42240651986917266, 1.1076260123727293, 1.0158660023844652, 1.5340425068351153, 0.9446027867611597, 1.732789712942618, -0.33634376486023915, -0.6452689489820141, 1.5340425068351153, 1.7673456657933873, -0.38029951340643287, 1.4636700374191272, 1.0051941073354522, 0.3550063322834923, 1.0977892060774213, 0.03916837537790013, 0.9670194402276913, 1.5133511799421653, 1.333800591475991, 1.7444123434701762, 1.117378827348006, 0.24987070090070237, 1.0626751321425771, 0.6318244902021224, 1.7730154977785049, 1.357762329433243, 1.2885761474953563, 0.22739403908443367, 1.4958383890507712, 1.232794441235497, 1.0778570947550554, 1.0626751321425771, 1.3052216897716173, 1.4156508271370816, 1.3458415995913033, 1.4527559997278943, 0.3348696413516396, 1.250241952450097, 0.5773830926014479, 1.3458415995913033, 1.0369103527486272, 0.9944195671591798, 0.2609141568224548, 0.8251103303137571, 1.7559303060652915, 1.0928388021373188, 1.7386142432745149, 1.7501842776993057, -0.128579765320932, 0.3038630877936007, 0.2609141568224548, 1.3851242212505008, 0.7865428889261087, 1.325705091574107, 1.2674337110879477, 0.32464348446287483, 1.4269021543545999, 1.758793685740817, 1.4080913299158608, 1.551024046824635, 1.7444123434701762, 0.025146952812692958, 1.537457541969242, 1.0316860500159017, -0.06387846075861044, 1.770183710047768, 1.7673456657933873, 1.2150825955012519, 1.6070816771283098, 0.18078219890073627, 0.5028586047417887, 1.141403608840448, 1.5237402955646706, 1.4490961256673014, 1.4004841792820988, 0.07998735996885559, 0.2826275401309898, 1.7673456657933873, -0.6452689489820141, 1.4816457582902915, 0.07998735996885559, 1.7473015649797896, 0.43167150926014436, 0.18078219890073627, 1.0158660023844652, 0.5198970323372324, 1.1076260123727293, 1.7357052985473935, 0.5531408472720875, 0.4942306970510273, 1.2674337110879477, 0.467895380128654, 0.9217228800672113, 1.0677584032244007, 1.2716926543333984, 0.7397217615917182, -0.1804416872913862, 1.1318539925857165, -0.01826577001439744, -0.128579765320932, 0.025146952812692958, 1.082872958084128, 1.6545375121312846, -0.8220748126601545, 1.758793685740817, 0.850077851774883, 0.1190744841715067, 0.8251103303137571, 0.3143088276000622, 0.38445713919105917, 0.20437451162076323, 1.082872958084128, 1.7530605140152502, 1.5408631564391695, 0.2609141568224548, 1.5098685471667126, 1.4636700374191272, 1.7645013343177776, 0.6543097169469785, 1.2016198238065992, 1.3052216897716173, 0.812407231356387, 0.601066969226927, -0.38029951340643287, 1.0728189830519652, 1.3175540972754527, 0.4130544522551369, 0.6543097169469785, 1.082872958084128, 1.2674337110879477, 1.0928388021373188, 1.4269021543545999, 1.381253382845685, 0.1317460487824049, -0.38029951340643287, 1.232794441235497, 1.502873519522403, 0.880502008293945, -0.35802977817907533, -0.09563710828395837, 0.1317460487824049, 1.0728189830519652, 0.6165597874477753, 0.16876118667643017, 1.3458415995913033, 0.8059991699163654, 0.6318244902021224, 0.9217228800672113, 1.117378827348006, 0.7600398024846037, 1.4231633271020727, 1.5908546598927134, 0.32464348446287483, 1.6167176506241288, 1.4080913299158608, 0.9670194402276913, 1.502873519522403, 1.6038531074936426, 1.2927595496554714, 0.6763212314640852, 0.9502495639573018, 1.0728189830519652, 1.6576384074294372, 0.5853383455913826, 1.4600428832945167, 1.3498284087705754, 1.3175540972754527, 0.5773830926014479, 0.010906031967872163, 1.1222242311416832, 0.29330358559495245, -0.584681057960812, 1.4887626429741758, -0.19844121269097797, 1.5063760145413603, 0.3348696413516396, 1.2283916061325624, 1.1555809490557805, 1.0369103527486272, 0.07998735996885559, -0.06387846075861044, 1.2674337110879477, 0.10622785776467517, 1.4527559997278943, 0.03916837537790013, 0.025146952812692958, 1.3734740677706927, 1.296928197815364, 0.18078219890073627, 1.577719181306876, 1.574413523358364, 0.4942306970510273, 1.0626751321425771, 1.5875837615036212, 1.1695860087561636, 1.7415165805324597, 0.5853383455913826, 1.1834233572839656, 0.7328619512957539, 0.5932326293454564, 1.2716926543333984, 1.325705091574107, 0.0932007214423289, 1.5710990472027366, 0.5366544247713348, 1.7357052985473935, 0.4855284857507031, 0.812407231356387, 1.474487201494051, -0.5560724028589439, 0.7120122602423665, 0.40361347284541815, 1.551024046824635, 0.47675053859439753, 1.7181109839386355, 0.40361347284541815, 1.042110550385004, 0.746537596086958, 1.5843042492873676, 1.5543925469303754, 1.3175540972754527, 1.313457525009493, 1.232794441235497, 1.141403608840448, 0.24987070090070237, 0.18078219890073627, 0.32464348446287483, 0.9614575741007654, 1.5677757005710131, 1.232794441235497, 0.6468683859205026, 1.651428964779175, 0.9558677199599906, 1.0728189830519652, -0.11195434226511418, 0.3348696413516396, 0.2609141568224548, 0.7397217615917182, 1.5875837615036212, 1.3773700283476629, 0.9217228800672113, 1.0316860500159017, 1.1076260123727293, 1.164936511838105, 1.7473015649797896, 0.7328619512957539, 0.47675053859439753, 0.9274874496751825, 0.3348696413516396, 0.32464348446287483, 0.18078219890073627, 1.4042937528388206, 1.353801952931985, 1.7298674527894091, 0.3038630877936007, 1.5098685471667126, 1.2415506920077741, 0.9446027867611597, 0.3038630877936007, 1.4080913299158608, 0.2609141568224548, 0.7397217615917182, 1.574413523358364, 1.7357052985473935, 1.732789712942618, 1.0977892060774213, 0.03916837537790013, 1.474487201494051, 1.0316860500159017, -0.47599162107292053, 1.4380498908557886, 1.296928197815364, -0.528470011672296, 1.1318539925857165, 1.7298674527894091, 0.7533100743369663, 1.1742168726211484, 0.4855284857507031, 1.6483127234257673, 0.24987070090070237, 1.333800591475991, 1.2283916061325624, 1.3734740677706927, 1.3052216897716173, 0.5283102155516698, 1.2106122833081558, 1.3175540972754527, 0.32464348446287483, 1.2239721139262703, 0.7533100743369663, 1.0158660023844652, 1.5843042492873676, 0.1190744841715067, 0.3550063322834923, 0.9944195671591798, 1.4600428832945167, 0.4130544522551369, 0.6835569028993821, 1.770183710047768, 1.232794441235497, 0.18078219890073627, 0.8059991699163654, -0.6143810068863226, 1.4636700374191272, 0.8251103303137571, 1.2716926543333984, 0.2826275401309898, 1.4156508271370816, -0.11195434226511418, 1.726938484151897, 0.7328619512957539, 0.7995527686542142, 0.8314063406711778, 0.7667273736503238, 1.3052216897716173, 1.4042937528388206, 1.3734740677706927, 0.9889931166323324, 1.0728189830519652, 1.0878667894792609, 0.9944195671591798, 1.613513901555113, 1.1508745424404403, 1.2885761474953563, 0.7328619512957539, 1.770183710047768, 0.6318244902021224, 1.321636583856623, 0.6318244902021224, 1.0369103527486272, 1.7298674527894091, 1.4118769938630993, 0.9332220632577368, 1.141403608840448, 1.381253382845685, 0.9332220632577368, 0.025146952812692958, 0.2826275401309898, 1.4780717226683433, -0.38029951340643287, 1.0472868878846757, 0.2826275401309898, -0.23561096215865984, -0.00356214526519, -0.3152086294638053, -0.06387846075861044, 1.5543925469303754, 0.3940816875827079, 1.2283916061325624, 1.0728189830519652, 1.770183710047768, 1.5611021843907582, 1.758793685740817, 1.623100655076013, 0.837665957422535, 0.5853383455913826, 1.1695860087561636, 1.0728189830519652, 0.9944195671591798, 1.0158660023844652, 1.7473015649797896, 1.5577519078735027, 0.746537596086958, 1.2016198238065992, 1.619913219759941, 0.9502495639573018, 1.2588692813668994, -0.11195434226511418, -0.5560724028589439, 0.3940816875827079, 0.9332220632577368, 1.0977892060774213, 1.3498284087705754, 1.7730154977785049, 1.577719181306876, 1.4816457582902915, 1.770183710047768, 0.773373368308184, 0.7799783546482715, 0.8059991699163654, 0.938927063425999, 0.7600398024846037, -1.178494298150978, 1.2927595496554714, -0.23561096215865984, 0.8623496076720732, 1.141403608840448, 1.357762329433243, 0.19265192269109074, 0.6616984267063972, 0.999819804455059, 0.8314063406711778, 1.7673456657933873, 1.7730154977785049, 0.9725536268321008, 1.1970973790054396, 1.3297597259997815, 0.010906031967872163, 1.7673456657933873, 1.7473015649797896, 0.9725536268321008, 0.850077851774883, 0.0665817729432942, 1.0728189830519652, 1.3093467589683072, 1.2588692813668994, 1.4816457582902915, 1.7386142432745149, 1.3010822067283678, 1.3889826325570596, 1.770183710047768, 0.9101024712929374, 0.3550063322834923, 0.5932326293454564, 0.010906031967872163, 0.8983579697371527, 0.5198970323372324, 1.6545375121312846, 0.18078219890073627, 0.9042459154066864, 0.03916837537790013, 1.1602682150015728, 1.7298674527894091, 0.24987070090070237, 1.502873519522403, -1.0564821952276102, 1.010542750050264, 0.773373368308184, 0.29330358559495245, 1.5063760145413603, 1.3928287047842491, 1.0778570947550554, 1.7730154977785049, 1.2239721139262703, -0.6774555332009263, -0.7831889994978756, 1.6420569891358356, 1.4527559997278943, 0.5114135995582447, 1.5843042492873676, 0.7328619512957539, -0.21682476089674385, 1.6420569891358356, 1.3773700283476629, 1.758793685740817, 1.5098685471667126, 1.7559303060652915, 1.2106122833081558, 0.8744846821146919, 1.333800591475991, 1.2016198238065992, 1.527183942377102, 0.9217228800672113, 0.8251103303137571, -0.07961568845698515, -0.00356214526519, 0.7865428889261087, 0.29330358559495245, 1.547646352307145, 1.0316860500159017, 0.1317460487824049, -1.2492383485050143, 1.726938484151897, 1.2674337110879477, -0.8220748126601545, 1.357762329433243, 1.1076260123727293, 1.4080913299158608, 0.9670194402276913, 0.36492159030490035, 0.5773830926014479, 1.1461488211806121, 0.9217228800672113, -0.4031889496364762, 1.629451306700988, 1.3093467589683072, 0.43167150926014436, 1.1970973790054396, 1.2674337110879477, 0.467895380128654, 1.4156508271370816, 1.2283916061325624, 1.629451306700988, -0.07961568845698515, -0.528470011672296, 0.7049700684256084, -0.746254997001888, 1.577719181306876, 0.43167150926014436, 0.8187774543806438, 0.7799783546482715, 1.7501842776993057, -0.21682476089674385, -0.38029951340643287, -0.11195434226511418, 0.0932007214423289, 0.2826275401309898, 1.4672864282899818, 1.0524396063739558]}],                        {\"autosize\": true, \"font\": {\"color\": \"black\", \"family\": \"Gilroy\", \"size\": 12}, \"height\": 800, \"scene\": {\"xaxis\": {\"title\": {\"font\": {\"color\": \"black\"}, \"text\": \"Frequency\"}}, \"yaxis\": {\"title\": {\"font\": {\"color\": \"black\"}, \"text\": \"Moentary\"}}, \"zaxis\": {\"title\": {\"font\": {\"color\": \"black\"}, \"text\": \"Recency\"}}}, \"showlegend\": true, \"template\": {\"data\": {\"bar\": [{\"error_x\": {\"color\": \"#2a3f5f\"}, \"error_y\": {\"color\": \"#2a3f5f\"}, \"marker\": {\"line\": {\"color\": \"#E5ECF6\", \"width\": 0.5}}, \"type\": \"bar\"}], \"barpolar\": [{\"marker\": {\"line\": {\"color\": \"#E5ECF6\", \"width\": 0.5}}, \"type\": \"barpolar\"}], \"carpet\": [{\"aaxis\": {\"endlinecolor\": \"#2a3f5f\", \"gridcolor\": \"white\", \"linecolor\": \"white\", \"minorgridcolor\": \"white\", \"startlinecolor\": \"#2a3f5f\"}, \"baxis\": {\"endlinecolor\": \"#2a3f5f\", \"gridcolor\": \"white\", \"linecolor\": \"white\", \"minorgridcolor\": \"white\", \"startlinecolor\": \"#2a3f5f\"}, \"type\": \"carpet\"}], \"choropleth\": [{\"colorbar\": {\"outlinewidth\": 0, \"ticks\": \"\"}, \"type\": \"choropleth\"}], \"contour\": [{\"colorbar\": {\"outlinewidth\": 0, \"ticks\": \"\"}, \"colorscale\": [[0.0, \"#0d0887\"], [0.1111111111111111, \"#46039f\"], [0.2222222222222222, \"#7201a8\"], [0.3333333333333333, \"#9c179e\"], [0.4444444444444444, \"#bd3786\"], [0.5555555555555556, \"#d8576b\"], [0.6666666666666666, \"#ed7953\"], [0.7777777777777778, \"#fb9f3a\"], [0.8888888888888888, \"#fdca26\"], [1.0, \"#f0f921\"]], \"type\": \"contour\"}], \"contourcarpet\": [{\"colorbar\": {\"outlinewidth\": 0, \"ticks\": \"\"}, \"type\": \"contourcarpet\"}], \"heatmap\": [{\"colorbar\": {\"outlinewidth\": 0, \"ticks\": \"\"}, \"colorscale\": [[0.0, \"#0d0887\"], [0.1111111111111111, \"#46039f\"], [0.2222222222222222, \"#7201a8\"], [0.3333333333333333, \"#9c179e\"], [0.4444444444444444, \"#bd3786\"], [0.5555555555555556, \"#d8576b\"], [0.6666666666666666, \"#ed7953\"], [0.7777777777777778, \"#fb9f3a\"], [0.8888888888888888, \"#fdca26\"], [1.0, \"#f0f921\"]], \"type\": \"heatmap\"}], \"heatmapgl\": [{\"colorbar\": {\"outlinewidth\": 0, \"ticks\": \"\"}, \"colorscale\": [[0.0, \"#0d0887\"], [0.1111111111111111, \"#46039f\"], [0.2222222222222222, \"#7201a8\"], [0.3333333333333333, \"#9c179e\"], [0.4444444444444444, \"#bd3786\"], [0.5555555555555556, \"#d8576b\"], [0.6666666666666666, \"#ed7953\"], [0.7777777777777778, \"#fb9f3a\"], [0.8888888888888888, \"#fdca26\"], [1.0, \"#f0f921\"]], \"type\": \"heatmapgl\"}], \"histogram\": [{\"marker\": {\"colorbar\": {\"outlinewidth\": 0, \"ticks\": \"\"}}, \"type\": \"histogram\"}], \"histogram2d\": [{\"colorbar\": {\"outlinewidth\": 0, \"ticks\": \"\"}, \"colorscale\": [[0.0, \"#0d0887\"], [0.1111111111111111, \"#46039f\"], [0.2222222222222222, \"#7201a8\"], [0.3333333333333333, \"#9c179e\"], [0.4444444444444444, \"#bd3786\"], [0.5555555555555556, \"#d8576b\"], [0.6666666666666666, \"#ed7953\"], [0.7777777777777778, \"#fb9f3a\"], [0.8888888888888888, \"#fdca26\"], [1.0, \"#f0f921\"]], \"type\": \"histogram2d\"}], \"histogram2dcontour\": [{\"colorbar\": {\"outlinewidth\": 0, \"ticks\": \"\"}, \"colorscale\": [[0.0, \"#0d0887\"], [0.1111111111111111, \"#46039f\"], [0.2222222222222222, \"#7201a8\"], [0.3333333333333333, \"#9c179e\"], [0.4444444444444444, \"#bd3786\"], [0.5555555555555556, \"#d8576b\"], [0.6666666666666666, \"#ed7953\"], [0.7777777777777778, \"#fb9f3a\"], [0.8888888888888888, \"#fdca26\"], [1.0, \"#f0f921\"]], \"type\": \"histogram2dcontour\"}], \"mesh3d\": [{\"colorbar\": {\"outlinewidth\": 0, \"ticks\": \"\"}, \"type\": \"mesh3d\"}], \"parcoords\": [{\"line\": {\"colorbar\": {\"outlinewidth\": 0, \"ticks\": \"\"}}, \"type\": \"parcoords\"}], \"pie\": [{\"automargin\": true, \"type\": \"pie\"}], \"scatter\": [{\"marker\": {\"colorbar\": {\"outlinewidth\": 0, \"ticks\": \"\"}}, \"type\": \"scatter\"}], \"scatter3d\": [{\"line\": {\"colorbar\": {\"outlinewidth\": 0, \"ticks\": \"\"}}, \"marker\": {\"colorbar\": {\"outlinewidth\": 0, \"ticks\": \"\"}}, \"type\": \"scatter3d\"}], \"scattercarpet\": [{\"marker\": {\"colorbar\": {\"outlinewidth\": 0, \"ticks\": \"\"}}, \"type\": \"scattercarpet\"}], \"scattergeo\": [{\"marker\": {\"colorbar\": {\"outlinewidth\": 0, \"ticks\": \"\"}}, \"type\": \"scattergeo\"}], \"scattergl\": [{\"marker\": {\"colorbar\": {\"outlinewidth\": 0, \"ticks\": \"\"}}, \"type\": \"scattergl\"}], \"scattermapbox\": [{\"marker\": {\"colorbar\": {\"outlinewidth\": 0, \"ticks\": \"\"}}, \"type\": \"scattermapbox\"}], \"scatterpolar\": [{\"marker\": {\"colorbar\": {\"outlinewidth\": 0, \"ticks\": \"\"}}, \"type\": \"scatterpolar\"}], \"scatterpolargl\": [{\"marker\": {\"colorbar\": {\"outlinewidth\": 0, \"ticks\": \"\"}}, \"type\": \"scatterpolargl\"}], \"scatterternary\": [{\"marker\": {\"colorbar\": {\"outlinewidth\": 0, \"ticks\": \"\"}}, \"type\": \"scatterternary\"}], \"surface\": [{\"colorbar\": {\"outlinewidth\": 0, \"ticks\": \"\"}, \"colorscale\": [[0.0, \"#0d0887\"], [0.1111111111111111, \"#46039f\"], [0.2222222222222222, \"#7201a8\"], [0.3333333333333333, \"#9c179e\"], [0.4444444444444444, \"#bd3786\"], [0.5555555555555556, \"#d8576b\"], [0.6666666666666666, \"#ed7953\"], [0.7777777777777778, \"#fb9f3a\"], [0.8888888888888888, \"#fdca26\"], [1.0, \"#f0f921\"]], \"type\": \"surface\"}], \"table\": [{\"cells\": {\"fill\": {\"color\": \"#EBF0F8\"}, \"line\": {\"color\": \"white\"}}, \"header\": {\"fill\": {\"color\": \"#C8D4E3\"}, \"line\": {\"color\": \"white\"}}, \"type\": \"table\"}]}, \"layout\": {\"annotationdefaults\": {\"arrowcolor\": \"#2a3f5f\", \"arrowhead\": 0, \"arrowwidth\": 1}, \"autotypenumbers\": \"strict\", \"coloraxis\": {\"colorbar\": {\"outlinewidth\": 0, \"ticks\": \"\"}}, \"colorscale\": {\"diverging\": [[0, \"#8e0152\"], [0.1, \"#c51b7d\"], [0.2, \"#de77ae\"], [0.3, \"#f1b6da\"], [0.4, \"#fde0ef\"], [0.5, \"#f7f7f7\"], [0.6, \"#e6f5d0\"], [0.7, \"#b8e186\"], [0.8, \"#7fbc41\"], [0.9, \"#4d9221\"], [1, \"#276419\"]], \"sequential\": [[0.0, \"#0d0887\"], [0.1111111111111111, \"#46039f\"], [0.2222222222222222, \"#7201a8\"], [0.3333333333333333, \"#9c179e\"], [0.4444444444444444, \"#bd3786\"], [0.5555555555555556, \"#d8576b\"], [0.6666666666666666, \"#ed7953\"], [0.7777777777777778, \"#fb9f3a\"], [0.8888888888888888, \"#fdca26\"], [1.0, \"#f0f921\"]], \"sequentialminus\": [[0.0, \"#0d0887\"], [0.1111111111111111, \"#46039f\"], [0.2222222222222222, \"#7201a8\"], [0.3333333333333333, \"#9c179e\"], [0.4444444444444444, \"#bd3786\"], [0.5555555555555556, \"#d8576b\"], [0.6666666666666666, \"#ed7953\"], [0.7777777777777778, \"#fb9f3a\"], [0.8888888888888888, \"#fdca26\"], [1.0, \"#f0f921\"]]}, \"colorway\": [\"#636efa\", \"#EF553B\", \"#00cc96\", \"#ab63fa\", \"#FFA15A\", \"#19d3f3\", \"#FF6692\", \"#B6E880\", \"#FF97FF\", \"#FECB52\"], \"font\": {\"color\": \"#2a3f5f\"}, \"geo\": {\"bgcolor\": \"white\", \"lakecolor\": \"white\", \"landcolor\": \"#E5ECF6\", \"showlakes\": true, \"showland\": true, \"subunitcolor\": \"white\"}, \"hoverlabel\": {\"align\": \"left\"}, \"hovermode\": \"closest\", \"mapbox\": {\"style\": \"light\"}, \"paper_bgcolor\": \"white\", \"plot_bgcolor\": \"#E5ECF6\", \"polar\": {\"angularaxis\": {\"gridcolor\": \"white\", \"linecolor\": \"white\", \"ticks\": \"\"}, \"bgcolor\": \"#E5ECF6\", \"radialaxis\": {\"gridcolor\": \"white\", \"linecolor\": \"white\", \"ticks\": \"\"}}, \"scene\": {\"xaxis\": {\"backgroundcolor\": \"#E5ECF6\", \"gridcolor\": \"white\", \"gridwidth\": 2, \"linecolor\": \"white\", \"showbackground\": true, \"ticks\": \"\", \"zerolinecolor\": \"white\"}, \"yaxis\": {\"backgroundcolor\": \"#E5ECF6\", \"gridcolor\": \"white\", \"gridwidth\": 2, \"linecolor\": \"white\", \"showbackground\": true, \"ticks\": \"\", \"zerolinecolor\": \"white\"}, \"zaxis\": {\"backgroundcolor\": \"#E5ECF6\", \"gridcolor\": \"white\", \"gridwidth\": 2, \"linecolor\": \"white\", \"showbackground\": true, \"ticks\": \"\", \"zerolinecolor\": \"white\"}}, \"shapedefaults\": {\"line\": {\"color\": \"#2a3f5f\"}}, \"ternary\": {\"aaxis\": {\"gridcolor\": \"white\", \"linecolor\": \"white\", \"ticks\": \"\"}, \"baxis\": {\"gridcolor\": \"white\", \"linecolor\": \"white\", \"ticks\": \"\"}, \"bgcolor\": \"#E5ECF6\", \"caxis\": {\"gridcolor\": \"white\", \"linecolor\": \"white\", \"ticks\": \"\"}}, \"title\": {\"x\": 0.05}, \"xaxis\": {\"automargin\": true, \"gridcolor\": \"white\", \"linecolor\": \"white\", \"ticks\": \"\", \"title\": {\"standoff\": 15}, \"zerolinecolor\": \"white\", \"zerolinewidth\": 2}, \"yaxis\": {\"automargin\": true, \"gridcolor\": \"white\", \"linecolor\": \"white\", \"ticks\": \"\", \"title\": {\"standoff\": 15}, \"zerolinecolor\": \"white\", \"zerolinewidth\": 2}}}, \"width\": 800},                        {\"responsive\": true}                    ).then(function(){\n",
              "                            \n",
              "var gd = document.getElementById('d14f28cd-a8d6-46ee-9872-e6ee192ca379');\n",
              "var x = new MutationObserver(function (mutations, observer) {{\n",
              "        var display = window.getComputedStyle(gd).display;\n",
              "        if (!display || display === 'none') {{\n",
              "            console.log([gd, 'removed!']);\n",
              "            Plotly.purge(gd);\n",
              "            observer.disconnect();\n",
              "        }}\n",
              "}});\n",
              "\n",
              "// Listen for the removal of the full notebook cells\n",
              "var notebookContainer = gd.closest('#notebook-container');\n",
              "if (notebookContainer) {{\n",
              "    x.observe(notebookContainer, {childList: true});\n",
              "}}\n",
              "\n",
              "// Listen for the clearing of the current output cell\n",
              "var outputEl = gd.closest('.output');\n",
              "if (outputEl) {{\n",
              "    x.observe(outputEl, {childList: true});\n",
              "}}\n",
              "\n",
              "                        })                };                            </script>        </div>\n",
              "</body>\n",
              "</html>"
            ]
          },
          "metadata": {
            "tags": []
          }
        }
      ]
    },
    {
      "cell_type": "markdown",
      "metadata": {
        "id": "ZM6M9pPqrVFW"
      },
      "source": [
        "### Conclusion\n",
        "RFM technique is a proven marketing model that helps retailers and e-commerce businesses maximize the return on their marketing investments.\n",
        "The above-generated RFM customer segments can be easily used to identify high Region of Interest segments and engage them with personalized offers."
      ]
    }
  ]
}